{
 "cells": [
  {
   "cell_type": "code",
   "execution_count": 149,
   "metadata": {},
   "outputs": [],
   "source": [
    "import torch\n",
    "import torch.nn as nn\n",
    "import torch.nn.functional as F\n",
    "import torch.optim as optim\n",
    "from torch.autograd import Variable\n",
    "import numpy as np\n",
    "import matplotlib.pyplot as plt\n",
    "from math import gamma\n",
    "from TLPP_Generation import Logic_Model_Generator\n",
    "from tqdm import *\n",
    "import itertools\n",
    "#import scienceplots\n",
    "#plt.style.use(['science','no-latex','grid'])\n",
    "\n",
    "class LSTM_Encoding_Action(nn.Module):\n",
    "\n",
    "    '''\n",
    "    input: [batch_size, num_predicate, seq_length]\n",
    "    Parameters:\n",
    "        input_size:\n",
    "        hidden_size:\n",
    "        output_size:\n",
    "        num_layers:\n",
    "    '''\n",
    "\n",
    "    def __init__(self, input_size, hidden_size, output_size, batch_size, device, num_layers:int = 1) -> None:\n",
    "        super().__init__()\n",
    "\n",
    "        self.device = device\n",
    "        self.input_size = input_size\n",
    "        self.hidden_size = hidden_size\n",
    "        self.num_layers = num_layers\n",
    "        self.output_size = output_size\n",
    "        self.num_directions = 1 # one-directional LSTM\n",
    "        self.batch_size = batch_size\n",
    "        self.lstm = nn.LSTM(self.input_size, self.hidden_size, self.num_layers, batch_first=True)\n",
    "        self.linear = nn.Linear(self.hidden_size, self.output_size)\n",
    "\n",
    "    def forward(self, x:torch.tensor):\n",
    "        batch_size, num_predicate, seq_length = x.shape\n",
    "        h_0 = torch.randn(self.num_directions * self.num_layers, self.batch_size, self.hidden_size).to(self.device)\n",
    "        c_0 = torch.randn(self.num_directions * self.num_layers, self.batch_size, self.hidden_size).to(self.device)\n",
    "        x, _  = self.lstm(x, (h_0, c_0)) #NOTE: x:(batch_size, seq_length, num_directions * hidden_size)\n",
    "        x = self.linear(x)\n",
    "        x = x.view(batch_size, num_predicate, -1)\n",
    "        return x\n",
    "\n",
    "\n",
    "class LSTM_Encoding_History(nn.Module):\n",
    "\n",
    "    '''\n",
    "    NOTE:Returns a categorical distribution\n",
    "\n",
    "    Parameters:\n",
    "        input_size:\n",
    "        hidden_size:\n",
    "        output_size:\n",
    "        num_layers\n",
    "    '''\n",
    "\n",
    "    def __init__(self, input_size, hidden_size, output_size, batch_size, device, num_layers: int = 1) -> None:\n",
    "        super().__init__()\n",
    "\n",
    "        self.device = device\n",
    "        self.input_size = input_size\n",
    "        self.hidden_size = hidden_size\n",
    "        self.num_layers = num_layers\n",
    "        self.output_size = output_size\n",
    "        self.num_directions = 1 # one-directional LSTM\n",
    "        self.batch_size = batch_size\n",
    "        self.lstm = nn.LSTM(self.input_size, self.hidden_size, self.num_layers, batch_first=True)\n",
    "        self.linear = nn.Linear(self.hidden_size, self.output_size)\n",
    "        self.softmax = nn.Softmax(dim=-1)\n",
    "\n",
    "    def forward(self, x:torch.tensor, action_embedding: torch.tensor):\n",
    "        '''\n",
    "        Parameters:\n",
    "            x: mental history\n",
    "            action_embedding: encoding of action history. This should be the output of LSTM_Encoding_Action\n",
    "        '''\n",
    "        batch_size, num_predicate, seq_length = x.shape\n",
    "        h_0 = torch.randn(self.num_directions * self.num_layers, self.batch_size, self.hidden_size).to(self.device)\n",
    "        c_0 = torch.randn(self.num_directions * self.num_layers, self.batch_size, self.hidden_size).to(self.device)\n",
    "        x, _ = self.lstm(x,(h_0,c_0))                              #NOTE: x:(batch_size, seq_length, num_directions * hidden_size)\n",
    "        x = torch.concat(tensors=[x, action_embedding], dim=1)     #NOTE: concatenate the action info and the mental info\n",
    "        batch_size, num_predicate, hidden_size = x.shape           #NOTE: num_predicate is changed\n",
    "        x = self.linear(x)                                         #NOTE: x:(batch_size, seq_length, num_directions * output_size)\n",
    "        x = x.view(batch_size, num_predicate, -1)\n",
    "        #TODO: return a vector with dimension (I+1), (I represents the number of types of mental states)\n",
    "        #TODO: the i-th (i=0,1,2,...,I) component of the output x represents the probability of the i-th mental type\n",
    "        x = self.softmax(x)\n",
    "        return x.view(batch_size,-1,self.output_size).mean(axis=1)\n",
    "        \n",
    "class Logic_Model_Incomplete_Data:\n",
    "\n",
    "    def __init__(self, time_horizon:float, action_history:dict, hidden_size:tuple, output_size:tuple, batch_size:int, partition_size:float=0.1, device:str='cuda', num_layers:tuple=(1,1)) -> None:\n",
    "        \n",
    "        self.time_horizon = time_horizon\n",
    "        self.partition_size = partition_size            # num of small time intervals\n",
    "        self.action_history = action_history\n",
    "        self.hidden_size = hidden_size\n",
    "        self.output_size = output_size\n",
    "        self.batch_size = batch_size\n",
    "        self.device = device\n",
    "        self.num_layers = num_layers                    # num_layers of LSTMs\n",
    "        #TODO:\n",
    "        ### the following parameters are used to manually define the logic rules\n",
    "        self.num_predicate = 3                  # num_predicate is same as num_node\n",
    "        self.num_formula = 3                    # num of prespecified logic rules\n",
    "        self.BEFORE = 'BEFORE'\n",
    "        self.EQUAL = 'EQUAL'\n",
    "        self.AFTER = 'AFTER'\n",
    "        self.Time_tolerance = 0.6               \n",
    "        self.body_predicate_set = []                        # the index set of all body predicates\n",
    "        self.mental_predicate_set = [0]\n",
    "        self.action_predicate_set = [1, 2]\n",
    "        self.head_predicate_set = [0, 1, 2]     # the index set of all head predicates\n",
    "        self.decay_rate = 1                                 # decay kernel\n",
    "        self.integral_resolution = 0.03\n",
    "\n",
    "        #TODO: convert the action_history:dict to a numpy array 'processed_data':np.array to put in the LSTMs\n",
    "        self.processed_data = self.process_data(action_history=self.action_history).to(device)\n",
    "        self.INPUT_SIZE_A = self.processed_data.shape[-1]\n",
    "        #self.INPUT_SIZE_M = int(self.time_horizon / self.partition_size)\n",
    "\n",
    "        #TODO: construct two LSTMs to encode the past history\n",
    "        #NOTE: encoding action history\n",
    "        self.LSTM_Action = LSTM_Encoding_Action(input_size=self.INPUT_SIZE_A,hidden_size=hidden_size[0],output_size=output_size[0],batch_size=batch_size,device=device,num_layers=self.num_layers[0])\n",
    "        self.LSTM_Action.to(device)\n",
    "        #NOTE: encoding whole history\n",
    "        self.LSTM_History = LSTM_Encoding_History(input_size=len(self.mental_predicate_set),hidden_size=hidden_size[1],output_size=output_size[1],batch_size=batch_size ,device=device,num_layers=self.num_layers[1])\n",
    "        self.LSTM_History.to(device)\n",
    "\n",
    "\n",
    "        ### the following parameters are used to generate synthetic data\n",
    "        ### for the learning part, the following is used to claim variables\n",
    "        ### self.model_parameter = {0:{},1:{},...,6:{}}\n",
    "        self.model_parameter = {}\n",
    "\n",
    "\n",
    "        '''\n",
    "        mental\n",
    "        '''\n",
    "\n",
    "        head_predicate_idx = 0\n",
    "        self.model_parameter[head_predicate_idx] = {}\n",
    "        self.model_parameter[head_predicate_idx]['base'] = torch.autograd.Variable((torch.ones(1) * -0.3).double(), requires_grad=True)\n",
    "\n",
    "        formula_idx = 0\n",
    "        self.model_parameter[head_predicate_idx][formula_idx] = {}\n",
    "        self.model_parameter[head_predicate_idx][formula_idx]['weight'] = torch.autograd.Variable((torch.ones(1) * 0.01).double(), requires_grad=True)\n",
    "\n",
    "\n",
    "        '''\n",
    "        action\n",
    "        '''\n",
    "        head_predicate_idx = 1\n",
    "        self.model_parameter[head_predicate_idx] = {}\n",
    "        self.model_parameter[head_predicate_idx]['base'] = torch.autograd.Variable((torch.ones(1) * -0.3).double(), requires_grad=True)\n",
    "\n",
    "        formula_idx = 0\n",
    "        self.model_parameter[head_predicate_idx][formula_idx] = {}\n",
    "        self.model_parameter[head_predicate_idx][formula_idx]['weight'] = torch.autograd.Variable((torch.ones(1) * 0.02).double(), requires_grad=True)\n",
    "\n",
    "        head_predicate_idx = 2\n",
    "        self.model_parameter[head_predicate_idx] = {}\n",
    "        self.model_parameter[head_predicate_idx]['base'] = torch.autograd.Variable((torch.ones(1) * -0.2).double(), requires_grad=True)\n",
    "\n",
    "        formula_idx = 0\n",
    "        self.model_parameter[head_predicate_idx][formula_idx] = {}\n",
    "        self.model_parameter[head_predicate_idx][formula_idx]['weight'] = torch.autograd.Variable((torch.ones(1) * 0.1).double(), requires_grad=True)\n",
    "\n",
    "\n",
    "\n",
    "        #NOTE: set the content of logic rules\n",
    "        self.logic_template = self.logic_rule()\n",
    "\n",
    "    def logic_rule(self):\n",
    "        #TODO: the logic rules encode the prior knowledge\n",
    "        # encode rule information\n",
    "        '''\n",
    "        This function encodes the content of logic rules\n",
    "        logic_template = {0:{},1:{},...,6:{}}\n",
    "        '''\n",
    "        logic_template = {}\n",
    "\n",
    "\n",
    "        '''\n",
    "        Mental (0-2)\n",
    "        '''\n",
    "\n",
    "        head_predicate_idx = 0\n",
    "        logic_template[head_predicate_idx] = {} # here 0 is the index of the head predicate; we could have multiple head predicates\n",
    "\n",
    "        #NOTE: rule content: 1 and 2 and before(1, 0) and before(2,0) \\to \\neg 0\n",
    "        formula_idx = 0\n",
    "        logic_template[head_predicate_idx][formula_idx] = {}\n",
    "        logic_template[head_predicate_idx][formula_idx]['body_predicate_idx'] = [1, 2]\n",
    "        logic_template[head_predicate_idx][formula_idx]['body_predicate_sign'] = [1, 1]  # use 1 to indicate True; use -1 to indicate False\n",
    "        logic_template[head_predicate_idx][formula_idx]['head_predicate_sign'] = [-1]\n",
    "        logic_template[head_predicate_idx][formula_idx]['temporal_relation_idx'] = [[1, 0], [2, 0]]\n",
    "        logic_template[head_predicate_idx][formula_idx]['temporal_relation_type'] = [self.BEFORE, self.BEFORE]\n",
    "\n",
    "\n",
    "        '''\n",
    "        Action (3-6)\n",
    "        '''\n",
    "        head_predicate_idx = 1\n",
    "        logic_template[head_predicate_idx] = {}  # here 1 is the index of the head predicate; we could have multiple head predicates\n",
    "\n",
    "        #NOTE: rule content: 0 and before(0,1) to 1\n",
    "        formula_idx = 0\n",
    "        logic_template[head_predicate_idx][formula_idx] = {}\n",
    "        logic_template[head_predicate_idx][formula_idx]['body_predicate_idx'] = [0]\n",
    "        logic_template[head_predicate_idx][formula_idx]['body_predicate_sign'] = [1]\n",
    "        logic_template[head_predicate_idx][formula_idx]['head_predicate_sign'] = [1]\n",
    "        logic_template[head_predicate_idx][formula_idx]['temporal_relation_idx'] = [[0, 1]]\n",
    "        logic_template[head_predicate_idx][formula_idx]['temporal_relation_type'] = [self.BEFORE]\n",
    "\n",
    "\n",
    "        head_predicate_idx = 2\n",
    "        logic_template[head_predicate_idx] = {}  # here 2 is the index of the head predicate; we could have multiple head predicates\n",
    "\n",
    "        #NOTE: rule content: 0 and equal(0,2) to 2\n",
    "        formula_idx = 0\n",
    "        logic_template[head_predicate_idx][formula_idx] = {}\n",
    "        logic_template[head_predicate_idx][formula_idx]['body_predicate_idx'] = [0]\n",
    "        logic_template[head_predicate_idx][formula_idx]['body_predicate_sign'] = [1]\n",
    "        logic_template[head_predicate_idx][formula_idx]['head_predicate_sign'] = [1]\n",
    "        logic_template[head_predicate_idx][formula_idx]['temporal_relation_idx'] = [[0, 2]]\n",
    "        logic_template[head_predicate_idx][formula_idx]['temporal_relation_type'] = [self.EQUAL]\n",
    "\n",
    "\n",
    "        return logic_template\n",
    "\n",
    "    def intensity(self, cur_time, head_predicate_idx, history)->torch.tensor:\n",
    "        feature_formula = []\n",
    "        weight_formula = []\n",
    "        effect_formula = []\n",
    "        #TODO: Check if the head_prediate is a mental predicate\n",
    "        if head_predicate_idx in self.mental_predicate_set: flag = 0\n",
    "        else: flag = 1  #NOTE: action\n",
    "\n",
    "        for formula_idx in list(self.logic_template[head_predicate_idx].keys()):\n",
    "            weight_formula.append(self.model_parameter[head_predicate_idx][formula_idx]['weight'])\n",
    "\n",
    "            feature_formula.append(self.get_feature(cur_time=cur_time, head_predicate_idx=head_predicate_idx,\n",
    "                                                    history=history, template=self.logic_template[head_predicate_idx][formula_idx], flag=flag))\n",
    "            effect_formula.append(self.get_formula_effect(cur_time=cur_time, head_predicate_idx=head_predicate_idx,\n",
    "                                                       history=history, template=self.logic_template[head_predicate_idx][formula_idx]))\n",
    "        intensity = torch.exp(torch.cat(weight_formula, dim=0)) * torch.cat(feature_formula, dim=0) * torch.cat(effect_formula, dim=0)\n",
    "        intensity = self.model_parameter[head_predicate_idx]['base'] + torch.sum(intensity)\n",
    "        intensity = torch.exp(intensity)\n",
    "        #print(head_predicate_idx, intensity)\n",
    "\n",
    "        return intensity\n",
    "\n",
    "    def get_feature(self, cur_time, head_predicate_idx, history, template, flag:int):\n",
    "        #NOTE: flag: 0 or 1, denotes the head_predicate_idx is a mental or an action\n",
    "        #NOTE: 0 for mental and 1 for action\n",
    "        #NOTE: since for mental, we need to go through all the history information\n",
    "        #NOTE: while for action, we only care about the current time information\n",
    "        \n",
    "        transition_time_dic = {}\n",
    "        feature = torch.tensor([0], dtype=torch.float64)\n",
    "        for idx, body_predicate_idx in enumerate(template['body_predicate_idx']):\n",
    "            transition_time = np.array(history[body_predicate_idx]['time'])\n",
    "            transition_state = np.array(history[body_predicate_idx]['state'])\n",
    "            mask = (transition_time <= cur_time) * (transition_state == template['body_predicate_sign'][idx])\n",
    "            transition_time_dic[body_predicate_idx] = transition_time[mask]\n",
    "        transition_time_dic[head_predicate_idx] = [cur_time]\n",
    "        ### get weights\n",
    "        # compute features whenever any item of the transition_item_dic is nonempty\n",
    "        history_transition_len = [len(i) for i in transition_time_dic.values()]\n",
    "        if min(history_transition_len) > 0:\n",
    "            # need to compute feature using logic rules\n",
    "            time_combination = np.array(list(itertools.product(*transition_time_dic.values())))\n",
    "            time_combination_dic = {}\n",
    "            for i, idx in enumerate(list(transition_time_dic.keys())):\n",
    "                #TODO: this is where we distinguish mental and action\n",
    "                time_combination_dic[idx] = time_combination[:, i] if flag == 0 else time_combination[-1, i]\n",
    "            temporal_kernel = np.ones(len(time_combination))\n",
    "            for idx, temporal_relation_idx in enumerate(template['temporal_relation_idx']):       \n",
    "                #TODO: checkpoint\n",
    "                #print('head_predicate_idx: {}; temporal_relation_idx[0]: {}, temporal_relation_idx[1]: {}'.format(head_predicate_idx, temporal_relation_idx[0], temporal_relation_idx[1]))\n",
    "                #print('temporal combination dict: {}'.format(time_combination_dic))\n",
    "         \n",
    "                time_difference = time_combination_dic[temporal_relation_idx[0]] - time_combination_dic[temporal_relation_idx[1]]\n",
    "                if template['temporal_relation_type'][idx] == 'BEFORE':\n",
    "                    temporal_kernel *= (time_difference < - self.Time_tolerance) * np.exp(-self.decay_rate *(cur_time - time_combination_dic[temporal_relation_idx[0]]))\n",
    "                if template['temporal_relation_type'][idx] == 'EQUAL':\n",
    "                    temporal_kernel *= (abs(time_difference) <= self.Time_tolerance) * np.exp(-self.decay_rate*(cur_time - time_combination_dic[temporal_relation_idx[0]]))\n",
    "                if template['temporal_relation_type'][idx] == 'AFTER':\n",
    "                    temporal_kernel *= (time_difference > self.Time_tolerance) * np.exp(-self.decay_rate*(cur_time - time_combination_dic[temporal_relation_idx[1]]))\n",
    "            feature = torch.tensor([np.sum(temporal_kernel)], dtype=torch.float64)\n",
    "        return feature\n",
    "\n",
    "    def get_formula_effect(self, cur_time, head_predicate_idx, history, template):\n",
    "        ## Note this part is very important!! For generator, this should be np.sum(cur_time > head_transition_time) - 1\n",
    "        ## Since at the transition times, choose the intensity function right before the transition time\n",
    "        head_transition_time = np.array(history[head_predicate_idx]['time'])\n",
    "        head_transition_state = np.array(history[head_predicate_idx]['state'])\n",
    "        if len(head_transition_time) == 0:\n",
    "            cur_state = 0\n",
    "            counter_state = 1 - cur_state\n",
    "        else:\n",
    "            idx = np.sum(cur_time > head_transition_time) - 1\n",
    "            cur_state = head_transition_state[idx]\n",
    "            counter_state = 1 - cur_state\n",
    "        if counter_state == template['head_predicate_sign']:\n",
    "            formula_effect = torch.tensor([1], dtype=torch.float64)\n",
    "        else:\n",
    "            formula_effect = torch.tensor([-1], dtype=torch.float64)\n",
    "        return formula_effect\n",
    "\n",
    "    def log_likelihood(self, dataset, sample_ID_batch, T_max)->torch.tensor:\n",
    "        '''\n",
    "        This function calculates the log-likehood given the dataset\n",
    "        log-likelihood = \\sum log(intensity(transition_time)) + int_0^T intensity dt\n",
    "\n",
    "        Parameters:\n",
    "            dataset: \n",
    "            sample_ID_batch: list\n",
    "            T_max:\n",
    "        '''\n",
    "        log_likelihood = torch.tensor([0], dtype=torch.float64)\n",
    "        # iterate over samples\n",
    "        for sample_ID in sample_ID_batch:\n",
    "            # iterate over head predicates; each predicate corresponds to one intensity\n",
    "            data_sample = dataset[sample_ID]\n",
    "            for head_predicate_idx in self.head_predicate_set:\n",
    "                #NOTE: compute the summation of log intensities at the transition times\n",
    "                intensity_log_sum = self.intensity_log_sum(head_predicate_idx, data_sample)\n",
    "                #NOTE: compute the integration of intensity function over the time horizon\n",
    "                intensity_integral = self.intensity_integral(head_predicate_idx, data_sample, T_max)\n",
    "                log_likelihood += (intensity_log_sum - intensity_integral)\n",
    "                #print(intensity_integral)\n",
    "                #print(head_predicate_idx,data_sample,intensity_integral)\n",
    "                #print(log_likelihood)\n",
    "        return log_likelihood\n",
    "\n",
    "    def intensity_log_sum(self, head_predicate_idx, data_sample):\n",
    "        intensity_transition = []\n",
    "        for t in data_sample[head_predicate_idx]['time'][1:]:\n",
    "            #NOTE: compute the intensity at transition times\n",
    "            cur_intensity:torch.tensor = self.intensity(t, head_predicate_idx, data_sample)\n",
    "            intensity_transition.append(cur_intensity)\n",
    "        if len(intensity_transition) == 0: # only survival term, no event happens\n",
    "            log_sum = torch.tensor([0], dtype=torch.float64)\n",
    "        else:\n",
    "            log_sum = torch.sum(torch.log(torch.cat(intensity_transition, dim=0)))\n",
    "        return log_sum\n",
    "\n",
    "    def intensity_integral(self, head_predicate_idx, data_sample, T_max):\n",
    "        start_time = 0\n",
    "        end_time = T_max\n",
    "        intensity_grid = []\n",
    "        for t in np.arange(start_time, end_time, self.integral_resolution):\n",
    "            #NOTE: evaluate the intensity values at the chosen time points\n",
    "            cur_intensity:torch.Tensor = self.intensity(t, head_predicate_idx, data_sample)\n",
    "            intensity_grid.append(cur_intensity)\n",
    "        #NOTE: approximately calculate the integral\n",
    "        integral = torch.sum(torch.cat(intensity_grid, dim=0) * self.integral_resolution)\n",
    "        return integral\n",
    "\n",
    "    def process_data(self, action_history:dict)->torch.tensor:\n",
    "        '''\n",
    "        Parameters:\n",
    "            action_history: dict\n",
    "        '''\n",
    "        #TODO: convert the action sequences into a numpy array\n",
    "        #NOTE: action_history = {\n",
    "        #                       3: {...}\n",
    "        #                       4: {...}\n",
    "        #                       5: {...}\n",
    "        #                       6: {...}\n",
    "        #                       }\n",
    "        # \"...\" stands for transition times for predicate 3,4,5,6. Recall that 3,4,5,6 are all action predicates\n",
    "        result = []\n",
    "        max_action_transition_time_length = 0       #NOTE: record the length of the transition time\n",
    "        for sample_id in action_history:            #NOTE: batch\n",
    "            for action_predicate_idx in self.action_predicate_set:\n",
    "                #print(sample_id, action_predicate_idx)\n",
    "                time = action_history[sample_id][action_predicate_idx]['time'][1:]\n",
    "                tmp = len(time)\n",
    "                if tmp > max_action_transition_time_length: max_action_transition_time_length = tmp\n",
    "                result.append(time)\n",
    "        #print(result)\n",
    "        #NOTE: shape (batch_size:len(action_history), num_predicate:len(self.action_predicate_set), seq_length:max_action_transition_time_length)\n",
    "        data = np.zeros(shape=(len(action_history),len(self.action_predicate_set),max_action_transition_time_length))\n",
    "        #TODO: store the action history in a tensor\n",
    "        for batch in range(data.shape[0]):\n",
    "            for row in range(data.shape[1]): \n",
    "                data[batch, row, :len(result[(batch+1)*row])] = result[(batch+1)*row]\n",
    "        return torch.tensor(data).float()\n",
    "\n",
    "    def ELBO(self, sample_ID_batch:list, temperature:float=1.0, device='cuda')->torch.tensor:\n",
    "        #TODO: compute the ELBO. \n",
    "        #TODO: Maximize the ELBO is equivalent to minimize the KL divergence between the variational posterior and the true posterior\n",
    "        #NOTE: in order to compute the ELBO, we need to 1. be able to sample from the variational posterior; 2. compute the entropy of q\n",
    "        \n",
    "        '''\n",
    "        compute the ELBO (MC estimate)\n",
    "\n",
    "        Parameters:\n",
    "            sample_ID_batch: the collection of batch indices\n",
    "            action_history: action information\n",
    "            temperature: \n",
    "        '''\n",
    "\n",
    "        #NOTE: we add a small time shift 1e-4 so that we can include the end time point in 'time_intervals'\n",
    "        time_intervals = np.arange(0,self.time_horizon+1e-4,step=self.partition_size)\n",
    "        #print(time_intervals) #NOTE: checkpoint\n",
    "\n",
    "        #TODO: initialize. Store the complete data\n",
    "        complete_history = dict([(sample_id, self.action_history[sample_id]) for sample_id in sample_ID_batch])\n",
    "        for sample_id in complete_history:\n",
    "            for mental_predicate_idx in self.mental_predicate_set:\n",
    "                complete_history[sample_id][mental_predicate_idx] = {}\n",
    "                complete_history[sample_id][mental_predicate_idx]['time'] = [0]\n",
    "                complete_history[sample_id][mental_predicate_idx]['state'] = [0]\n",
    "        #print(complete_history) #NOTE: checkpoint\n",
    "        #TODO: initilize, store mental history, this will be fed into the LSTM\n",
    "        mental_history = torch.zeros(size=(len(sample_ID_batch),1,len(self.mental_predicate_set))).to(device)\n",
    "\n",
    "        ELBO = (torch.zeros(size=(1,self.batch_size))).to(device)    #NOTE: initialize ELBO\n",
    "        \n",
    "        #TODO: encode the mental history\n",
    "        h_a = self.LSTM_Action.forward(self.processed_data[sample_ID_batch,:,:]) #h_a (batch_size, num_predicate, output_size=hidden_size_m)\n",
    "        for i in range(len(time_intervals)-1):\n",
    "            #TODO: encode the mental history before the i-th time interval (LSTMs) -> categorical distribution -> prob\n",
    "            # prob (batch_size, 1, num_mental_predicate+1)\n",
    "            prob:torch.tensor = self.LSTM_History.forward(x=mental_history,action_embedding=h_a)\n",
    "            #print(prob)\n",
    "\n",
    "            #TODO: ELBO = ELBO + self.entropy_variational posterior\n",
    "            ELBO += self.entropy_variational_posterior(prob,device=device)\n",
    "            #print(ELBO)\n",
    "\n",
    "            # logits (batch_size, 1, num_mental_predicate+1)\n",
    "            logits:torch.tensor = torch.log(prob)\n",
    "            #TODO: draw hard samples. post_samples = self.sample_variational_posterior_hard(size = sample_size, prob = prob)\n",
    "            post_samples:torch.tensor = self.sample_variational_posterior(size=1,logits=logits,temperature=temperature,hard=True)\n",
    "            #print(post_samples)\n",
    "\n",
    "            #TODO: after sampling the mental transition time, update the history information\n",
    "            event_time = (time_intervals[i] + time_intervals[i+1])/2\n",
    "            event_time += np.random.normal(loc=0,scale=event_time/8)\n",
    "            _, indices = post_samples.max(dim=2)\n",
    "            indices = indices.detach().cpu().numpy().squeeze()\n",
    "            #print(indices)\n",
    "            new_mental_information = torch.zeros(size=(len(sample_ID_batch),1,len(self.mental_predicate_set))).to(device)\n",
    "            #print(new_mental_information)\n",
    "\n",
    "            for batch_idx, idx in enumerate(indices):\n",
    "                if idx == 0: continue   #NOTE: no mental\n",
    "                #TODO: We have mental; update the mental history\n",
    "                new_mental_information[batch_idx,0,idx-1] = event_time\n",
    "                #TODO: update the complete history, which is a dict\n",
    "                sample_id = sample_ID_batch[batch_idx]\n",
    "                complete_history[sample_id][idx-1]['time'].append(event_time)\n",
    "                #print(idx-1)   #NOTE: checkpoint\n",
    "                if complete_history[sample_id][idx-1]['state'][-1] == 0: complete_history[sample_id][idx-1]['state'].append(1)\n",
    "                else: complete_history[sample_id][idx-1]['state'].append(0)\n",
    "            #print(new_mental_information) #NOTE:checkpoint\n",
    "            #TODO: update mental_history\n",
    "            #mental_history = torch.concat([mental_history,new_mental_information],dim=1)\n",
    "        #print(complete_history)\n",
    "\n",
    "        ELBO = torch.sum(ELBO)\n",
    "        #print(ELBO)\n",
    "\n",
    "        for idx, batch_idx in enumerate(sample_ID_batch):\n",
    "            #print(self.log_likelihood(dataset=complete_history,sample_ID_batch=[batch_idx],T_max=self.time_horizon).to(device))\n",
    "            ELBO += self.log_likelihood(dataset=complete_history,sample_ID_batch=[batch_idx],T_max=self.time_horizon).squeeze().to(device)\n",
    "        #print(ELBO)\n",
    "        #TODO: return ELBO\n",
    "        return ELBO/len(sample_ID_batch)\n",
    "\n",
    "    def sample_variational_posterior(self, size:int, logits: torch.tensor, temperature:float=1.0, hard=False)->torch.tensor:\n",
    "        #TODO: use gumbel-max trick to explicitly sample from the variational posterior defined by LSTMs, which is a categorical distribution\n",
    "        '''\n",
    "        draw explicit samples from variational posterior\n",
    "\n",
    "        Parameters:\n",
    "            size: number of samples\n",
    "            logits: \n",
    "            hard: boolean\n",
    "        '''\n",
    "    \n",
    "        result = []\n",
    "        for i in range(size):\n",
    "            tmp = self.gumbel_softmax(logits,temperature,hard)\n",
    "            result.append(tmp)\n",
    "        #NOTE: return one-hot vectors.\n",
    "        #print(result)\n",
    "        result = torch.stack(result,dim=0)\n",
    "        return result\n",
    "\n",
    "    def sample_Gumble(self, shape, eps:float=1e-20):\n",
    "        #TODO: sample from Gumbel(0,1). This is needed when we want to explicitly sample from the variational posterior\n",
    "        '''\n",
    "        Sample from Gumbel(0,1) with shape = 'shape'\n",
    "\n",
    "        Parameters:\n",
    "            shape: \n",
    "            eps: small perturbation to avoid log(0)\n",
    "            tens_type: \n",
    "        '''\n",
    "\n",
    "        U = torch.rand(shape)\n",
    "        U = U.cuda()\n",
    "        return -torch.log(-torch.log(U+eps)+eps)\n",
    "\n",
    "    def sample_Gumble_softmax(self, logits:torch.tensor, temperature=1.0):\n",
    "        #TODO: sample from the gumbel-softmax distribution\n",
    "        '''\n",
    "        Parameters:\n",
    "            prob: \n",
    "            temperature:\n",
    "        '''\n",
    "        y = logits + self.sample_Gumble(logits.shape)\n",
    "        return F.softmax(y/temperature,dim=-1)\n",
    "\n",
    "    def gumbel_softmax(self, logits:torch.tensor, temperature:float=1.0, hard=False):\n",
    "        #TODO: ST-gumbel-softmax\n",
    "        \"\"\"\n",
    "        ST-gumple-softmax\n",
    "        input: [*, n_class]\n",
    "        return: flatten --> [*, n_class] an one-hot vector\n",
    "        \"\"\"\n",
    "\n",
    "        y = self.sample_Gumble_softmax(logits,temperature)\n",
    "        if not hard: return y\n",
    "        shape = y.size()\n",
    "        _, idx = y.max(dim=-1)\n",
    "        y_hard = torch.zeros_like(y).view(-1,shape[-1])\n",
    "        y_hard.scatter_(1, idx.view(-1,1), 1)\n",
    "        y_hard = y_hard.view(*shape)\n",
    "        y_hard = (y_hard - y).detach() + y\n",
    "        return y_hard\n",
    "\n",
    "    def entropy_variational_posterior(self, prob:torch.tensor, device='cuda')->float:\n",
    "        #TODO: calculate the entropy of the variational posterior\n",
    "        #TODO: the variational posterior is a categorical distribution\n",
    "        '''\n",
    "        Parameters:\n",
    "            prob (batch_size, num_mental_states+1): probabilities for each category\n",
    "        '''\n",
    "        result = -torch.log(prob) * prob\n",
    "        result = torch.sum(result,dim=1)\n",
    "        #print(result)\n",
    "        return result\n",
    "\n",
    "    def optimize_ELBO(self, temperature, device, sample_ID_batch, optimizer_psi, optimizer_theta):\n",
    "        optimizer_theta.zero_grad()  # set gradient zero at the start of a new mini-batch\n",
    "        optimizer_psi.zero_grad()\n",
    "        #TODO: the loss function is just the -ELBO, since minimize the loss is equivalent to minimize the KL-divergence\n",
    "        loss = -self.ELBO(sample_ID_batch, temperature, device)\n",
    "        loss.backward()\n",
    "        optimizer_theta.step()\n",
    "        #optimizer_psi.step()\n",
    "        return loss\n",
    "\n",
    "    def train_model(self, temperature:float=1.0, num_iter:int=10, lr:tuple=(0.01,0.02)):\n",
    "        #TODO: train the model from incomplete data by gradient descent\n",
    "        #TODO: 1. draw a minibatch ('batch_size') from the data, compute ELBO\n",
    "        #TODO: 2. compute gradient of ELBO w.r.t. to \\theta (model parameter) and \\psi (variational parameter, i.e. LSTM param)\n",
    "        #TODO: 3. gradient ascent, alternatively optimize \\theta and \\psi\n",
    "\n",
    "        model_parameters = [self.model_parameter[0]['base'],\n",
    "                    self.model_parameter[0][0]['weight'],\n",
    "                    self.model_parameter[1]['base'],\n",
    "                    self.model_parameter[1][0]['weight'],\n",
    "                    self.model_parameter[2]['base'],\n",
    "                    self.model_parameter[2][0]['weight']\n",
    "                    ]\n",
    "\n",
    "        num_batch = len(self.action_history) // self.batch_size\n",
    "        #print(num_batch)\n",
    "        losses = []\n",
    "        variational_parameters_store = []\n",
    "        model_parameters_store = []\n",
    "        optimizer_theta = optim.Adam(params=model_parameters,lr=lr[0])\n",
    "        optimizer_psi = optim.Adam(params=[list(self.LSTM_Action.parameters())[0], list(self.LSTM_History.parameters())[0]], lr=lr[1], eps=1e-8)\n",
    "        for iter in tqdm(range(num_iter)):\n",
    "            tmp = 0\n",
    "            for batch_idx in tqdm(np.arange(0, num_batch, 1)):\n",
    "                indices = np.arange(batch_idx*self.batch_size, (batch_idx+1)*self.batch_size, 1)\n",
    "                #NOTE: we want to minimize negative ELBO\n",
    "                loss = self.optimize_ELBO(temperature,self.device,indices,optimizer_psi,optimizer_theta) #NOTE:-ELBO, want to see it decreases\n",
    "                tmp += loss.detach().cpu().item()\n",
    "            losses.append(tmp/num_batch)\n",
    "            variational_parameters_store.append((list(self.LSTM_History.parameters())[0][0].clone().detach().cpu().numpy()))\n",
    "            model_parameters_store.append([item.clone().detach().cpu().numpy() for item in model_parameters])\n",
    "            if iter % 10 == 0:\n",
    "                print('model parameter >> {}'.format(model_parameters))\n",
    "                #print('LSTM parameters $\\psi$ >> {}'.format([list(self.LSTM_Action.parameters())[0], list(self.LSTM_History.parameters())[0]]))\n",
    "            print('iter >> {}; loss >> {}'.format(iter+1, tmp/num_batch))\n",
    "        return losses, variational_parameters_store, model_parameters_store\n",
    "\n",
    "    def plot_loss(self,losses:list):\n",
    "        #TODO: plot the losses\n",
    "        #plt.style.use(['science','grid','no-latex'])\n",
    "        plt.figure(figsize=(9,3),dpi=150)\n",
    "        X = np.arange(1,len(losses)+1,1)\n",
    "        plt.plot(X,losses,label='$-\\mathcal{L}(\\\\theta,\\psi,\\mathcal{H}_a(T))$')\n",
    "        plt.legend(bbox_to_anchor=(1,1))\n",
    "        plt.xlabel('iter')\n",
    "        plt.ylabel('negative ELBO')\n",
    "        plt.show()"
   ]
  },
  {
   "cell_type": "code",
   "execution_count": 151,
   "metadata": {},
   "outputs": [
    {
     "name": "stdout",
     "output_type": "stream",
     "text": [
      "[INFO] data has been generated!!!\n"
     ]
    },
    {
     "name": "stderr",
     "output_type": "stream",
     "text": [
      "100%|██████████| 2/2 [00:02<00:00,  1.13s/it]\n",
      "  0%|          | 1/500 [00:02<18:55,  2.28s/it]"
     ]
    },
    {
     "name": "stdout",
     "output_type": "stream",
     "text": [
      "model parameter >> [tensor([-0.2980], dtype=torch.float64, requires_grad=True), tensor([0.0080], dtype=torch.float64, requires_grad=True), tensor([-0.3020], dtype=torch.float64, requires_grad=True), tensor([0.0180], dtype=torch.float64, requires_grad=True), tensor([-0.2018], dtype=torch.float64, requires_grad=True), tensor([0.0982], dtype=torch.float64, requires_grad=True)]\n",
      "iter >> 1; loss >> 50135.8134765625\n"
     ]
    },
    {
     "name": "stderr",
     "output_type": "stream",
     "text": [
      "100%|██████████| 2/2 [00:02<00:00,  1.16s/it]\n",
      "  0%|          | 2/500 [00:04<19:09,  2.31s/it]"
     ]
    },
    {
     "name": "stdout",
     "output_type": "stream",
     "text": [
      "iter >> 2; loss >> 13935.21630859375\n"
     ]
    },
    {
     "name": "stderr",
     "output_type": "stream",
     "text": [
      "100%|██████████| 2/2 [00:02<00:00,  1.34s/it]\n",
      "  1%|          | 3/500 [00:07<20:33,  2.48s/it]"
     ]
    },
    {
     "name": "stdout",
     "output_type": "stream",
     "text": [
      "iter >> 3; loss >> 44949.02099609375\n"
     ]
    },
    {
     "name": "stderr",
     "output_type": "stream",
     "text": [
      "100%|██████████| 2/2 [00:02<00:00,  1.19s/it]\n",
      "  1%|          | 4/500 [00:09<20:11,  2.44s/it]"
     ]
    },
    {
     "name": "stdout",
     "output_type": "stream",
     "text": [
      "iter >> 4; loss >> 82933.71875\n"
     ]
    },
    {
     "name": "stderr",
     "output_type": "stream",
     "text": [
      "100%|██████████| 2/2 [00:02<00:00,  1.18s/it]\n",
      "  1%|          | 5/500 [00:12<19:57,  2.42s/it]"
     ]
    },
    {
     "name": "stdout",
     "output_type": "stream",
     "text": [
      "iter >> 5; loss >> 73100.2138671875\n"
     ]
    },
    {
     "name": "stderr",
     "output_type": "stream",
     "text": [
      "100%|██████████| 2/2 [00:02<00:00,  1.19s/it]\n",
      "  1%|          | 6/500 [00:14<19:52,  2.41s/it]"
     ]
    },
    {
     "name": "stdout",
     "output_type": "stream",
     "text": [
      "iter >> 6; loss >> 62742.09130859375\n"
     ]
    },
    {
     "name": "stderr",
     "output_type": "stream",
     "text": [
      "100%|██████████| 2/2 [00:02<00:00,  1.18s/it]\n",
      "  1%|▏         | 7/500 [00:16<19:44,  2.40s/it]"
     ]
    },
    {
     "name": "stdout",
     "output_type": "stream",
     "text": [
      "iter >> 7; loss >> 34035.9130859375\n"
     ]
    },
    {
     "name": "stderr",
     "output_type": "stream",
     "text": [
      "100%|██████████| 2/2 [00:02<00:00,  1.18s/it]\n",
      "  2%|▏         | 8/500 [00:19<19:38,  2.40s/it]"
     ]
    },
    {
     "name": "stdout",
     "output_type": "stream",
     "text": [
      "iter >> 8; loss >> 47405.32421875\n"
     ]
    },
    {
     "name": "stderr",
     "output_type": "stream",
     "text": [
      "100%|██████████| 2/2 [00:02<00:00,  1.20s/it]\n",
      "  2%|▏         | 9/500 [00:21<19:38,  2.40s/it]"
     ]
    },
    {
     "name": "stdout",
     "output_type": "stream",
     "text": [
      "iter >> 9; loss >> 109331.07421875\n"
     ]
    },
    {
     "name": "stderr",
     "output_type": "stream",
     "text": [
      "100%|██████████| 2/2 [00:02<00:00,  1.18s/it]\n",
      "  2%|▏         | 10/500 [00:23<19:31,  2.39s/it]"
     ]
    },
    {
     "name": "stdout",
     "output_type": "stream",
     "text": [
      "iter >> 10; loss >> 65088.18359375\n"
     ]
    },
    {
     "name": "stderr",
     "output_type": "stream",
     "text": [
      "100%|██████████| 2/2 [00:02<00:00,  1.21s/it]\n",
      "  2%|▏         | 11/500 [00:26<19:34,  2.40s/it]"
     ]
    },
    {
     "name": "stdout",
     "output_type": "stream",
     "text": [
      "model parameter >> [tensor([-0.2779], dtype=torch.float64, requires_grad=True), tensor([-0.0120], dtype=torch.float64, requires_grad=True), tensor([-0.3187], dtype=torch.float64, requires_grad=True), tensor([0.0019], dtype=torch.float64, requires_grad=True), tensor([-0.2185], dtype=torch.float64, requires_grad=True), tensor([0.0819], dtype=torch.float64, requires_grad=True)]\n",
      "iter >> 11; loss >> 21329.7568359375\n"
     ]
    },
    {
     "name": "stderr",
     "output_type": "stream",
     "text": [
      "100%|██████████| 2/2 [00:02<00:00,  1.18s/it]\n",
      "  2%|▏         | 12/500 [00:28<19:29,  2.40s/it]"
     ]
    },
    {
     "name": "stdout",
     "output_type": "stream",
     "text": [
      "iter >> 12; loss >> 20472.220703125\n"
     ]
    },
    {
     "name": "stderr",
     "output_type": "stream",
     "text": [
      "100%|██████████| 2/2 [00:02<00:00,  1.27s/it]\n",
      "  3%|▎         | 13/500 [00:31<19:50,  2.44s/it]"
     ]
    },
    {
     "name": "stdout",
     "output_type": "stream",
     "text": [
      "iter >> 13; loss >> 11399.60205078125\n"
     ]
    },
    {
     "name": "stderr",
     "output_type": "stream",
     "text": [
      "100%|██████████| 2/2 [00:02<00:00,  1.19s/it]\n",
      "  3%|▎         | 14/500 [00:33<19:41,  2.43s/it]"
     ]
    },
    {
     "name": "stdout",
     "output_type": "stream",
     "text": [
      "iter >> 14; loss >> 38264.17041015625\n"
     ]
    },
    {
     "name": "stderr",
     "output_type": "stream",
     "text": [
      "100%|██████████| 2/2 [00:02<00:00,  1.20s/it]\n",
      "  3%|▎         | 15/500 [00:36<19:35,  2.42s/it]"
     ]
    },
    {
     "name": "stdout",
     "output_type": "stream",
     "text": [
      "iter >> 15; loss >> 8332.214599609375\n"
     ]
    },
    {
     "name": "stderr",
     "output_type": "stream",
     "text": [
      "100%|██████████| 2/2 [00:02<00:00,  1.18s/it]\n",
      "  3%|▎         | 16/500 [00:38<19:25,  2.41s/it]"
     ]
    },
    {
     "name": "stdout",
     "output_type": "stream",
     "text": [
      "iter >> 16; loss >> 10293.01220703125\n"
     ]
    },
    {
     "name": "stderr",
     "output_type": "stream",
     "text": [
      "100%|██████████| 2/2 [00:02<00:00,  1.20s/it]\n",
      "  3%|▎         | 17/500 [00:40<19:24,  2.41s/it]"
     ]
    },
    {
     "name": "stdout",
     "output_type": "stream",
     "text": [
      "iter >> 17; loss >> 43422.248046875\n"
     ]
    },
    {
     "name": "stderr",
     "output_type": "stream",
     "text": [
      "100%|██████████| 2/2 [00:02<00:00,  1.19s/it]\n",
      "  4%|▎         | 18/500 [00:43<19:20,  2.41s/it]"
     ]
    },
    {
     "name": "stdout",
     "output_type": "stream",
     "text": [
      "iter >> 18; loss >> 10874.701171875\n"
     ]
    },
    {
     "name": "stderr",
     "output_type": "stream",
     "text": [
      "100%|██████████| 2/2 [00:02<00:00,  1.20s/it]\n",
      "  4%|▍         | 19/500 [00:45<19:19,  2.41s/it]"
     ]
    },
    {
     "name": "stdout",
     "output_type": "stream",
     "text": [
      "iter >> 19; loss >> 30452.6123046875\n"
     ]
    },
    {
     "name": "stderr",
     "output_type": "stream",
     "text": [
      "100%|██████████| 2/2 [00:02<00:00,  1.19s/it]\n",
      "  4%|▍         | 20/500 [00:48<19:16,  2.41s/it]"
     ]
    },
    {
     "name": "stdout",
     "output_type": "stream",
     "text": [
      "iter >> 20; loss >> 17978.275390625\n"
     ]
    },
    {
     "name": "stderr",
     "output_type": "stream",
     "text": [
      "100%|██████████| 2/2 [00:02<00:00,  1.19s/it]\n",
      "  4%|▍         | 21/500 [00:50<19:10,  2.40s/it]"
     ]
    },
    {
     "name": "stdout",
     "output_type": "stream",
     "text": [
      "model parameter >> [tensor([-0.2579], dtype=torch.float64, requires_grad=True), tensor([-0.0318], dtype=torch.float64, requires_grad=True), tensor([-0.3339], dtype=torch.float64, requires_grad=True), tensor([-0.0127], dtype=torch.float64, requires_grad=True), tensor([-0.2302], dtype=torch.float64, requires_grad=True), tensor([0.0710], dtype=torch.float64, requires_grad=True)]\n",
      "iter >> 21; loss >> 57809.90185546875\n"
     ]
    },
    {
     "name": "stderr",
     "output_type": "stream",
     "text": [
      "100%|██████████| 2/2 [00:02<00:00,  1.18s/it]\n",
      "  4%|▍         | 22/500 [00:52<19:04,  2.40s/it]"
     ]
    },
    {
     "name": "stdout",
     "output_type": "stream",
     "text": [
      "iter >> 22; loss >> 39184.828125\n"
     ]
    },
    {
     "name": "stderr",
     "output_type": "stream",
     "text": [
      "100%|██████████| 2/2 [00:02<00:00,  1.20s/it]\n",
      "  5%|▍         | 23/500 [00:55<19:05,  2.40s/it]"
     ]
    },
    {
     "name": "stdout",
     "output_type": "stream",
     "text": [
      "iter >> 23; loss >> 30501.85498046875\n"
     ]
    },
    {
     "name": "stderr",
     "output_type": "stream",
     "text": [
      "100%|██████████| 2/2 [00:02<00:00,  1.18s/it]\n",
      "  5%|▍         | 24/500 [00:57<18:58,  2.39s/it]"
     ]
    },
    {
     "name": "stdout",
     "output_type": "stream",
     "text": [
      "iter >> 24; loss >> 11409.05908203125\n"
     ]
    },
    {
     "name": "stderr",
     "output_type": "stream",
     "text": [
      "100%|██████████| 2/2 [00:02<00:00,  1.25s/it]\n",
      "  5%|▌         | 25/500 [01:00<19:13,  2.43s/it]"
     ]
    },
    {
     "name": "stdout",
     "output_type": "stream",
     "text": [
      "iter >> 25; loss >> 36981.98828125\n"
     ]
    },
    {
     "name": "stderr",
     "output_type": "stream",
     "text": [
      "100%|██████████| 2/2 [00:02<00:00,  1.21s/it]\n",
      "  5%|▌         | 26/500 [01:02<19:11,  2.43s/it]"
     ]
    },
    {
     "name": "stdout",
     "output_type": "stream",
     "text": [
      "iter >> 26; loss >> 74835.1640625\n"
     ]
    },
    {
     "name": "stderr",
     "output_type": "stream",
     "text": [
      "100%|██████████| 2/2 [00:02<00:00,  1.18s/it]\n",
      "  5%|▌         | 27/500 [01:05<19:01,  2.41s/it]"
     ]
    },
    {
     "name": "stdout",
     "output_type": "stream",
     "text": [
      "iter >> 27; loss >> 61691.0390625\n"
     ]
    },
    {
     "name": "stderr",
     "output_type": "stream",
     "text": [
      "100%|██████████| 2/2 [00:02<00:00,  1.17s/it]\n",
      "  6%|▌         | 28/500 [01:07<18:50,  2.39s/it]"
     ]
    },
    {
     "name": "stdout",
     "output_type": "stream",
     "text": [
      "iter >> 28; loss >> 8798.98876953125\n"
     ]
    },
    {
     "name": "stderr",
     "output_type": "stream",
     "text": [
      "100%|██████████| 2/2 [00:02<00:00,  1.20s/it]\n",
      "  6%|▌         | 29/500 [01:09<18:50,  2.40s/it]"
     ]
    },
    {
     "name": "stdout",
     "output_type": "stream",
     "text": [
      "iter >> 29; loss >> 27932.416015625\n"
     ]
    },
    {
     "name": "stderr",
     "output_type": "stream",
     "text": [
      "100%|██████████| 2/2 [00:02<00:00,  1.18s/it]\n",
      "  6%|▌         | 30/500 [01:12<18:44,  2.39s/it]"
     ]
    },
    {
     "name": "stdout",
     "output_type": "stream",
     "text": [
      "iter >> 30; loss >> 18504.474609375\n"
     ]
    },
    {
     "name": "stderr",
     "output_type": "stream",
     "text": [
      "100%|██████████| 2/2 [00:02<00:00,  1.17s/it]\n",
      "  6%|▌         | 31/500 [01:14<18:37,  2.38s/it]"
     ]
    },
    {
     "name": "stdout",
     "output_type": "stream",
     "text": [
      "model parameter >> [tensor([-0.2379], dtype=torch.float64, requires_grad=True), tensor([-0.0514], dtype=torch.float64, requires_grad=True), tensor([-0.3501], dtype=torch.float64, requires_grad=True), tensor([-0.0284], dtype=torch.float64, requires_grad=True), tensor([-0.2432], dtype=torch.float64, requires_grad=True), tensor([0.0588], dtype=torch.float64, requires_grad=True)]\n",
      "iter >> 31; loss >> 7596.853759765625\n"
     ]
    },
    {
     "name": "stderr",
     "output_type": "stream",
     "text": [
      "100%|██████████| 2/2 [00:02<00:00,  1.20s/it]\n",
      "  6%|▋         | 32/500 [01:16<18:38,  2.39s/it]"
     ]
    },
    {
     "name": "stdout",
     "output_type": "stream",
     "text": [
      "iter >> 32; loss >> 37526.576171875\n"
     ]
    },
    {
     "name": "stderr",
     "output_type": "stream",
     "text": [
      "100%|██████████| 2/2 [00:02<00:00,  1.21s/it]\n",
      "  7%|▋         | 33/500 [01:19<18:43,  2.41s/it]"
     ]
    },
    {
     "name": "stdout",
     "output_type": "stream",
     "text": [
      "iter >> 33; loss >> 16417.59814453125\n"
     ]
    },
    {
     "name": "stderr",
     "output_type": "stream",
     "text": [
      "100%|██████████| 2/2 [00:02<00:00,  1.18s/it]\n",
      "  7%|▋         | 34/500 [01:21<18:35,  2.39s/it]"
     ]
    },
    {
     "name": "stdout",
     "output_type": "stream",
     "text": [
      "iter >> 34; loss >> 55385.71875\n"
     ]
    },
    {
     "name": "stderr",
     "output_type": "stream",
     "text": [
      "100%|██████████| 2/2 [00:02<00:00,  1.19s/it]\n",
      "  7%|▋         | 35/500 [01:24<18:33,  2.39s/it]"
     ]
    },
    {
     "name": "stdout",
     "output_type": "stream",
     "text": [
      "iter >> 35; loss >> 9000.711181640625\n"
     ]
    },
    {
     "name": "stderr",
     "output_type": "stream",
     "text": [
      "100%|██████████| 2/2 [00:02<00:00,  1.17s/it]\n",
      "  7%|▋         | 36/500 [01:26<18:26,  2.38s/it]"
     ]
    },
    {
     "name": "stdout",
     "output_type": "stream",
     "text": [
      "iter >> 36; loss >> 26658.25341796875\n"
     ]
    },
    {
     "name": "stderr",
     "output_type": "stream",
     "text": [
      "100%|██████████| 2/2 [00:02<00:00,  1.27s/it]\n",
      "  7%|▋         | 37/500 [01:29<18:46,  2.43s/it]"
     ]
    },
    {
     "name": "stdout",
     "output_type": "stream",
     "text": [
      "iter >> 37; loss >> 6033.5418701171875\n"
     ]
    },
    {
     "name": "stderr",
     "output_type": "stream",
     "text": [
      "100%|██████████| 2/2 [00:02<00:00,  1.18s/it]\n",
      "  8%|▊         | 38/500 [01:31<18:36,  2.42s/it]"
     ]
    },
    {
     "name": "stdout",
     "output_type": "stream",
     "text": [
      "iter >> 38; loss >> 11231.521240234375\n"
     ]
    },
    {
     "name": "stderr",
     "output_type": "stream",
     "text": [
      "100%|██████████| 2/2 [00:02<00:00,  1.18s/it]\n",
      "  8%|▊         | 39/500 [01:33<18:27,  2.40s/it]"
     ]
    },
    {
     "name": "stdout",
     "output_type": "stream",
     "text": [
      "iter >> 39; loss >> 19382.397705078125\n"
     ]
    },
    {
     "name": "stderr",
     "output_type": "stream",
     "text": [
      "100%|██████████| 2/2 [00:02<00:00,  1.21s/it]\n",
      "  8%|▊         | 40/500 [01:36<18:28,  2.41s/it]"
     ]
    },
    {
     "name": "stdout",
     "output_type": "stream",
     "text": [
      "iter >> 40; loss >> 10997.680419921875\n"
     ]
    },
    {
     "name": "stderr",
     "output_type": "stream",
     "text": [
      "100%|██████████| 2/2 [00:02<00:00,  1.18s/it]\n",
      "  8%|▊         | 41/500 [01:38<18:21,  2.40s/it]"
     ]
    },
    {
     "name": "stdout",
     "output_type": "stream",
     "text": [
      "model parameter >> [tensor([-0.2181], dtype=torch.float64, requires_grad=True), tensor([-0.0705], dtype=torch.float64, requires_grad=True), tensor([-0.3642], dtype=torch.float64, requires_grad=True), tensor([-0.0415], dtype=torch.float64, requires_grad=True), tensor([-0.2536], dtype=torch.float64, requires_grad=True), tensor([0.0491], dtype=torch.float64, requires_grad=True)]\n",
      "iter >> 41; loss >> 26952.95556640625\n"
     ]
    },
    {
     "name": "stderr",
     "output_type": "stream",
     "text": [
      "100%|██████████| 2/2 [00:02<00:00,  1.18s/it]\n",
      "  8%|▊         | 42/500 [01:41<18:16,  2.39s/it]"
     ]
    },
    {
     "name": "stdout",
     "output_type": "stream",
     "text": [
      "iter >> 42; loss >> 12103.70654296875\n"
     ]
    },
    {
     "name": "stderr",
     "output_type": "stream",
     "text": [
      "100%|██████████| 2/2 [00:02<00:00,  1.18s/it]\n",
      "  9%|▊         | 43/500 [01:43<18:11,  2.39s/it]"
     ]
    },
    {
     "name": "stdout",
     "output_type": "stream",
     "text": [
      "iter >> 43; loss >> 29434.705078125\n"
     ]
    },
    {
     "name": "stderr",
     "output_type": "stream",
     "text": [
      "100%|██████████| 2/2 [00:02<00:00,  1.18s/it]\n",
      "  9%|▉         | 44/500 [01:45<18:07,  2.39s/it]"
     ]
    },
    {
     "name": "stdout",
     "output_type": "stream",
     "text": [
      "iter >> 44; loss >> 16928.412475585938\n"
     ]
    },
    {
     "name": "stderr",
     "output_type": "stream",
     "text": [
      "100%|██████████| 2/2 [00:02<00:00,  1.17s/it]\n",
      "  9%|▉         | 45/500 [01:48<18:02,  2.38s/it]"
     ]
    },
    {
     "name": "stdout",
     "output_type": "stream",
     "text": [
      "iter >> 45; loss >> 6596.5458984375\n"
     ]
    },
    {
     "name": "stderr",
     "output_type": "stream",
     "text": [
      "100%|██████████| 2/2 [00:02<00:00,  1.21s/it]\n",
      "  9%|▉         | 46/500 [01:50<18:06,  2.39s/it]"
     ]
    },
    {
     "name": "stdout",
     "output_type": "stream",
     "text": [
      "iter >> 46; loss >> 14547.28759765625\n"
     ]
    },
    {
     "name": "stderr",
     "output_type": "stream",
     "text": [
      "100%|██████████| 2/2 [00:02<00:00,  1.25s/it]\n",
      "  9%|▉         | 47/500 [01:53<18:21,  2.43s/it]"
     ]
    },
    {
     "name": "stdout",
     "output_type": "stream",
     "text": [
      "iter >> 47; loss >> 16176.4951171875\n"
     ]
    },
    {
     "name": "stderr",
     "output_type": "stream",
     "text": [
      "100%|██████████| 2/2 [00:02<00:00,  1.17s/it]\n",
      " 10%|▉         | 48/500 [01:55<18:09,  2.41s/it]"
     ]
    },
    {
     "name": "stdout",
     "output_type": "stream",
     "text": [
      "iter >> 48; loss >> 20695.1162109375\n"
     ]
    },
    {
     "name": "stderr",
     "output_type": "stream",
     "text": [
      "100%|██████████| 2/2 [00:02<00:00,  1.19s/it]\n",
      " 10%|▉         | 49/500 [01:57<18:05,  2.41s/it]"
     ]
    },
    {
     "name": "stdout",
     "output_type": "stream",
     "text": [
      "iter >> 49; loss >> 8846.988525390625\n"
     ]
    },
    {
     "name": "stderr",
     "output_type": "stream",
     "text": [
      "100%|██████████| 2/2 [00:02<00:00,  1.17s/it]\n",
      " 10%|█         | 50/500 [02:00<17:55,  2.39s/it]"
     ]
    },
    {
     "name": "stdout",
     "output_type": "stream",
     "text": [
      "iter >> 50; loss >> 57190.58972167969\n"
     ]
    },
    {
     "name": "stderr",
     "output_type": "stream",
     "text": [
      "100%|██████████| 2/2 [00:02<00:00,  1.17s/it]\n",
      " 10%|█         | 51/500 [02:02<17:48,  2.38s/it]"
     ]
    },
    {
     "name": "stdout",
     "output_type": "stream",
     "text": [
      "model parameter >> [tensor([-0.1983], dtype=torch.float64, requires_grad=True), tensor([-0.0899], dtype=torch.float64, requires_grad=True), tensor([-0.3778], dtype=torch.float64, requires_grad=True), tensor([-0.0539], dtype=torch.float64, requires_grad=True), tensor([-0.2620], dtype=torch.float64, requires_grad=True), tensor([0.0415], dtype=torch.float64, requires_grad=True)]\n",
      "iter >> 51; loss >> 6363.9443359375\n"
     ]
    },
    {
     "name": "stderr",
     "output_type": "stream",
     "text": [
      "100%|██████████| 2/2 [00:02<00:00,  1.18s/it]\n",
      " 10%|█         | 52/500 [02:04<17:44,  2.38s/it]"
     ]
    },
    {
     "name": "stdout",
     "output_type": "stream",
     "text": [
      "iter >> 52; loss >> 13285.99755859375\n"
     ]
    },
    {
     "name": "stderr",
     "output_type": "stream",
     "text": [
      "100%|██████████| 2/2 [00:02<00:00,  1.20s/it]\n",
      " 11%|█         | 53/500 [02:07<17:46,  2.38s/it]"
     ]
    },
    {
     "name": "stdout",
     "output_type": "stream",
     "text": [
      "iter >> 53; loss >> 75566.73828125\n"
     ]
    },
    {
     "name": "stderr",
     "output_type": "stream",
     "text": [
      "100%|██████████| 2/2 [00:02<00:00,  1.17s/it]\n",
      " 11%|█         | 54/500 [02:09<17:40,  2.38s/it]"
     ]
    },
    {
     "name": "stdout",
     "output_type": "stream",
     "text": [
      "iter >> 54; loss >> 20943.4384765625\n"
     ]
    },
    {
     "name": "stderr",
     "output_type": "stream",
     "text": [
      "100%|██████████| 2/2 [00:02<00:00,  1.20s/it]\n",
      " 11%|█         | 55/500 [02:12<17:42,  2.39s/it]"
     ]
    },
    {
     "name": "stdout",
     "output_type": "stream",
     "text": [
      "iter >> 55; loss >> 14967.75732421875\n"
     ]
    },
    {
     "name": "stderr",
     "output_type": "stream",
     "text": [
      "100%|██████████| 2/2 [00:02<00:00,  1.20s/it]\n",
      " 11%|█         | 56/500 [02:14<17:42,  2.39s/it]"
     ]
    },
    {
     "name": "stdout",
     "output_type": "stream",
     "text": [
      "iter >> 56; loss >> 174334.578125\n"
     ]
    },
    {
     "name": "stderr",
     "output_type": "stream",
     "text": [
      "100%|██████████| 2/2 [00:02<00:00,  1.25s/it]\n",
      " 11%|█▏        | 57/500 [02:17<17:56,  2.43s/it]"
     ]
    },
    {
     "name": "stdout",
     "output_type": "stream",
     "text": [
      "iter >> 57; loss >> 25002.2275390625\n"
     ]
    },
    {
     "name": "stderr",
     "output_type": "stream",
     "text": [
      "100%|██████████| 2/2 [00:02<00:00,  1.21s/it]\n",
      " 12%|█▏        | 58/500 [02:19<17:53,  2.43s/it]"
     ]
    },
    {
     "name": "stdout",
     "output_type": "stream",
     "text": [
      "iter >> 58; loss >> 7363.91845703125\n"
     ]
    },
    {
     "name": "stderr",
     "output_type": "stream",
     "text": [
      "100%|██████████| 2/2 [00:02<00:00,  1.18s/it]\n",
      " 12%|█▏        | 59/500 [02:21<17:43,  2.41s/it]"
     ]
    },
    {
     "name": "stdout",
     "output_type": "stream",
     "text": [
      "iter >> 59; loss >> 5715.523193359375\n"
     ]
    },
    {
     "name": "stderr",
     "output_type": "stream",
     "text": [
      "100%|██████████| 2/2 [00:02<00:00,  1.19s/it]\n",
      " 12%|█▏        | 60/500 [02:24<17:38,  2.41s/it]"
     ]
    },
    {
     "name": "stdout",
     "output_type": "stream",
     "text": [
      "iter >> 60; loss >> 11842.037109375\n"
     ]
    },
    {
     "name": "stderr",
     "output_type": "stream",
     "text": [
      "100%|██████████| 2/2 [00:02<00:00,  1.18s/it]\n",
      " 12%|█▏        | 61/500 [02:26<17:33,  2.40s/it]"
     ]
    },
    {
     "name": "stdout",
     "output_type": "stream",
     "text": [
      "model parameter >> [tensor([-0.1784], dtype=torch.float64, requires_grad=True), tensor([-0.1094], dtype=torch.float64, requires_grad=True), tensor([-0.3915], dtype=torch.float64, requires_grad=True), tensor([-0.0667], dtype=torch.float64, requires_grad=True), tensor([-0.2760], dtype=torch.float64, requires_grad=True), tensor([0.0279], dtype=torch.float64, requires_grad=True)]\n",
      "iter >> 61; loss >> 25074.1513671875\n"
     ]
    },
    {
     "name": "stderr",
     "output_type": "stream",
     "text": [
      "100%|██████████| 2/2 [00:02<00:00,  1.19s/it]\n",
      " 12%|█▏        | 62/500 [02:28<17:30,  2.40s/it]"
     ]
    },
    {
     "name": "stdout",
     "output_type": "stream",
     "text": [
      "iter >> 62; loss >> 14946.99658203125\n"
     ]
    },
    {
     "name": "stderr",
     "output_type": "stream",
     "text": [
      "100%|██████████| 2/2 [00:02<00:00,  1.20s/it]\n",
      " 13%|█▎        | 63/500 [02:31<17:31,  2.41s/it]"
     ]
    },
    {
     "name": "stdout",
     "output_type": "stream",
     "text": [
      "iter >> 63; loss >> 29642.7880859375\n"
     ]
    },
    {
     "name": "stderr",
     "output_type": "stream",
     "text": [
      "100%|██████████| 2/2 [00:02<00:00,  1.19s/it]\n",
      " 13%|█▎        | 64/500 [02:33<17:28,  2.40s/it]"
     ]
    },
    {
     "name": "stdout",
     "output_type": "stream",
     "text": [
      "iter >> 64; loss >> 10299.60888671875\n"
     ]
    },
    {
     "name": "stderr",
     "output_type": "stream",
     "text": [
      "100%|██████████| 2/2 [00:02<00:00,  1.19s/it]\n",
      " 13%|█▎        | 65/500 [02:36<17:24,  2.40s/it]"
     ]
    },
    {
     "name": "stdout",
     "output_type": "stream",
     "text": [
      "iter >> 65; loss >> 12596.2880859375\n"
     ]
    },
    {
     "name": "stderr",
     "output_type": "stream",
     "text": [
      "100%|██████████| 2/2 [00:02<00:00,  1.18s/it]\n",
      " 13%|█▎        | 66/500 [02:38<17:20,  2.40s/it]"
     ]
    },
    {
     "name": "stdout",
     "output_type": "stream",
     "text": [
      "iter >> 66; loss >> 25628.376953125\n"
     ]
    },
    {
     "name": "stderr",
     "output_type": "stream",
     "text": [
      "100%|██████████| 2/2 [00:02<00:00,  1.18s/it]\n",
      " 13%|█▎        | 67/500 [02:40<17:15,  2.39s/it]"
     ]
    },
    {
     "name": "stdout",
     "output_type": "stream",
     "text": [
      "iter >> 67; loss >> 5017.7626953125\n"
     ]
    },
    {
     "name": "stderr",
     "output_type": "stream",
     "text": [
      "100%|██████████| 2/2 [00:02<00:00,  1.17s/it]\n",
      " 14%|█▎        | 68/500 [02:43<17:09,  2.38s/it]"
     ]
    },
    {
     "name": "stdout",
     "output_type": "stream",
     "text": [
      "iter >> 68; loss >> 10220.034912109375\n"
     ]
    },
    {
     "name": "stderr",
     "output_type": "stream",
     "text": [
      "100%|██████████| 2/2 [00:02<00:00,  1.25s/it]\n",
      " 14%|█▍        | 69/500 [02:45<17:24,  2.42s/it]"
     ]
    },
    {
     "name": "stdout",
     "output_type": "stream",
     "text": [
      "iter >> 69; loss >> 13602.2392578125\n"
     ]
    },
    {
     "name": "stderr",
     "output_type": "stream",
     "text": [
      "100%|██████████| 2/2 [00:02<00:00,  1.19s/it]\n",
      " 14%|█▍        | 70/500 [02:48<17:18,  2.42s/it]"
     ]
    },
    {
     "name": "stdout",
     "output_type": "stream",
     "text": [
      "iter >> 70; loss >> 4186.52880859375\n"
     ]
    },
    {
     "name": "stderr",
     "output_type": "stream",
     "text": [
      "100%|██████████| 2/2 [00:02<00:00,  1.17s/it]\n",
      " 14%|█▍        | 71/500 [02:50<17:08,  2.40s/it]"
     ]
    },
    {
     "name": "stdout",
     "output_type": "stream",
     "text": [
      "model parameter >> [tensor([-0.1584], dtype=torch.float64, requires_grad=True), tensor([-0.1281], dtype=torch.float64, requires_grad=True), tensor([-0.4046], dtype=torch.float64, requires_grad=True), tensor([-0.0789], dtype=torch.float64, requires_grad=True), tensor([-0.2855], dtype=torch.float64, requires_grad=True), tensor([0.0192], dtype=torch.float64, requires_grad=True)]\n",
      "iter >> 71; loss >> 119804.38842773438\n"
     ]
    },
    {
     "name": "stderr",
     "output_type": "stream",
     "text": [
      "100%|██████████| 2/2 [00:02<00:00,  1.18s/it]\n",
      " 14%|█▍        | 72/500 [02:52<17:03,  2.39s/it]"
     ]
    },
    {
     "name": "stdout",
     "output_type": "stream",
     "text": [
      "iter >> 72; loss >> 20584.14453125\n"
     ]
    },
    {
     "name": "stderr",
     "output_type": "stream",
     "text": [
      "100%|██████████| 2/2 [00:02<00:00,  1.19s/it]\n",
      " 15%|█▍        | 73/500 [02:55<17:00,  2.39s/it]"
     ]
    },
    {
     "name": "stdout",
     "output_type": "stream",
     "text": [
      "iter >> 73; loss >> 26530.5224609375\n"
     ]
    },
    {
     "name": "stderr",
     "output_type": "stream",
     "text": [
      "100%|██████████| 2/2 [00:02<00:00,  1.17s/it]\n",
      " 15%|█▍        | 74/500 [02:57<16:54,  2.38s/it]"
     ]
    },
    {
     "name": "stdout",
     "output_type": "stream",
     "text": [
      "iter >> 74; loss >> 4383.83984375\n"
     ]
    },
    {
     "name": "stderr",
     "output_type": "stream",
     "text": [
      "100%|██████████| 2/2 [00:02<00:00,  1.18s/it]\n",
      " 15%|█▌        | 75/500 [03:00<16:50,  2.38s/it]"
     ]
    },
    {
     "name": "stdout",
     "output_type": "stream",
     "text": [
      "iter >> 75; loss >> 14284.3408203125\n"
     ]
    },
    {
     "name": "stderr",
     "output_type": "stream",
     "text": [
      "100%|██████████| 2/2 [00:02<00:00,  1.19s/it]\n",
      " 15%|█▌        | 76/500 [03:02<16:50,  2.38s/it]"
     ]
    },
    {
     "name": "stdout",
     "output_type": "stream",
     "text": [
      "iter >> 76; loss >> 10809.92529296875\n"
     ]
    },
    {
     "name": "stderr",
     "output_type": "stream",
     "text": [
      "100%|██████████| 2/2 [00:02<00:00,  1.18s/it]\n",
      " 15%|█▌        | 77/500 [03:04<16:47,  2.38s/it]"
     ]
    },
    {
     "name": "stdout",
     "output_type": "stream",
     "text": [
      "iter >> 77; loss >> 15970.86572265625\n"
     ]
    },
    {
     "name": "stderr",
     "output_type": "stream",
     "text": [
      "100%|██████████| 2/2 [00:02<00:00,  1.18s/it]\n",
      " 16%|█▌        | 78/500 [03:07<16:45,  2.38s/it]"
     ]
    },
    {
     "name": "stdout",
     "output_type": "stream",
     "text": [
      "iter >> 78; loss >> 19060.0830078125\n"
     ]
    },
    {
     "name": "stderr",
     "output_type": "stream",
     "text": [
      "100%|██████████| 2/2 [00:02<00:00,  1.19s/it]\n",
      " 16%|█▌        | 79/500 [03:09<16:43,  2.38s/it]"
     ]
    },
    {
     "name": "stdout",
     "output_type": "stream",
     "text": [
      "iter >> 79; loss >> 8867.54736328125\n"
     ]
    },
    {
     "name": "stderr",
     "output_type": "stream",
     "text": [
      "100%|██████████| 2/2 [00:02<00:00,  1.19s/it]\n",
      " 16%|█▌        | 80/500 [03:12<16:41,  2.39s/it]"
     ]
    },
    {
     "name": "stdout",
     "output_type": "stream",
     "text": [
      "iter >> 80; loss >> 13797.3017578125\n"
     ]
    },
    {
     "name": "stderr",
     "output_type": "stream",
     "text": [
      "100%|██████████| 2/2 [00:02<00:00,  1.24s/it]\n",
      " 16%|█▌        | 81/500 [03:14<16:53,  2.42s/it]"
     ]
    },
    {
     "name": "stdout",
     "output_type": "stream",
     "text": [
      "model parameter >> [tensor([-0.1390], dtype=torch.float64, requires_grad=True), tensor([-0.1462], dtype=torch.float64, requires_grad=True), tensor([-0.4140], dtype=torch.float64, requires_grad=True), tensor([-0.0872], dtype=torch.float64, requires_grad=True), tensor([-0.2947], dtype=torch.float64, requires_grad=True), tensor([0.0107], dtype=torch.float64, requires_grad=True)]\n",
      "iter >> 81; loss >> 13112.9091796875\n"
     ]
    },
    {
     "name": "stderr",
     "output_type": "stream",
     "text": [
      "100%|██████████| 2/2 [00:02<00:00,  1.20s/it]\n",
      " 16%|█▋        | 82/500 [03:16<16:49,  2.41s/it]"
     ]
    },
    {
     "name": "stdout",
     "output_type": "stream",
     "text": [
      "iter >> 82; loss >> 12942.416748046875\n"
     ]
    },
    {
     "name": "stderr",
     "output_type": "stream",
     "text": [
      "100%|██████████| 2/2 [00:02<00:00,  1.21s/it]\n",
      " 17%|█▋        | 83/500 [03:19<16:48,  2.42s/it]"
     ]
    },
    {
     "name": "stdout",
     "output_type": "stream",
     "text": [
      "iter >> 83; loss >> 21633.05517578125\n"
     ]
    },
    {
     "name": "stderr",
     "output_type": "stream",
     "text": [
      "100%|██████████| 2/2 [00:02<00:00,  1.18s/it]\n",
      " 17%|█▋        | 84/500 [03:21<16:41,  2.41s/it]"
     ]
    },
    {
     "name": "stdout",
     "output_type": "stream",
     "text": [
      "iter >> 84; loss >> 14452.287353515625\n"
     ]
    },
    {
     "name": "stderr",
     "output_type": "stream",
     "text": [
      "100%|██████████| 2/2 [00:02<00:00,  1.18s/it]\n",
      " 17%|█▋        | 85/500 [03:24<16:34,  2.40s/it]"
     ]
    },
    {
     "name": "stdout",
     "output_type": "stream",
     "text": [
      "iter >> 85; loss >> 4261.0369873046875\n"
     ]
    },
    {
     "name": "stderr",
     "output_type": "stream",
     "text": [
      "100%|██████████| 2/2 [00:02<00:00,  1.18s/it]\n",
      " 17%|█▋        | 86/500 [03:26<16:28,  2.39s/it]"
     ]
    },
    {
     "name": "stdout",
     "output_type": "stream",
     "text": [
      "iter >> 86; loss >> 28447.5595703125\n"
     ]
    },
    {
     "name": "stderr",
     "output_type": "stream",
     "text": [
      "100%|██████████| 2/2 [00:02<00:00,  1.18s/it]\n",
      " 17%|█▋        | 87/500 [03:28<16:23,  2.38s/it]"
     ]
    },
    {
     "name": "stdout",
     "output_type": "stream",
     "text": [
      "iter >> 87; loss >> 4018.7032470703125\n"
     ]
    },
    {
     "name": "stderr",
     "output_type": "stream",
     "text": [
      "100%|██████████| 2/2 [00:02<00:00,  1.18s/it]\n",
      " 18%|█▊        | 88/500 [03:31<16:19,  2.38s/it]"
     ]
    },
    {
     "name": "stdout",
     "output_type": "stream",
     "text": [
      "iter >> 88; loss >> 7555.029296875\n"
     ]
    },
    {
     "name": "stderr",
     "output_type": "stream",
     "text": [
      "100%|██████████| 2/2 [00:02<00:00,  1.18s/it]\n",
      " 18%|█▊        | 89/500 [03:33<16:16,  2.37s/it]"
     ]
    },
    {
     "name": "stdout",
     "output_type": "stream",
     "text": [
      "iter >> 89; loss >> 7064.169189453125\n"
     ]
    },
    {
     "name": "stderr",
     "output_type": "stream",
     "text": [
      "100%|██████████| 2/2 [00:02<00:00,  1.17s/it]\n",
      " 18%|█▊        | 90/500 [03:35<16:12,  2.37s/it]"
     ]
    },
    {
     "name": "stdout",
     "output_type": "stream",
     "text": [
      "iter >> 90; loss >> 12987.73095703125\n"
     ]
    },
    {
     "name": "stderr",
     "output_type": "stream",
     "text": [
      "100%|██████████| 2/2 [00:02<00:00,  1.26s/it]\n",
      " 18%|█▊        | 91/500 [03:38<16:29,  2.42s/it]"
     ]
    },
    {
     "name": "stdout",
     "output_type": "stream",
     "text": [
      "model parameter >> [tensor([-0.1194], dtype=torch.float64, requires_grad=True), tensor([-0.1644], dtype=torch.float64, requires_grad=True), tensor([-0.4241], dtype=torch.float64, requires_grad=True), tensor([-0.0959], dtype=torch.float64, requires_grad=True), tensor([-0.3010], dtype=torch.float64, requires_grad=True), tensor([0.0053], dtype=torch.float64, requires_grad=True)]\n",
      "iter >> 91; loss >> 13547.24365234375\n"
     ]
    },
    {
     "name": "stderr",
     "output_type": "stream",
     "text": [
      "100%|██████████| 2/2 [00:02<00:00,  1.19s/it]\n",
      " 18%|█▊        | 92/500 [03:40<16:23,  2.41s/it]"
     ]
    },
    {
     "name": "stdout",
     "output_type": "stream",
     "text": [
      "iter >> 92; loss >> 8648.712768554688\n"
     ]
    },
    {
     "name": "stderr",
     "output_type": "stream",
     "text": [
      "100%|██████████| 2/2 [00:02<00:00,  1.17s/it]\n",
      " 19%|█▊        | 93/500 [03:43<16:15,  2.40s/it]"
     ]
    },
    {
     "name": "stdout",
     "output_type": "stream",
     "text": [
      "iter >> 93; loss >> 10513.87060546875\n"
     ]
    },
    {
     "name": "stderr",
     "output_type": "stream",
     "text": [
      "100%|██████████| 2/2 [00:02<00:00,  1.17s/it]\n",
      " 19%|█▉        | 94/500 [03:45<16:08,  2.38s/it]"
     ]
    },
    {
     "name": "stdout",
     "output_type": "stream",
     "text": [
      "iter >> 94; loss >> 14694.69482421875\n"
     ]
    },
    {
     "name": "stderr",
     "output_type": "stream",
     "text": [
      "100%|██████████| 2/2 [00:02<00:00,  1.18s/it]\n",
      " 19%|█▉        | 95/500 [03:47<16:03,  2.38s/it]"
     ]
    },
    {
     "name": "stdout",
     "output_type": "stream",
     "text": [
      "iter >> 95; loss >> 20807.7734375\n"
     ]
    },
    {
     "name": "stderr",
     "output_type": "stream",
     "text": [
      "100%|██████████| 2/2 [00:02<00:00,  1.17s/it]\n",
      " 19%|█▉        | 96/500 [03:50<15:58,  2.37s/it]"
     ]
    },
    {
     "name": "stdout",
     "output_type": "stream",
     "text": [
      "iter >> 96; loss >> 12562.96142578125\n"
     ]
    },
    {
     "name": "stderr",
     "output_type": "stream",
     "text": [
      "100%|██████████| 2/2 [00:02<00:00,  1.19s/it]\n",
      " 19%|█▉        | 97/500 [03:52<15:58,  2.38s/it]"
     ]
    },
    {
     "name": "stdout",
     "output_type": "stream",
     "text": [
      "iter >> 97; loss >> 10120.388671875\n"
     ]
    },
    {
     "name": "stderr",
     "output_type": "stream",
     "text": [
      "100%|██████████| 2/2 [00:02<00:00,  1.19s/it]\n",
      " 20%|█▉        | 98/500 [03:55<15:59,  2.39s/it]"
     ]
    },
    {
     "name": "stdout",
     "output_type": "stream",
     "text": [
      "iter >> 98; loss >> 14005.107055664062\n"
     ]
    },
    {
     "name": "stderr",
     "output_type": "stream",
     "text": [
      "100%|██████████| 2/2 [00:02<00:00,  1.19s/it]\n",
      " 20%|█▉        | 99/500 [03:57<15:57,  2.39s/it]"
     ]
    },
    {
     "name": "stdout",
     "output_type": "stream",
     "text": [
      "iter >> 99; loss >> 34793.40173339844\n"
     ]
    },
    {
     "name": "stderr",
     "output_type": "stream",
     "text": [
      "100%|██████████| 2/2 [00:02<00:00,  1.19s/it]\n",
      " 20%|██        | 100/500 [03:59<15:56,  2.39s/it]"
     ]
    },
    {
     "name": "stdout",
     "output_type": "stream",
     "text": [
      "iter >> 100; loss >> 5604.960693359375\n"
     ]
    },
    {
     "name": "stderr",
     "output_type": "stream",
     "text": [
      "100%|██████████| 2/2 [00:02<00:00,  1.24s/it]\n",
      " 20%|██        | 101/500 [04:02<16:07,  2.42s/it]"
     ]
    },
    {
     "name": "stdout",
     "output_type": "stream",
     "text": [
      "model parameter >> [tensor([-0.0998], dtype=torch.float64, requires_grad=True), tensor([-0.1825], dtype=torch.float64, requires_grad=True), tensor([-0.4333], dtype=torch.float64, requires_grad=True), tensor([-0.1038], dtype=torch.float64, requires_grad=True), tensor([-0.3071], dtype=torch.float64, requires_grad=True), tensor([0.0002], dtype=torch.float64, requires_grad=True)]\n",
      "iter >> 101; loss >> 14892.8486328125\n"
     ]
    },
    {
     "name": "stderr",
     "output_type": "stream",
     "text": [
      "100%|██████████| 2/2 [00:02<00:00,  1.20s/it]\n",
      " 20%|██        | 102/500 [04:04<16:04,  2.42s/it]"
     ]
    },
    {
     "name": "stdout",
     "output_type": "stream",
     "text": [
      "iter >> 102; loss >> 8266.55322265625\n"
     ]
    },
    {
     "name": "stderr",
     "output_type": "stream",
     "text": [
      "100%|██████████| 2/2 [00:02<00:00,  1.18s/it]\n",
      " 21%|██        | 103/500 [04:07<15:56,  2.41s/it]"
     ]
    },
    {
     "name": "stdout",
     "output_type": "stream",
     "text": [
      "iter >> 103; loss >> 17622.2119140625\n"
     ]
    },
    {
     "name": "stderr",
     "output_type": "stream",
     "text": [
      "100%|██████████| 2/2 [00:02<00:00,  1.18s/it]\n",
      " 21%|██        | 104/500 [04:09<15:50,  2.40s/it]"
     ]
    },
    {
     "name": "stdout",
     "output_type": "stream",
     "text": [
      "iter >> 104; loss >> 28233.0205078125\n"
     ]
    },
    {
     "name": "stderr",
     "output_type": "stream",
     "text": [
      "100%|██████████| 2/2 [00:02<00:00,  1.19s/it]\n",
      " 21%|██        | 105/500 [04:11<15:47,  2.40s/it]"
     ]
    },
    {
     "name": "stdout",
     "output_type": "stream",
     "text": [
      "iter >> 105; loss >> 16021.8994140625\n"
     ]
    },
    {
     "name": "stderr",
     "output_type": "stream",
     "text": [
      "100%|██████████| 2/2 [00:02<00:00,  1.19s/it]\n",
      " 21%|██        | 106/500 [04:14<15:43,  2.39s/it]"
     ]
    },
    {
     "name": "stdout",
     "output_type": "stream",
     "text": [
      "iter >> 106; loss >> 19142.4912109375\n"
     ]
    },
    {
     "name": "stderr",
     "output_type": "stream",
     "text": [
      "100%|██████████| 2/2 [00:02<00:00,  1.18s/it]\n",
      " 21%|██▏       | 107/500 [04:16<15:39,  2.39s/it]"
     ]
    },
    {
     "name": "stdout",
     "output_type": "stream",
     "text": [
      "iter >> 107; loss >> 5005.65185546875\n"
     ]
    },
    {
     "name": "stderr",
     "output_type": "stream",
     "text": [
      "100%|██████████| 2/2 [00:02<00:00,  1.18s/it]\n",
      " 22%|██▏       | 108/500 [04:19<15:35,  2.39s/it]"
     ]
    },
    {
     "name": "stdout",
     "output_type": "stream",
     "text": [
      "iter >> 108; loss >> 13042.369873046875\n"
     ]
    },
    {
     "name": "stderr",
     "output_type": "stream",
     "text": [
      "100%|██████████| 2/2 [00:02<00:00,  1.17s/it]\n",
      " 22%|██▏       | 109/500 [04:21<15:30,  2.38s/it]"
     ]
    },
    {
     "name": "stdout",
     "output_type": "stream",
     "text": [
      "iter >> 109; loss >> 4323.420166015625\n"
     ]
    },
    {
     "name": "stderr",
     "output_type": "stream",
     "text": [
      "100%|██████████| 2/2 [00:02<00:00,  1.18s/it]\n",
      " 22%|██▏       | 110/500 [04:23<15:28,  2.38s/it]"
     ]
    },
    {
     "name": "stdout",
     "output_type": "stream",
     "text": [
      "iter >> 110; loss >> 15560.53564453125\n"
     ]
    },
    {
     "name": "stderr",
     "output_type": "stream",
     "text": [
      "100%|██████████| 2/2 [00:02<00:00,  1.20s/it]\n",
      " 22%|██▏       | 111/500 [04:26<15:30,  2.39s/it]"
     ]
    },
    {
     "name": "stdout",
     "output_type": "stream",
     "text": [
      "model parameter >> [tensor([-0.0799], dtype=torch.float64, requires_grad=True), tensor([-0.2009], dtype=torch.float64, requires_grad=True), tensor([-0.4437], dtype=torch.float64, requires_grad=True), tensor([-0.1133], dtype=torch.float64, requires_grad=True), tensor([-0.3144], dtype=torch.float64, requires_grad=True), tensor([-0.0060], dtype=torch.float64, requires_grad=True)]\n",
      "iter >> 111; loss >> 19607.69873046875\n"
     ]
    },
    {
     "name": "stderr",
     "output_type": "stream",
     "text": [
      "100%|██████████| 2/2 [00:02<00:00,  1.20s/it]\n",
      " 22%|██▏       | 112/500 [04:28<15:30,  2.40s/it]"
     ]
    },
    {
     "name": "stdout",
     "output_type": "stream",
     "text": [
      "iter >> 112; loss >> 7813.0447998046875\n"
     ]
    },
    {
     "name": "stderr",
     "output_type": "stream",
     "text": [
      "100%|██████████| 2/2 [00:02<00:00,  1.26s/it]\n",
      " 23%|██▎       | 113/500 [04:31<15:42,  2.44s/it]"
     ]
    },
    {
     "name": "stdout",
     "output_type": "stream",
     "text": [
      "iter >> 113; loss >> 27223.9853515625\n"
     ]
    },
    {
     "name": "stderr",
     "output_type": "stream",
     "text": [
      "100%|██████████| 2/2 [00:02<00:00,  1.19s/it]\n",
      " 23%|██▎       | 114/500 [04:33<15:34,  2.42s/it]"
     ]
    },
    {
     "name": "stdout",
     "output_type": "stream",
     "text": [
      "iter >> 114; loss >> 10555.83251953125\n"
     ]
    },
    {
     "name": "stderr",
     "output_type": "stream",
     "text": [
      "100%|██████████| 2/2 [00:02<00:00,  1.19s/it]\n",
      " 23%|██▎       | 115/500 [04:35<15:28,  2.41s/it]"
     ]
    },
    {
     "name": "stdout",
     "output_type": "stream",
     "text": [
      "iter >> 115; loss >> 20189.966796875\n"
     ]
    },
    {
     "name": "stderr",
     "output_type": "stream",
     "text": [
      "100%|██████████| 2/2 [00:02<00:00,  1.18s/it]\n",
      " 23%|██▎       | 116/500 [04:38<15:22,  2.40s/it]"
     ]
    },
    {
     "name": "stdout",
     "output_type": "stream",
     "text": [
      "iter >> 116; loss >> 12075.7392578125\n"
     ]
    },
    {
     "name": "stderr",
     "output_type": "stream",
     "text": [
      "100%|██████████| 2/2 [00:02<00:00,  1.19s/it]\n",
      " 23%|██▎       | 117/500 [04:40<15:20,  2.40s/it]"
     ]
    },
    {
     "name": "stdout",
     "output_type": "stream",
     "text": [
      "iter >> 117; loss >> 9843.310546875\n"
     ]
    },
    {
     "name": "stderr",
     "output_type": "stream",
     "text": [
      "100%|██████████| 2/2 [00:02<00:00,  1.18s/it]\n",
      " 24%|██▎       | 118/500 [04:43<15:15,  2.40s/it]"
     ]
    },
    {
     "name": "stdout",
     "output_type": "stream",
     "text": [
      "iter >> 118; loss >> 19152.92303466797\n"
     ]
    },
    {
     "name": "stderr",
     "output_type": "stream",
     "text": [
      "100%|██████████| 2/2 [00:02<00:00,  1.19s/it]\n",
      " 24%|██▍       | 119/500 [04:45<15:13,  2.40s/it]"
     ]
    },
    {
     "name": "stdout",
     "output_type": "stream",
     "text": [
      "iter >> 119; loss >> 4541.62646484375\n"
     ]
    },
    {
     "name": "stderr",
     "output_type": "stream",
     "text": [
      "100%|██████████| 2/2 [00:02<00:00,  1.20s/it]\n",
      " 24%|██▍       | 120/500 [04:47<15:12,  2.40s/it]"
     ]
    },
    {
     "name": "stdout",
     "output_type": "stream",
     "text": [
      "iter >> 120; loss >> 3679.4017944335938\n"
     ]
    },
    {
     "name": "stderr",
     "output_type": "stream",
     "text": [
      "100%|██████████| 2/2 [00:02<00:00,  1.20s/it]\n",
      " 24%|██▍       | 121/500 [04:50<15:12,  2.41s/it]"
     ]
    },
    {
     "name": "stdout",
     "output_type": "stream",
     "text": [
      "model parameter >> [tensor([-0.0599], dtype=torch.float64, requires_grad=True), tensor([-0.2193], dtype=torch.float64, requires_grad=True), tensor([-0.4545], dtype=torch.float64, requires_grad=True), tensor([-0.1227], dtype=torch.float64, requires_grad=True), tensor([-0.3213], dtype=torch.float64, requires_grad=True), tensor([-0.0119], dtype=torch.float64, requires_grad=True)]\n",
      "iter >> 121; loss >> 4683.870849609375\n"
     ]
    },
    {
     "name": "stderr",
     "output_type": "stream",
     "text": [
      "100%|██████████| 2/2 [00:02<00:00,  1.20s/it]\n",
      " 24%|██▍       | 122/500 [04:52<15:09,  2.41s/it]"
     ]
    },
    {
     "name": "stdout",
     "output_type": "stream",
     "text": [
      "iter >> 122; loss >> 15992.0361328125\n"
     ]
    },
    {
     "name": "stderr",
     "output_type": "stream",
     "text": [
      "100%|██████████| 2/2 [00:02<00:00,  1.22s/it]\n",
      " 25%|██▍       | 123/500 [04:55<15:12,  2.42s/it]"
     ]
    },
    {
     "name": "stdout",
     "output_type": "stream",
     "text": [
      "iter >> 123; loss >> 9991.896850585938\n"
     ]
    },
    {
     "name": "stderr",
     "output_type": "stream",
     "text": [
      "100%|██████████| 2/2 [00:02<00:00,  1.19s/it]\n",
      " 25%|██▍       | 124/500 [04:57<15:06,  2.41s/it]"
     ]
    },
    {
     "name": "stdout",
     "output_type": "stream",
     "text": [
      "iter >> 124; loss >> 8318.132568359375\n"
     ]
    },
    {
     "name": "stderr",
     "output_type": "stream",
     "text": [
      "100%|██████████| 2/2 [00:02<00:00,  1.26s/it]\n",
      " 25%|██▌       | 125/500 [05:00<15:18,  2.45s/it]"
     ]
    },
    {
     "name": "stdout",
     "output_type": "stream",
     "text": [
      "iter >> 125; loss >> 4362.6865234375\n"
     ]
    },
    {
     "name": "stderr",
     "output_type": "stream",
     "text": [
      "100%|██████████| 2/2 [00:02<00:00,  1.19s/it]\n",
      " 25%|██▌       | 126/500 [05:02<15:10,  2.43s/it]"
     ]
    },
    {
     "name": "stdout",
     "output_type": "stream",
     "text": [
      "iter >> 126; loss >> 9612.525390625\n"
     ]
    },
    {
     "name": "stderr",
     "output_type": "stream",
     "text": [
      "100%|██████████| 2/2 [00:02<00:00,  1.20s/it]\n",
      " 25%|██▌       | 127/500 [05:04<15:05,  2.43s/it]"
     ]
    },
    {
     "name": "stdout",
     "output_type": "stream",
     "text": [
      "iter >> 127; loss >> 12568.686279296875\n"
     ]
    },
    {
     "name": "stderr",
     "output_type": "stream",
     "text": [
      "100%|██████████| 2/2 [00:02<00:00,  1.18s/it]\n",
      " 26%|██▌       | 128/500 [05:07<14:57,  2.41s/it]"
     ]
    },
    {
     "name": "stdout",
     "output_type": "stream",
     "text": [
      "iter >> 128; loss >> 7493.956268310547\n"
     ]
    },
    {
     "name": "stderr",
     "output_type": "stream",
     "text": [
      "100%|██████████| 2/2 [00:02<00:00,  1.19s/it]\n",
      " 26%|██▌       | 129/500 [05:09<14:51,  2.40s/it]"
     ]
    },
    {
     "name": "stdout",
     "output_type": "stream",
     "text": [
      "iter >> 129; loss >> 4374.143798828125\n"
     ]
    },
    {
     "name": "stderr",
     "output_type": "stream",
     "text": [
      "100%|██████████| 2/2 [00:02<00:00,  1.20s/it]\n",
      " 26%|██▌       | 130/500 [05:12<14:51,  2.41s/it]"
     ]
    },
    {
     "name": "stdout",
     "output_type": "stream",
     "text": [
      "iter >> 130; loss >> 7005.66357421875\n"
     ]
    },
    {
     "name": "stderr",
     "output_type": "stream",
     "text": [
      "100%|██████████| 2/2 [00:02<00:00,  1.18s/it]\n",
      " 26%|██▌       | 131/500 [05:14<14:45,  2.40s/it]"
     ]
    },
    {
     "name": "stdout",
     "output_type": "stream",
     "text": [
      "model parameter >> [tensor([-0.0400], dtype=torch.float64, requires_grad=True), tensor([-0.2374], dtype=torch.float64, requires_grad=True), tensor([-0.4647], dtype=torch.float64, requires_grad=True), tensor([-0.1316], dtype=torch.float64, requires_grad=True), tensor([-0.3263], dtype=torch.float64, requires_grad=True), tensor([-0.0159], dtype=torch.float64, requires_grad=True)]\n",
      "iter >> 131; loss >> 2952.0971069335938\n"
     ]
    },
    {
     "name": "stderr",
     "output_type": "stream",
     "text": [
      "100%|██████████| 2/2 [00:02<00:00,  1.20s/it]\n",
      " 26%|██▋       | 132/500 [05:16<14:45,  2.40s/it]"
     ]
    },
    {
     "name": "stdout",
     "output_type": "stream",
     "text": [
      "iter >> 132; loss >> 4921.2374267578125\n"
     ]
    },
    {
     "name": "stderr",
     "output_type": "stream",
     "text": [
      "100%|██████████| 2/2 [00:02<00:00,  1.17s/it]\n",
      " 27%|██▋       | 133/500 [05:19<14:37,  2.39s/it]"
     ]
    },
    {
     "name": "stdout",
     "output_type": "stream",
     "text": [
      "iter >> 133; loss >> 12481.14892578125\n"
     ]
    },
    {
     "name": "stderr",
     "output_type": "stream",
     "text": [
      "100%|██████████| 2/2 [00:02<00:00,  1.18s/it]\n",
      " 27%|██▋       | 134/500 [05:21<14:33,  2.39s/it]"
     ]
    },
    {
     "name": "stdout",
     "output_type": "stream",
     "text": [
      "iter >> 134; loss >> 5666.96630859375\n"
     ]
    },
    {
     "name": "stderr",
     "output_type": "stream",
     "text": [
      "100%|██████████| 2/2 [00:02<00:00,  1.27s/it]\n",
      " 27%|██▋       | 135/500 [05:24<14:48,  2.43s/it]"
     ]
    },
    {
     "name": "stdout",
     "output_type": "stream",
     "text": [
      "iter >> 135; loss >> 35440.083984375\n"
     ]
    },
    {
     "name": "stderr",
     "output_type": "stream",
     "text": [
      "100%|██████████| 2/2 [00:02<00:00,  1.18s/it]\n",
      " 27%|██▋       | 136/500 [05:26<14:40,  2.42s/it]"
     ]
    },
    {
     "name": "stdout",
     "output_type": "stream",
     "text": [
      "iter >> 136; loss >> 3592.7847900390625\n"
     ]
    },
    {
     "name": "stderr",
     "output_type": "stream",
     "text": [
      "100%|██████████| 2/2 [00:02<00:00,  1.18s/it]\n",
      " 27%|██▋       | 137/500 [05:28<14:33,  2.41s/it]"
     ]
    },
    {
     "name": "stdout",
     "output_type": "stream",
     "text": [
      "iter >> 137; loss >> 15921.9677734375\n"
     ]
    },
    {
     "name": "stderr",
     "output_type": "stream",
     "text": [
      "100%|██████████| 2/2 [00:02<00:00,  1.21s/it]\n",
      " 28%|██▊       | 138/500 [05:31<14:33,  2.41s/it]"
     ]
    },
    {
     "name": "stdout",
     "output_type": "stream",
     "text": [
      "iter >> 138; loss >> 16960.4130859375\n"
     ]
    },
    {
     "name": "stderr",
     "output_type": "stream",
     "text": [
      "100%|██████████| 2/2 [00:02<00:00,  1.18s/it]\n",
      " 28%|██▊       | 139/500 [05:33<14:26,  2.40s/it]"
     ]
    },
    {
     "name": "stdout",
     "output_type": "stream",
     "text": [
      "iter >> 139; loss >> 6033.7860107421875\n"
     ]
    },
    {
     "name": "stderr",
     "output_type": "stream",
     "text": [
      "100%|██████████| 2/2 [00:02<00:00,  1.19s/it]\n",
      " 28%|██▊       | 140/500 [05:36<14:22,  2.40s/it]"
     ]
    },
    {
     "name": "stdout",
     "output_type": "stream",
     "text": [
      "iter >> 140; loss >> 23234.39306640625\n"
     ]
    },
    {
     "name": "stderr",
     "output_type": "stream",
     "text": [
      "100%|██████████| 2/2 [00:02<00:00,  1.19s/it]\n",
      " 28%|██▊       | 141/500 [05:38<14:20,  2.40s/it]"
     ]
    },
    {
     "name": "stdout",
     "output_type": "stream",
     "text": [
      "model parameter >> [tensor([-0.0204], dtype=torch.float64, requires_grad=True), tensor([-0.2547], dtype=torch.float64, requires_grad=True), tensor([-0.4747], dtype=torch.float64, requires_grad=True), tensor([-0.1404], dtype=torch.float64, requires_grad=True), tensor([-0.3321], dtype=torch.float64, requires_grad=True), tensor([-0.0209], dtype=torch.float64, requires_grad=True)]\n",
      "iter >> 141; loss >> 10703.15869140625\n"
     ]
    },
    {
     "name": "stderr",
     "output_type": "stream",
     "text": [
      "100%|██████████| 2/2 [00:02<00:00,  1.19s/it]\n",
      " 28%|██▊       | 142/500 [05:40<14:17,  2.39s/it]"
     ]
    },
    {
     "name": "stdout",
     "output_type": "stream",
     "text": [
      "iter >> 142; loss >> 8033.091552734375\n"
     ]
    },
    {
     "name": "stderr",
     "output_type": "stream",
     "text": [
      "100%|██████████| 2/2 [00:02<00:00,  1.20s/it]\n",
      " 29%|██▊       | 143/500 [05:43<14:15,  2.40s/it]"
     ]
    },
    {
     "name": "stdout",
     "output_type": "stream",
     "text": [
      "iter >> 143; loss >> 4406.216552734375\n"
     ]
    },
    {
     "name": "stderr",
     "output_type": "stream",
     "text": [
      "100%|██████████| 2/2 [00:02<00:00,  1.19s/it]\n",
      " 29%|██▉       | 144/500 [05:45<14:12,  2.39s/it]"
     ]
    },
    {
     "name": "stdout",
     "output_type": "stream",
     "text": [
      "iter >> 144; loss >> 7331.882080078125\n"
     ]
    },
    {
     "name": "stderr",
     "output_type": "stream",
     "text": [
      "100%|██████████| 2/2 [00:02<00:00,  1.27s/it]\n",
      " 29%|██▉       | 145/500 [05:48<14:26,  2.44s/it]"
     ]
    },
    {
     "name": "stdout",
     "output_type": "stream",
     "text": [
      "iter >> 145; loss >> 10567.745361328125\n"
     ]
    },
    {
     "name": "stderr",
     "output_type": "stream",
     "text": [
      "100%|██████████| 2/2 [00:02<00:00,  1.19s/it]\n",
      " 29%|██▉       | 146/500 [05:50<14:18,  2.42s/it]"
     ]
    },
    {
     "name": "stdout",
     "output_type": "stream",
     "text": [
      "iter >> 146; loss >> 4886.654479980469\n"
     ]
    },
    {
     "name": "stderr",
     "output_type": "stream",
     "text": [
      "100%|██████████| 2/2 [00:02<00:00,  1.20s/it]\n",
      " 29%|██▉       | 147/500 [05:53<14:15,  2.42s/it]"
     ]
    },
    {
     "name": "stdout",
     "output_type": "stream",
     "text": [
      "iter >> 147; loss >> 11358.6806640625\n"
     ]
    },
    {
     "name": "stderr",
     "output_type": "stream",
     "text": [
      "100%|██████████| 2/2 [00:02<00:00,  1.20s/it]\n",
      " 30%|██▉       | 148/500 [05:55<14:11,  2.42s/it]"
     ]
    },
    {
     "name": "stdout",
     "output_type": "stream",
     "text": [
      "iter >> 148; loss >> 11489.58349609375\n"
     ]
    },
    {
     "name": "stderr",
     "output_type": "stream",
     "text": [
      "100%|██████████| 2/2 [00:02<00:00,  1.19s/it]\n",
      " 30%|██▉       | 149/500 [05:57<14:06,  2.41s/it]"
     ]
    },
    {
     "name": "stdout",
     "output_type": "stream",
     "text": [
      "iter >> 149; loss >> 4297.5430908203125\n"
     ]
    },
    {
     "name": "stderr",
     "output_type": "stream",
     "text": [
      "100%|██████████| 2/2 [00:02<00:00,  1.19s/it]\n",
      " 30%|███       | 150/500 [06:00<14:01,  2.41s/it]"
     ]
    },
    {
     "name": "stdout",
     "output_type": "stream",
     "text": [
      "iter >> 150; loss >> 8537.316162109375\n"
     ]
    },
    {
     "name": "stderr",
     "output_type": "stream",
     "text": [
      "100%|██████████| 2/2 [00:02<00:00,  1.19s/it]\n",
      " 30%|███       | 151/500 [06:02<13:58,  2.40s/it]"
     ]
    },
    {
     "name": "stdout",
     "output_type": "stream",
     "text": [
      "model parameter >> [tensor([-0.0011], dtype=torch.float64, requires_grad=True), tensor([-0.2713], dtype=torch.float64, requires_grad=True), tensor([-0.4830], dtype=torch.float64, requires_grad=True), tensor([-0.1473], dtype=torch.float64, requires_grad=True), tensor([-0.3377], dtype=torch.float64, requires_grad=True), tensor([-0.0255], dtype=torch.float64, requires_grad=True)]\n",
      "iter >> 151; loss >> 6056.401611328125\n"
     ]
    },
    {
     "name": "stderr",
     "output_type": "stream",
     "text": [
      "100%|██████████| 2/2 [00:02<00:00,  1.19s/it]\n",
      " 30%|███       | 152/500 [06:05<13:55,  2.40s/it]"
     ]
    },
    {
     "name": "stdout",
     "output_type": "stream",
     "text": [
      "iter >> 152; loss >> 10475.86083984375\n"
     ]
    },
    {
     "name": "stderr",
     "output_type": "stream",
     "text": [
      "100%|██████████| 2/2 [00:02<00:00,  1.18s/it]\n",
      " 31%|███       | 153/500 [06:07<13:50,  2.39s/it]"
     ]
    },
    {
     "name": "stdout",
     "output_type": "stream",
     "text": [
      "iter >> 153; loss >> 2323.1915893554688\n"
     ]
    },
    {
     "name": "stderr",
     "output_type": "stream",
     "text": [
      "100%|██████████| 2/2 [00:02<00:00,  1.19s/it]\n",
      " 31%|███       | 154/500 [06:09<13:48,  2.39s/it]"
     ]
    },
    {
     "name": "stdout",
     "output_type": "stream",
     "text": [
      "iter >> 154; loss >> 6545.37841796875\n"
     ]
    },
    {
     "name": "stderr",
     "output_type": "stream",
     "text": [
      "100%|██████████| 2/2 [00:02<00:00,  1.19s/it]\n",
      " 31%|███       | 155/500 [06:12<13:45,  2.39s/it]"
     ]
    },
    {
     "name": "stdout",
     "output_type": "stream",
     "text": [
      "iter >> 155; loss >> 15245.33447265625\n"
     ]
    },
    {
     "name": "stderr",
     "output_type": "stream",
     "text": [
      "100%|██████████| 2/2 [00:02<00:00,  1.18s/it]\n",
      " 31%|███       | 156/500 [06:14<13:41,  2.39s/it]"
     ]
    },
    {
     "name": "stdout",
     "output_type": "stream",
     "text": [
      "iter >> 156; loss >> 2654.1719970703125\n"
     ]
    },
    {
     "name": "stderr",
     "output_type": "stream",
     "text": [
      "100%|██████████| 2/2 [00:02<00:00,  1.26s/it]\n",
      " 31%|███▏      | 157/500 [06:17<13:55,  2.43s/it]"
     ]
    },
    {
     "name": "stdout",
     "output_type": "stream",
     "text": [
      "iter >> 157; loss >> 9517.91552734375\n"
     ]
    },
    {
     "name": "stderr",
     "output_type": "stream",
     "text": [
      "100%|██████████| 2/2 [00:02<00:00,  1.18s/it]\n",
      " 32%|███▏      | 158/500 [06:19<13:47,  2.42s/it]"
     ]
    },
    {
     "name": "stdout",
     "output_type": "stream",
     "text": [
      "iter >> 158; loss >> 17371.4921875\n"
     ]
    },
    {
     "name": "stderr",
     "output_type": "stream",
     "text": [
      "100%|██████████| 2/2 [00:02<00:00,  1.18s/it]\n",
      " 32%|███▏      | 159/500 [06:21<13:40,  2.41s/it]"
     ]
    },
    {
     "name": "stdout",
     "output_type": "stream",
     "text": [
      "iter >> 159; loss >> 3488.7384643554688\n"
     ]
    },
    {
     "name": "stderr",
     "output_type": "stream",
     "text": [
      "100%|██████████| 2/2 [00:02<00:00,  1.19s/it]\n",
      " 32%|███▏      | 160/500 [06:24<13:36,  2.40s/it]"
     ]
    },
    {
     "name": "stdout",
     "output_type": "stream",
     "text": [
      "iter >> 160; loss >> 7223.202880859375\n"
     ]
    },
    {
     "name": "stderr",
     "output_type": "stream",
     "text": [
      "100%|██████████| 2/2 [00:02<00:00,  1.17s/it]\n",
      " 32%|███▏      | 161/500 [06:26<13:30,  2.39s/it]"
     ]
    },
    {
     "name": "stdout",
     "output_type": "stream",
     "text": [
      "model parameter >> [tensor([0.0184], dtype=torch.float64, requires_grad=True), tensor([-0.2881], dtype=torch.float64, requires_grad=True), tensor([-0.4907], dtype=torch.float64, requires_grad=True), tensor([-0.1537], dtype=torch.float64, requires_grad=True), tensor([-0.3425], dtype=torch.float64, requires_grad=True), tensor([-0.0293], dtype=torch.float64, requires_grad=True)]\n",
      "iter >> 161; loss >> 7729.6865234375\n"
     ]
    },
    {
     "name": "stderr",
     "output_type": "stream",
     "text": [
      "100%|██████████| 2/2 [00:02<00:00,  1.18s/it]\n",
      " 32%|███▏      | 162/500 [06:29<13:25,  2.38s/it]"
     ]
    },
    {
     "name": "stdout",
     "output_type": "stream",
     "text": [
      "iter >> 162; loss >> 5474.5433349609375\n"
     ]
    },
    {
     "name": "stderr",
     "output_type": "stream",
     "text": [
      "100%|██████████| 2/2 [00:02<00:00,  1.19s/it]\n",
      " 33%|███▎      | 163/500 [06:31<13:24,  2.39s/it]"
     ]
    },
    {
     "name": "stdout",
     "output_type": "stream",
     "text": [
      "iter >> 163; loss >> 4048.358154296875\n"
     ]
    },
    {
     "name": "stderr",
     "output_type": "stream",
     "text": [
      "100%|██████████| 2/2 [00:02<00:00,  1.19s/it]\n",
      " 33%|███▎      | 164/500 [06:33<13:23,  2.39s/it]"
     ]
    },
    {
     "name": "stdout",
     "output_type": "stream",
     "text": [
      "iter >> 164; loss >> 4173.134765625\n"
     ]
    },
    {
     "name": "stderr",
     "output_type": "stream",
     "text": [
      "100%|██████████| 2/2 [00:02<00:00,  1.19s/it]\n",
      " 33%|███▎      | 165/500 [06:36<13:22,  2.40s/it]"
     ]
    },
    {
     "name": "stdout",
     "output_type": "stream",
     "text": [
      "iter >> 165; loss >> 4121.871032714844\n"
     ]
    },
    {
     "name": "stderr",
     "output_type": "stream",
     "text": [
      "100%|██████████| 2/2 [00:02<00:00,  1.20s/it]\n",
      " 33%|███▎      | 166/500 [06:38<13:22,  2.40s/it]"
     ]
    },
    {
     "name": "stdout",
     "output_type": "stream",
     "text": [
      "iter >> 166; loss >> 5174.861083984375\n"
     ]
    },
    {
     "name": "stderr",
     "output_type": "stream",
     "text": [
      "100%|██████████| 2/2 [00:02<00:00,  1.18s/it]\n",
      " 33%|███▎      | 167/500 [06:41<13:16,  2.39s/it]"
     ]
    },
    {
     "name": "stdout",
     "output_type": "stream",
     "text": [
      "iter >> 167; loss >> 3256.313720703125\n"
     ]
    },
    {
     "name": "stderr",
     "output_type": "stream",
     "text": [
      "100%|██████████| 2/2 [00:02<00:00,  1.20s/it]\n",
      " 34%|███▎      | 168/500 [06:43<13:16,  2.40s/it]"
     ]
    },
    {
     "name": "stdout",
     "output_type": "stream",
     "text": [
      "iter >> 168; loss >> 4200.8629150390625\n"
     ]
    },
    {
     "name": "stderr",
     "output_type": "stream",
     "text": [
      "100%|██████████| 2/2 [00:02<00:00,  1.28s/it]\n",
      " 34%|███▍      | 169/500 [06:46<13:30,  2.45s/it]"
     ]
    },
    {
     "name": "stdout",
     "output_type": "stream",
     "text": [
      "iter >> 169; loss >> 6524.0400390625\n"
     ]
    },
    {
     "name": "stderr",
     "output_type": "stream",
     "text": [
      "100%|██████████| 2/2 [00:02<00:00,  1.18s/it]\n",
      " 34%|███▍      | 170/500 [06:48<13:21,  2.43s/it]"
     ]
    },
    {
     "name": "stdout",
     "output_type": "stream",
     "text": [
      "iter >> 170; loss >> 7888.782470703125\n"
     ]
    },
    {
     "name": "stderr",
     "output_type": "stream",
     "text": [
      "100%|██████████| 2/2 [00:02<00:00,  1.19s/it]\n",
      " 34%|███▍      | 171/500 [06:50<13:15,  2.42s/it]"
     ]
    },
    {
     "name": "stdout",
     "output_type": "stream",
     "text": [
      "model parameter >> [tensor([0.0379], dtype=torch.float64, requires_grad=True), tensor([-0.3050], dtype=torch.float64, requires_grad=True), tensor([-0.4997], dtype=torch.float64, requires_grad=True), tensor([-0.1616], dtype=torch.float64, requires_grad=True), tensor([-0.3463], dtype=torch.float64, requires_grad=True), tensor([-0.0323], dtype=torch.float64, requires_grad=True)]\n",
      "iter >> 171; loss >> 16473.929931640625\n"
     ]
    },
    {
     "name": "stderr",
     "output_type": "stream",
     "text": [
      "100%|██████████| 2/2 [00:02<00:00,  1.22s/it]\n",
      " 34%|███▍      | 172/500 [06:53<13:15,  2.43s/it]"
     ]
    },
    {
     "name": "stdout",
     "output_type": "stream",
     "text": [
      "iter >> 172; loss >> 4610.3148193359375\n"
     ]
    },
    {
     "name": "stderr",
     "output_type": "stream",
     "text": [
      "100%|██████████| 2/2 [00:02<00:00,  1.18s/it]\n",
      " 35%|███▍      | 173/500 [06:55<13:09,  2.41s/it]"
     ]
    },
    {
     "name": "stdout",
     "output_type": "stream",
     "text": [
      "iter >> 173; loss >> 7414.9248046875\n"
     ]
    },
    {
     "name": "stderr",
     "output_type": "stream",
     "text": [
      "100%|██████████| 2/2 [00:02<00:00,  1.18s/it]\n",
      " 35%|███▍      | 174/500 [06:58<13:03,  2.40s/it]"
     ]
    },
    {
     "name": "stdout",
     "output_type": "stream",
     "text": [
      "iter >> 174; loss >> 2571.2489013671875\n"
     ]
    },
    {
     "name": "stderr",
     "output_type": "stream",
     "text": [
      "100%|██████████| 2/2 [00:02<00:00,  1.20s/it]\n",
      " 35%|███▌      | 175/500 [07:00<13:02,  2.41s/it]"
     ]
    },
    {
     "name": "stdout",
     "output_type": "stream",
     "text": [
      "iter >> 175; loss >> 3363.3524169921875\n"
     ]
    },
    {
     "name": "stderr",
     "output_type": "stream",
     "text": [
      "100%|██████████| 2/2 [00:02<00:00,  1.20s/it]\n",
      " 35%|███▌      | 176/500 [07:02<13:00,  2.41s/it]"
     ]
    },
    {
     "name": "stdout",
     "output_type": "stream",
     "text": [
      "iter >> 176; loss >> 4533.3267822265625\n"
     ]
    },
    {
     "name": "stderr",
     "output_type": "stream",
     "text": [
      "100%|██████████| 2/2 [00:02<00:00,  1.17s/it]\n",
      " 35%|███▌      | 177/500 [07:05<12:53,  2.40s/it]"
     ]
    },
    {
     "name": "stdout",
     "output_type": "stream",
     "text": [
      "iter >> 177; loss >> 4948.632080078125\n"
     ]
    },
    {
     "name": "stderr",
     "output_type": "stream",
     "text": [
      "100%|██████████| 2/2 [00:02<00:00,  1.17s/it]\n",
      " 36%|███▌      | 178/500 [07:07<12:48,  2.39s/it]"
     ]
    },
    {
     "name": "stdout",
     "output_type": "stream",
     "text": [
      "iter >> 178; loss >> 9927.320068359375\n"
     ]
    },
    {
     "name": "stderr",
     "output_type": "stream",
     "text": [
      "100%|██████████| 2/2 [00:02<00:00,  1.25s/it]\n",
      " 36%|███▌      | 179/500 [07:10<12:57,  2.42s/it]"
     ]
    },
    {
     "name": "stdout",
     "output_type": "stream",
     "text": [
      "iter >> 179; loss >> 2986.0849609375\n"
     ]
    },
    {
     "name": "stderr",
     "output_type": "stream",
     "text": [
      "100%|██████████| 2/2 [00:02<00:00,  1.18s/it]\n",
      " 36%|███▌      | 180/500 [07:12<12:50,  2.41s/it]"
     ]
    },
    {
     "name": "stdout",
     "output_type": "stream",
     "text": [
      "iter >> 180; loss >> 39664.516845703125\n"
     ]
    },
    {
     "name": "stderr",
     "output_type": "stream",
     "text": [
      "100%|██████████| 2/2 [00:02<00:00,  1.20s/it]\n",
      " 36%|███▌      | 181/500 [07:14<12:48,  2.41s/it]"
     ]
    },
    {
     "name": "stdout",
     "output_type": "stream",
     "text": [
      "model parameter >> [tensor([0.0574], dtype=torch.float64, requires_grad=True), tensor([-0.3214], dtype=torch.float64, requires_grad=True), tensor([-0.5095], dtype=torch.float64, requires_grad=True), tensor([-0.1701], dtype=torch.float64, requires_grad=True), tensor([-0.3506], dtype=torch.float64, requires_grad=True), tensor([-0.0359], dtype=torch.float64, requires_grad=True)]\n",
      "iter >> 181; loss >> 5149.5146484375\n"
     ]
    },
    {
     "name": "stderr",
     "output_type": "stream",
     "text": [
      "100%|██████████| 2/2 [00:02<00:00,  1.18s/it]\n",
      " 36%|███▋      | 182/500 [07:17<12:42,  2.40s/it]"
     ]
    },
    {
     "name": "stdout",
     "output_type": "stream",
     "text": [
      "iter >> 182; loss >> 14142.23291015625\n"
     ]
    },
    {
     "name": "stderr",
     "output_type": "stream",
     "text": [
      "100%|██████████| 2/2 [00:02<00:00,  1.18s/it]\n",
      " 37%|███▋      | 183/500 [07:19<12:38,  2.39s/it]"
     ]
    },
    {
     "name": "stdout",
     "output_type": "stream",
     "text": [
      "iter >> 183; loss >> 4860.863037109375\n"
     ]
    },
    {
     "name": "stderr",
     "output_type": "stream",
     "text": [
      "100%|██████████| 2/2 [00:02<00:00,  1.21s/it]\n",
      " 37%|███▋      | 184/500 [07:22<12:38,  2.40s/it]"
     ]
    },
    {
     "name": "stdout",
     "output_type": "stream",
     "text": [
      "iter >> 184; loss >> 13347.40234375\n"
     ]
    },
    {
     "name": "stderr",
     "output_type": "stream",
     "text": [
      "100%|██████████| 2/2 [00:02<00:00,  1.19s/it]\n",
      " 37%|███▋      | 185/500 [07:24<12:35,  2.40s/it]"
     ]
    },
    {
     "name": "stdout",
     "output_type": "stream",
     "text": [
      "iter >> 185; loss >> 4728.2041015625\n"
     ]
    },
    {
     "name": "stderr",
     "output_type": "stream",
     "text": [
      "100%|██████████| 2/2 [00:02<00:00,  1.20s/it]\n",
      " 37%|███▋      | 186/500 [07:26<12:35,  2.40s/it]"
     ]
    },
    {
     "name": "stdout",
     "output_type": "stream",
     "text": [
      "iter >> 186; loss >> 5071.2659912109375\n"
     ]
    },
    {
     "name": "stderr",
     "output_type": "stream",
     "text": [
      "100%|██████████| 2/2 [00:02<00:00,  1.19s/it]\n",
      " 37%|███▋      | 187/500 [07:29<12:32,  2.40s/it]"
     ]
    },
    {
     "name": "stdout",
     "output_type": "stream",
     "text": [
      "iter >> 187; loss >> 9598.52392578125\n"
     ]
    },
    {
     "name": "stderr",
     "output_type": "stream",
     "text": [
      "100%|██████████| 2/2 [00:02<00:00,  1.20s/it]\n",
      " 38%|███▊      | 188/500 [07:31<12:31,  2.41s/it]"
     ]
    },
    {
     "name": "stdout",
     "output_type": "stream",
     "text": [
      "iter >> 188; loss >> 5631.239501953125\n"
     ]
    },
    {
     "name": "stderr",
     "output_type": "stream",
     "text": [
      "100%|██████████| 2/2 [00:02<00:00,  1.26s/it]\n",
      " 38%|███▊      | 189/500 [07:34<12:40,  2.44s/it]"
     ]
    },
    {
     "name": "stdout",
     "output_type": "stream",
     "text": [
      "iter >> 189; loss >> 12183.356201171875\n"
     ]
    },
    {
     "name": "stderr",
     "output_type": "stream",
     "text": [
      "100%|██████████| 2/2 [00:02<00:00,  1.20s/it]\n",
      " 38%|███▊      | 190/500 [07:36<12:35,  2.44s/it]"
     ]
    },
    {
     "name": "stdout",
     "output_type": "stream",
     "text": [
      "iter >> 190; loss >> 12381.37109375\n"
     ]
    },
    {
     "name": "stderr",
     "output_type": "stream",
     "text": [
      "100%|██████████| 2/2 [00:02<00:00,  1.18s/it]\n",
      " 38%|███▊      | 191/500 [07:39<12:28,  2.42s/it]"
     ]
    },
    {
     "name": "stdout",
     "output_type": "stream",
     "text": [
      "model parameter >> [tensor([0.0769], dtype=torch.float64, requires_grad=True), tensor([-0.3379], dtype=torch.float64, requires_grad=True), tensor([-0.5197], dtype=torch.float64, requires_grad=True), tensor([-0.1790], dtype=torch.float64, requires_grad=True), tensor([-0.3568], dtype=torch.float64, requires_grad=True), tensor([-0.0411], dtype=torch.float64, requires_grad=True)]\n",
      "iter >> 191; loss >> 5322.787109375\n"
     ]
    },
    {
     "name": "stderr",
     "output_type": "stream",
     "text": [
      "100%|██████████| 2/2 [00:02<00:00,  1.21s/it]\n",
      " 38%|███▊      | 192/500 [07:41<12:26,  2.42s/it]"
     ]
    },
    {
     "name": "stdout",
     "output_type": "stream",
     "text": [
      "iter >> 192; loss >> 3395.039794921875\n"
     ]
    },
    {
     "name": "stderr",
     "output_type": "stream",
     "text": [
      "100%|██████████| 2/2 [00:02<00:00,  1.18s/it]\n",
      " 39%|███▊      | 193/500 [07:43<12:20,  2.41s/it]"
     ]
    },
    {
     "name": "stdout",
     "output_type": "stream",
     "text": [
      "iter >> 193; loss >> 7103.3408203125\n"
     ]
    },
    {
     "name": "stderr",
     "output_type": "stream",
     "text": [
      "100%|██████████| 2/2 [00:02<00:00,  1.18s/it]\n",
      " 39%|███▉      | 194/500 [07:46<12:15,  2.40s/it]"
     ]
    },
    {
     "name": "stdout",
     "output_type": "stream",
     "text": [
      "iter >> 194; loss >> 1125.8330688476562\n"
     ]
    },
    {
     "name": "stderr",
     "output_type": "stream",
     "text": [
      "100%|██████████| 2/2 [00:02<00:00,  1.19s/it]\n",
      " 39%|███▉      | 195/500 [07:48<12:12,  2.40s/it]"
     ]
    },
    {
     "name": "stdout",
     "output_type": "stream",
     "text": [
      "iter >> 195; loss >> 10671.750732421875\n"
     ]
    },
    {
     "name": "stderr",
     "output_type": "stream",
     "text": [
      "100%|██████████| 2/2 [00:02<00:00,  1.19s/it]\n",
      " 39%|███▉      | 196/500 [07:50<12:09,  2.40s/it]"
     ]
    },
    {
     "name": "stdout",
     "output_type": "stream",
     "text": [
      "iter >> 196; loss >> 12642.75732421875\n"
     ]
    },
    {
     "name": "stderr",
     "output_type": "stream",
     "text": [
      "100%|██████████| 2/2 [00:02<00:00,  1.21s/it]\n",
      " 39%|███▉      | 197/500 [07:53<12:09,  2.41s/it]"
     ]
    },
    {
     "name": "stdout",
     "output_type": "stream",
     "text": [
      "iter >> 197; loss >> 4062.6529541015625\n"
     ]
    },
    {
     "name": "stderr",
     "output_type": "stream",
     "text": [
      "100%|██████████| 2/2 [00:02<00:00,  1.18s/it]\n",
      " 40%|███▉      | 198/500 [07:55<12:03,  2.40s/it]"
     ]
    },
    {
     "name": "stdout",
     "output_type": "stream",
     "text": [
      "iter >> 198; loss >> 4347.067077636719\n"
     ]
    },
    {
     "name": "stderr",
     "output_type": "stream",
     "text": [
      "100%|██████████| 2/2 [00:02<00:00,  1.18s/it]\n",
      " 40%|███▉      | 199/500 [07:58<11:59,  2.39s/it]"
     ]
    },
    {
     "name": "stdout",
     "output_type": "stream",
     "text": [
      "iter >> 199; loss >> 4031.54931640625\n"
     ]
    },
    {
     "name": "stderr",
     "output_type": "stream",
     "text": [
      "100%|██████████| 2/2 [00:02<00:00,  1.20s/it]\n",
      " 40%|████      | 200/500 [08:00<11:58,  2.40s/it]"
     ]
    },
    {
     "name": "stdout",
     "output_type": "stream",
     "text": [
      "iter >> 200; loss >> 2250.5509643554688\n"
     ]
    },
    {
     "name": "stderr",
     "output_type": "stream",
     "text": [
      "100%|██████████| 2/2 [00:02<00:00,  1.27s/it]\n",
      " 40%|████      | 201/500 [08:03<12:10,  2.44s/it]"
     ]
    },
    {
     "name": "stdout",
     "output_type": "stream",
     "text": [
      "model parameter >> [tensor([0.0962], dtype=torch.float64, requires_grad=True), tensor([-0.3542], dtype=torch.float64, requires_grad=True), tensor([-0.5277], dtype=torch.float64, requires_grad=True), tensor([-0.1859], dtype=torch.float64, requires_grad=True), tensor([-0.3614], dtype=torch.float64, requires_grad=True), tensor([-0.0448], dtype=torch.float64, requires_grad=True)]\n",
      "iter >> 201; loss >> 10049.95703125\n"
     ]
    },
    {
     "name": "stderr",
     "output_type": "stream",
     "text": [
      "100%|██████████| 2/2 [00:02<00:00,  1.21s/it]\n",
      " 40%|████      | 202/500 [08:05<12:07,  2.44s/it]"
     ]
    },
    {
     "name": "stdout",
     "output_type": "stream",
     "text": [
      "iter >> 202; loss >> 6065.6171875\n"
     ]
    },
    {
     "name": "stderr",
     "output_type": "stream",
     "text": [
      "100%|██████████| 2/2 [00:02<00:00,  1.18s/it]\n",
      " 41%|████      | 203/500 [08:07<11:57,  2.42s/it]"
     ]
    },
    {
     "name": "stdout",
     "output_type": "stream",
     "text": [
      "iter >> 203; loss >> 4273.593994140625\n"
     ]
    },
    {
     "name": "stderr",
     "output_type": "stream",
     "text": [
      "100%|██████████| 2/2 [00:02<00:00,  1.18s/it]\n",
      " 41%|████      | 204/500 [08:10<11:50,  2.40s/it]"
     ]
    },
    {
     "name": "stdout",
     "output_type": "stream",
     "text": [
      "iter >> 204; loss >> 2893.3580322265625\n"
     ]
    },
    {
     "name": "stderr",
     "output_type": "stream",
     "text": [
      "100%|██████████| 2/2 [00:02<00:00,  1.19s/it]\n",
      " 41%|████      | 205/500 [08:12<11:47,  2.40s/it]"
     ]
    },
    {
     "name": "stdout",
     "output_type": "stream",
     "text": [
      "iter >> 205; loss >> 3388.675048828125\n"
     ]
    },
    {
     "name": "stderr",
     "output_type": "stream",
     "text": [
      "100%|██████████| 2/2 [00:02<00:00,  1.20s/it]\n",
      " 41%|████      | 206/500 [08:15<11:47,  2.40s/it]"
     ]
    },
    {
     "name": "stdout",
     "output_type": "stream",
     "text": [
      "iter >> 206; loss >> 6746.266845703125\n"
     ]
    },
    {
     "name": "stderr",
     "output_type": "stream",
     "text": [
      "100%|██████████| 2/2 [00:02<00:00,  1.21s/it]\n",
      " 41%|████▏     | 207/500 [08:17<11:46,  2.41s/it]"
     ]
    },
    {
     "name": "stdout",
     "output_type": "stream",
     "text": [
      "iter >> 207; loss >> 6998.995361328125\n"
     ]
    },
    {
     "name": "stderr",
     "output_type": "stream",
     "text": [
      "100%|██████████| 2/2 [00:02<00:00,  1.20s/it]\n",
      " 42%|████▏     | 208/500 [08:19<11:44,  2.41s/it]"
     ]
    },
    {
     "name": "stdout",
     "output_type": "stream",
     "text": [
      "iter >> 208; loss >> 9285.434326171875\n"
     ]
    },
    {
     "name": "stderr",
     "output_type": "stream",
     "text": [
      "100%|██████████| 2/2 [00:02<00:00,  1.20s/it]\n",
      " 42%|████▏     | 209/500 [08:22<11:42,  2.41s/it]"
     ]
    },
    {
     "name": "stdout",
     "output_type": "stream",
     "text": [
      "iter >> 209; loss >> 6196.728759765625\n"
     ]
    },
    {
     "name": "stderr",
     "output_type": "stream",
     "text": [
      "100%|██████████| 2/2 [00:02<00:00,  1.22s/it]\n",
      " 42%|████▏     | 210/500 [08:24<11:43,  2.43s/it]"
     ]
    },
    {
     "name": "stdout",
     "output_type": "stream",
     "text": [
      "iter >> 210; loss >> 4169.9227294921875\n"
     ]
    },
    {
     "name": "stderr",
     "output_type": "stream",
     "text": [
      "100%|██████████| 2/2 [00:02<00:00,  1.20s/it]\n",
      " 42%|████▏     | 211/500 [08:27<11:39,  2.42s/it]"
     ]
    },
    {
     "name": "stdout",
     "output_type": "stream",
     "text": [
      "model parameter >> [tensor([0.1156], dtype=torch.float64, requires_grad=True), tensor([-0.3705], dtype=torch.float64, requires_grad=True), tensor([-0.5355], dtype=torch.float64, requires_grad=True), tensor([-0.1927], dtype=torch.float64, requires_grad=True), tensor([-0.3653], dtype=torch.float64, requires_grad=True), tensor([-0.0478], dtype=torch.float64, requires_grad=True)]\n",
      "iter >> 211; loss >> 6587.469482421875\n"
     ]
    },
    {
     "name": "stderr",
     "output_type": "stream",
     "text": [
      "100%|██████████| 2/2 [00:02<00:00,  1.19s/it]\n",
      " 42%|████▏     | 212/500 [08:29<11:34,  2.41s/it]"
     ]
    },
    {
     "name": "stdout",
     "output_type": "stream",
     "text": [
      "iter >> 212; loss >> 7156.071044921875\n"
     ]
    },
    {
     "name": "stderr",
     "output_type": "stream",
     "text": [
      "100%|██████████| 2/2 [00:02<00:00,  1.26s/it]\n",
      " 43%|████▎     | 213/500 [08:32<11:41,  2.45s/it]"
     ]
    },
    {
     "name": "stdout",
     "output_type": "stream",
     "text": [
      "iter >> 213; loss >> 2490.9085693359375\n"
     ]
    },
    {
     "name": "stderr",
     "output_type": "stream",
     "text": [
      "100%|██████████| 2/2 [00:02<00:00,  1.19s/it]\n",
      " 43%|████▎     | 214/500 [08:34<11:35,  2.43s/it]"
     ]
    },
    {
     "name": "stdout",
     "output_type": "stream",
     "text": [
      "iter >> 214; loss >> 22357.0732421875\n"
     ]
    },
    {
     "name": "stderr",
     "output_type": "stream",
     "text": [
      "100%|██████████| 2/2 [00:02<00:00,  1.19s/it]\n",
      " 43%|████▎     | 215/500 [08:36<11:30,  2.42s/it]"
     ]
    },
    {
     "name": "stdout",
     "output_type": "stream",
     "text": [
      "iter >> 215; loss >> 4664.13330078125\n"
     ]
    },
    {
     "name": "stderr",
     "output_type": "stream",
     "text": [
      "100%|██████████| 2/2 [00:02<00:00,  1.19s/it]\n",
      " 43%|████▎     | 216/500 [08:39<11:25,  2.41s/it]"
     ]
    },
    {
     "name": "stdout",
     "output_type": "stream",
     "text": [
      "iter >> 216; loss >> 5620.862548828125\n"
     ]
    },
    {
     "name": "stderr",
     "output_type": "stream",
     "text": [
      "100%|██████████| 2/2 [00:02<00:00,  1.19s/it]\n",
      " 43%|████▎     | 217/500 [08:41<11:21,  2.41s/it]"
     ]
    },
    {
     "name": "stdout",
     "output_type": "stream",
     "text": [
      "iter >> 217; loss >> 7215.1123046875\n"
     ]
    },
    {
     "name": "stderr",
     "output_type": "stream",
     "text": [
      "100%|██████████| 2/2 [00:02<00:00,  1.19s/it]\n",
      " 44%|████▎     | 218/500 [08:44<11:17,  2.40s/it]"
     ]
    },
    {
     "name": "stdout",
     "output_type": "stream",
     "text": [
      "iter >> 218; loss >> 1135.7476501464844\n"
     ]
    },
    {
     "name": "stderr",
     "output_type": "stream",
     "text": [
      "100%|██████████| 2/2 [00:02<00:00,  1.20s/it]\n",
      " 44%|████▍     | 219/500 [08:46<11:15,  2.40s/it]"
     ]
    },
    {
     "name": "stdout",
     "output_type": "stream",
     "text": [
      "iter >> 219; loss >> 11557.451171875\n"
     ]
    },
    {
     "name": "stderr",
     "output_type": "stream",
     "text": [
      "100%|██████████| 2/2 [00:02<00:00,  1.21s/it]\n",
      " 44%|████▍     | 220/500 [08:48<11:14,  2.41s/it]"
     ]
    },
    {
     "name": "stdout",
     "output_type": "stream",
     "text": [
      "iter >> 220; loss >> 5568.7205810546875\n"
     ]
    },
    {
     "name": "stderr",
     "output_type": "stream",
     "text": [
      "100%|██████████| 2/2 [00:02<00:00,  1.18s/it]\n",
      " 44%|████▍     | 221/500 [08:51<11:09,  2.40s/it]"
     ]
    },
    {
     "name": "stdout",
     "output_type": "stream",
     "text": [
      "model parameter >> [tensor([0.1349], dtype=torch.float64, requires_grad=True), tensor([-0.3864], dtype=torch.float64, requires_grad=True), tensor([-0.5430], dtype=torch.float64, requires_grad=True), tensor([-0.1991], dtype=torch.float64, requires_grad=True), tensor([-0.3702], dtype=torch.float64, requires_grad=True), tensor([-0.0517], dtype=torch.float64, requires_grad=True)]\n",
      "iter >> 221; loss >> 3666.636474609375\n"
     ]
    },
    {
     "name": "stderr",
     "output_type": "stream",
     "text": [
      "100%|██████████| 2/2 [00:02<00:00,  1.19s/it]\n",
      " 44%|████▍     | 222/500 [08:53<11:06,  2.40s/it]"
     ]
    },
    {
     "name": "stdout",
     "output_type": "stream",
     "text": [
      "iter >> 222; loss >> 2586.4197998046875\n"
     ]
    },
    {
     "name": "stderr",
     "output_type": "stream",
     "text": [
      "100%|██████████| 2/2 [00:02<00:00,  1.27s/it]\n",
      " 45%|████▍     | 223/500 [08:56<11:17,  2.44s/it]"
     ]
    },
    {
     "name": "stdout",
     "output_type": "stream",
     "text": [
      "iter >> 223; loss >> 4475.453857421875\n"
     ]
    },
    {
     "name": "stderr",
     "output_type": "stream",
     "text": [
      "100%|██████████| 2/2 [00:02<00:00,  1.18s/it]\n",
      " 45%|████▍     | 224/500 [08:58<11:08,  2.42s/it]"
     ]
    },
    {
     "name": "stdout",
     "output_type": "stream",
     "text": [
      "iter >> 224; loss >> 5483.63671875\n"
     ]
    },
    {
     "name": "stderr",
     "output_type": "stream",
     "text": [
      "100%|██████████| 2/2 [00:02<00:00,  1.18s/it]\n",
      " 45%|████▌     | 225/500 [09:01<11:01,  2.41s/it]"
     ]
    },
    {
     "name": "stdout",
     "output_type": "stream",
     "text": [
      "iter >> 225; loss >> 4980.89013671875\n"
     ]
    },
    {
     "name": "stderr",
     "output_type": "stream",
     "text": [
      "100%|██████████| 2/2 [00:02<00:00,  1.19s/it]\n",
      " 45%|████▌     | 226/500 [09:03<10:58,  2.40s/it]"
     ]
    },
    {
     "name": "stdout",
     "output_type": "stream",
     "text": [
      "iter >> 226; loss >> 2301.449951171875\n"
     ]
    },
    {
     "name": "stderr",
     "output_type": "stream",
     "text": [
      "100%|██████████| 2/2 [00:02<00:00,  1.19s/it]\n",
      " 45%|████▌     | 227/500 [09:05<10:56,  2.40s/it]"
     ]
    },
    {
     "name": "stdout",
     "output_type": "stream",
     "text": [
      "iter >> 227; loss >> 9504.5361328125\n"
     ]
    },
    {
     "name": "stderr",
     "output_type": "stream",
     "text": [
      "100%|██████████| 2/2 [00:02<00:00,  1.20s/it]\n",
      " 46%|████▌     | 228/500 [09:08<10:54,  2.40s/it]"
     ]
    },
    {
     "name": "stdout",
     "output_type": "stream",
     "text": [
      "iter >> 228; loss >> 9843.43408203125\n"
     ]
    },
    {
     "name": "stderr",
     "output_type": "stream",
     "text": [
      "100%|██████████| 2/2 [00:02<00:00,  1.20s/it]\n",
      " 46%|████▌     | 229/500 [09:10<10:52,  2.41s/it]"
     ]
    },
    {
     "name": "stdout",
     "output_type": "stream",
     "text": [
      "iter >> 229; loss >> 37898.57263183594\n"
     ]
    },
    {
     "name": "stderr",
     "output_type": "stream",
     "text": [
      "100%|██████████| 2/2 [00:02<00:00,  1.19s/it]\n",
      " 46%|████▌     | 230/500 [09:13<10:49,  2.40s/it]"
     ]
    },
    {
     "name": "stdout",
     "output_type": "stream",
     "text": [
      "iter >> 230; loss >> 2122.7095947265625\n"
     ]
    },
    {
     "name": "stderr",
     "output_type": "stream",
     "text": [
      "100%|██████████| 2/2 [00:02<00:00,  1.22s/it]\n",
      " 46%|████▌     | 231/500 [09:15<10:50,  2.42s/it]"
     ]
    },
    {
     "name": "stdout",
     "output_type": "stream",
     "text": [
      "model parameter >> [tensor([0.1541], dtype=torch.float64, requires_grad=True), tensor([-0.4021], dtype=torch.float64, requires_grad=True), tensor([-0.5499], dtype=torch.float64, requires_grad=True), tensor([-0.2051], dtype=torch.float64, requires_grad=True), tensor([-0.3752], dtype=torch.float64, requires_grad=True), tensor([-0.0559], dtype=torch.float64, requires_grad=True)]\n",
      "iter >> 231; loss >> 2285.3316650390625\n"
     ]
    },
    {
     "name": "stderr",
     "output_type": "stream",
     "text": [
      "100%|██████████| 2/2 [00:02<00:00,  1.19s/it]\n",
      " 46%|████▋     | 232/500 [09:17<10:46,  2.41s/it]"
     ]
    },
    {
     "name": "stdout",
     "output_type": "stream",
     "text": [
      "iter >> 232; loss >> 5033.7879638671875\n"
     ]
    },
    {
     "name": "stderr",
     "output_type": "stream",
     "text": [
      "100%|██████████| 2/2 [00:02<00:00,  1.28s/it]\n",
      " 47%|████▋     | 233/500 [09:20<10:57,  2.46s/it]"
     ]
    },
    {
     "name": "stdout",
     "output_type": "stream",
     "text": [
      "iter >> 233; loss >> 6919.6357421875\n"
     ]
    },
    {
     "name": "stderr",
     "output_type": "stream",
     "text": [
      "100%|██████████| 2/2 [00:02<00:00,  1.19s/it]\n",
      " 47%|████▋     | 234/500 [09:22<10:49,  2.44s/it]"
     ]
    },
    {
     "name": "stdout",
     "output_type": "stream",
     "text": [
      "iter >> 234; loss >> 4099.7158203125\n"
     ]
    },
    {
     "name": "stderr",
     "output_type": "stream",
     "text": [
      "100%|██████████| 2/2 [00:02<00:00,  1.19s/it]\n",
      " 47%|████▋     | 235/500 [09:25<10:43,  2.43s/it]"
     ]
    },
    {
     "name": "stdout",
     "output_type": "stream",
     "text": [
      "iter >> 235; loss >> 7284.70556640625\n"
     ]
    },
    {
     "name": "stderr",
     "output_type": "stream",
     "text": [
      "100%|██████████| 2/2 [00:02<00:00,  1.19s/it]\n",
      " 47%|████▋     | 236/500 [09:27<10:38,  2.42s/it]"
     ]
    },
    {
     "name": "stdout",
     "output_type": "stream",
     "text": [
      "iter >> 236; loss >> 1890.1697692871094\n"
     ]
    },
    {
     "name": "stderr",
     "output_type": "stream",
     "text": [
      "100%|██████████| 2/2 [00:02<00:00,  1.19s/it]\n",
      " 47%|████▋     | 237/500 [09:30<10:33,  2.41s/it]"
     ]
    },
    {
     "name": "stdout",
     "output_type": "stream",
     "text": [
      "iter >> 237; loss >> 4997.7451171875\n"
     ]
    },
    {
     "name": "stderr",
     "output_type": "stream",
     "text": [
      "100%|██████████| 2/2 [00:02<00:00,  1.18s/it]\n",
      " 48%|████▊     | 238/500 [09:32<10:28,  2.40s/it]"
     ]
    },
    {
     "name": "stdout",
     "output_type": "stream",
     "text": [
      "iter >> 238; loss >> 5908.0245361328125\n"
     ]
    },
    {
     "name": "stderr",
     "output_type": "stream",
     "text": [
      "100%|██████████| 2/2 [00:02<00:00,  1.18s/it]\n",
      " 48%|████▊     | 239/500 [09:34<10:24,  2.39s/it]"
     ]
    },
    {
     "name": "stdout",
     "output_type": "stream",
     "text": [
      "iter >> 239; loss >> 19573.22021484375\n"
     ]
    },
    {
     "name": "stderr",
     "output_type": "stream",
     "text": [
      "100%|██████████| 2/2 [00:02<00:00,  1.20s/it]\n",
      " 48%|████▊     | 240/500 [09:37<10:24,  2.40s/it]"
     ]
    },
    {
     "name": "stdout",
     "output_type": "stream",
     "text": [
      "iter >> 240; loss >> 3736.2689208984375\n"
     ]
    },
    {
     "name": "stderr",
     "output_type": "stream",
     "text": [
      "100%|██████████| 2/2 [00:02<00:00,  1.18s/it]\n",
      " 48%|████▊     | 241/500 [09:39<10:20,  2.40s/it]"
     ]
    },
    {
     "name": "stdout",
     "output_type": "stream",
     "text": [
      "model parameter >> [tensor([0.1733], dtype=torch.float64, requires_grad=True), tensor([-0.4178], dtype=torch.float64, requires_grad=True), tensor([-0.5578], dtype=torch.float64, requires_grad=True), tensor([-0.2122], dtype=torch.float64, requires_grad=True), tensor([-0.3804], dtype=torch.float64, requires_grad=True), tensor([-0.0603], dtype=torch.float64, requires_grad=True)]\n",
      "iter >> 241; loss >> 18291.2275390625\n"
     ]
    },
    {
     "name": "stderr",
     "output_type": "stream",
     "text": [
      "100%|██████████| 2/2 [00:02<00:00,  1.19s/it]\n",
      " 48%|████▊     | 242/500 [09:41<10:18,  2.40s/it]"
     ]
    },
    {
     "name": "stdout",
     "output_type": "stream",
     "text": [
      "iter >> 242; loss >> 6091.6494140625\n"
     ]
    },
    {
     "name": "stderr",
     "output_type": "stream",
     "text": [
      "100%|██████████| 2/2 [00:02<00:00,  1.21s/it]\n",
      " 49%|████▊     | 243/500 [09:44<10:18,  2.41s/it]"
     ]
    },
    {
     "name": "stdout",
     "output_type": "stream",
     "text": [
      "iter >> 243; loss >> 7239.149658203125\n"
     ]
    },
    {
     "name": "stderr",
     "output_type": "stream",
     "text": [
      "100%|██████████| 2/2 [00:02<00:00,  1.19s/it]\n",
      " 49%|████▉     | 244/500 [09:46<10:14,  2.40s/it]"
     ]
    },
    {
     "name": "stdout",
     "output_type": "stream",
     "text": [
      "iter >> 244; loss >> 6385.9970703125\n"
     ]
    },
    {
     "name": "stderr",
     "output_type": "stream",
     "text": [
      "100%|██████████| 2/2 [00:02<00:00,  1.28s/it]\n",
      " 49%|████▉     | 245/500 [09:49<10:25,  2.45s/it]"
     ]
    },
    {
     "name": "stdout",
     "output_type": "stream",
     "text": [
      "iter >> 245; loss >> 5025.138427734375\n"
     ]
    },
    {
     "name": "stderr",
     "output_type": "stream",
     "text": [
      "100%|██████████| 2/2 [00:02<00:00,  1.19s/it]\n",
      " 49%|████▉     | 246/500 [09:51<10:18,  2.43s/it]"
     ]
    },
    {
     "name": "stdout",
     "output_type": "stream",
     "text": [
      "iter >> 246; loss >> 12205.85595703125\n"
     ]
    },
    {
     "name": "stderr",
     "output_type": "stream",
     "text": [
      "100%|██████████| 2/2 [00:02<00:00,  1.19s/it]\n",
      " 49%|████▉     | 247/500 [09:54<10:12,  2.42s/it]"
     ]
    },
    {
     "name": "stdout",
     "output_type": "stream",
     "text": [
      "iter >> 247; loss >> 8825.83251953125\n"
     ]
    },
    {
     "name": "stderr",
     "output_type": "stream",
     "text": [
      "100%|██████████| 2/2 [00:02<00:00,  1.18s/it]\n",
      " 50%|████▉     | 248/500 [09:56<10:06,  2.40s/it]"
     ]
    },
    {
     "name": "stdout",
     "output_type": "stream",
     "text": [
      "iter >> 248; loss >> 5161.4283447265625\n"
     ]
    },
    {
     "name": "stderr",
     "output_type": "stream",
     "text": [
      "100%|██████████| 2/2 [00:02<00:00,  1.20s/it]\n",
      " 50%|████▉     | 249/500 [09:58<10:04,  2.41s/it]"
     ]
    },
    {
     "name": "stdout",
     "output_type": "stream",
     "text": [
      "iter >> 249; loss >> 7844.562744140625\n"
     ]
    },
    {
     "name": "stderr",
     "output_type": "stream",
     "text": [
      "100%|██████████| 2/2 [00:02<00:00,  1.21s/it]\n",
      " 50%|█████     | 250/500 [10:01<10:03,  2.42s/it]"
     ]
    },
    {
     "name": "stdout",
     "output_type": "stream",
     "text": [
      "iter >> 250; loss >> 1869.7534790039062\n"
     ]
    },
    {
     "name": "stderr",
     "output_type": "stream",
     "text": [
      "100%|██████████| 2/2 [00:02<00:00,  1.20s/it]\n",
      " 50%|█████     | 251/500 [10:03<10:02,  2.42s/it]"
     ]
    },
    {
     "name": "stdout",
     "output_type": "stream",
     "text": [
      "model parameter >> [tensor([0.1927], dtype=torch.float64, requires_grad=True), tensor([-0.4336], dtype=torch.float64, requires_grad=True), tensor([-0.5639], dtype=torch.float64, requires_grad=True), tensor([-0.2175], dtype=torch.float64, requires_grad=True), tensor([-0.3866], dtype=torch.float64, requires_grad=True), tensor([-0.0654], dtype=torch.float64, requires_grad=True)]\n",
      "iter >> 251; loss >> 22341.856689453125\n"
     ]
    },
    {
     "name": "stderr",
     "output_type": "stream",
     "text": [
      "100%|██████████| 2/2 [00:02<00:00,  1.18s/it]\n",
      " 50%|█████     | 252/500 [10:06<09:56,  2.41s/it]"
     ]
    },
    {
     "name": "stdout",
     "output_type": "stream",
     "text": [
      "iter >> 252; loss >> 5135.52490234375\n"
     ]
    },
    {
     "name": "stderr",
     "output_type": "stream",
     "text": [
      "100%|██████████| 2/2 [00:02<00:00,  1.20s/it]\n",
      " 51%|█████     | 253/500 [10:08<09:55,  2.41s/it]"
     ]
    },
    {
     "name": "stdout",
     "output_type": "stream",
     "text": [
      "iter >> 253; loss >> 5121.9276123046875\n"
     ]
    },
    {
     "name": "stderr",
     "output_type": "stream",
     "text": [
      "100%|██████████| 2/2 [00:02<00:00,  1.20s/it]\n",
      " 51%|█████     | 254/500 [10:11<09:53,  2.41s/it]"
     ]
    },
    {
     "name": "stdout",
     "output_type": "stream",
     "text": [
      "iter >> 254; loss >> 2253.2025756835938\n"
     ]
    },
    {
     "name": "stderr",
     "output_type": "stream",
     "text": [
      "100%|██████████| 2/2 [00:02<00:00,  1.18s/it]\n",
      " 51%|█████     | 255/500 [10:13<09:48,  2.40s/it]"
     ]
    },
    {
     "name": "stdout",
     "output_type": "stream",
     "text": [
      "iter >> 255; loss >> 5750.17724609375\n"
     ]
    },
    {
     "name": "stderr",
     "output_type": "stream",
     "text": [
      "100%|██████████| 2/2 [00:02<00:00,  1.21s/it]\n",
      " 51%|█████     | 256/500 [10:15<09:48,  2.41s/it]"
     ]
    },
    {
     "name": "stdout",
     "output_type": "stream",
     "text": [
      "iter >> 256; loss >> 3122.9324951171875\n"
     ]
    },
    {
     "name": "stderr",
     "output_type": "stream",
     "text": [
      "100%|██████████| 2/2 [00:02<00:00,  1.26s/it]\n",
      " 51%|█████▏    | 257/500 [10:18<09:54,  2.45s/it]"
     ]
    },
    {
     "name": "stdout",
     "output_type": "stream",
     "text": [
      "iter >> 257; loss >> 2347.5484619140625\n"
     ]
    },
    {
     "name": "stderr",
     "output_type": "stream",
     "text": [
      "100%|██████████| 2/2 [00:02<00:00,  1.20s/it]\n",
      " 52%|█████▏    | 258/500 [10:20<09:50,  2.44s/it]"
     ]
    },
    {
     "name": "stdout",
     "output_type": "stream",
     "text": [
      "iter >> 258; loss >> 3561.8450927734375\n"
     ]
    },
    {
     "name": "stderr",
     "output_type": "stream",
     "text": [
      "100%|██████████| 2/2 [00:02<00:00,  1.20s/it]\n",
      " 52%|█████▏    | 259/500 [10:23<09:46,  2.43s/it]"
     ]
    },
    {
     "name": "stdout",
     "output_type": "stream",
     "text": [
      "iter >> 259; loss >> 4928.9541015625\n"
     ]
    },
    {
     "name": "stderr",
     "output_type": "stream",
     "text": [
      "100%|██████████| 2/2 [00:02<00:00,  1.18s/it]\n",
      " 52%|█████▏    | 260/500 [10:25<09:39,  2.42s/it]"
     ]
    },
    {
     "name": "stdout",
     "output_type": "stream",
     "text": [
      "iter >> 260; loss >> 6008.2962646484375\n"
     ]
    },
    {
     "name": "stderr",
     "output_type": "stream",
     "text": [
      "100%|██████████| 2/2 [00:02<00:00,  1.20s/it]\n",
      " 52%|█████▏    | 261/500 [10:27<09:37,  2.42s/it]"
     ]
    },
    {
     "name": "stdout",
     "output_type": "stream",
     "text": [
      "model parameter >> [tensor([0.2118], dtype=torch.float64, requires_grad=True), tensor([-0.4487], dtype=torch.float64, requires_grad=True), tensor([-0.5706], dtype=torch.float64, requires_grad=True), tensor([-0.2234], dtype=torch.float64, requires_grad=True), tensor([-0.3913], dtype=torch.float64, requires_grad=True), tensor([-0.0693], dtype=torch.float64, requires_grad=True)]\n",
      "iter >> 261; loss >> 5032.284912109375\n"
     ]
    },
    {
     "name": "stderr",
     "output_type": "stream",
     "text": [
      "100%|██████████| 2/2 [00:02<00:00,  1.19s/it]\n",
      " 52%|█████▏    | 262/500 [10:30<09:33,  2.41s/it]"
     ]
    },
    {
     "name": "stdout",
     "output_type": "stream",
     "text": [
      "iter >> 262; loss >> 5916.656005859375\n"
     ]
    },
    {
     "name": "stderr",
     "output_type": "stream",
     "text": [
      "100%|██████████| 2/2 [00:02<00:00,  1.18s/it]\n",
      " 53%|█████▎    | 263/500 [10:32<09:28,  2.40s/it]"
     ]
    },
    {
     "name": "stdout",
     "output_type": "stream",
     "text": [
      "iter >> 263; loss >> 4265.556396484375\n"
     ]
    },
    {
     "name": "stderr",
     "output_type": "stream",
     "text": [
      "100%|██████████| 2/2 [00:02<00:00,  1.19s/it]\n",
      " 53%|█████▎    | 264/500 [10:35<09:26,  2.40s/it]"
     ]
    },
    {
     "name": "stdout",
     "output_type": "stream",
     "text": [
      "iter >> 264; loss >> 3474.1298828125\n"
     ]
    },
    {
     "name": "stderr",
     "output_type": "stream",
     "text": [
      "100%|██████████| 2/2 [00:02<00:00,  1.19s/it]\n",
      " 53%|█████▎    | 265/500 [10:37<09:23,  2.40s/it]"
     ]
    },
    {
     "name": "stdout",
     "output_type": "stream",
     "text": [
      "iter >> 265; loss >> 5178.146728515625\n"
     ]
    },
    {
     "name": "stderr",
     "output_type": "stream",
     "text": [
      "100%|██████████| 2/2 [00:02<00:00,  1.18s/it]\n",
      " 53%|█████▎    | 266/500 [10:39<09:19,  2.39s/it]"
     ]
    },
    {
     "name": "stdout",
     "output_type": "stream",
     "text": [
      "iter >> 266; loss >> 7035.6162109375\n"
     ]
    },
    {
     "name": "stderr",
     "output_type": "stream",
     "text": [
      "100%|██████████| 2/2 [00:02<00:00,  1.26s/it]\n",
      " 53%|█████▎    | 267/500 [10:42<09:27,  2.43s/it]"
     ]
    },
    {
     "name": "stdout",
     "output_type": "stream",
     "text": [
      "iter >> 267; loss >> 3811.560546875\n"
     ]
    },
    {
     "name": "stderr",
     "output_type": "stream",
     "text": [
      "100%|██████████| 2/2 [00:02<00:00,  1.18s/it]\n",
      " 54%|█████▎    | 268/500 [10:44<09:20,  2.42s/it]"
     ]
    },
    {
     "name": "stdout",
     "output_type": "stream",
     "text": [
      "iter >> 268; loss >> 4353.362548828125\n"
     ]
    },
    {
     "name": "stderr",
     "output_type": "stream",
     "text": [
      "100%|██████████| 2/2 [00:02<00:00,  1.18s/it]\n",
      " 54%|█████▍    | 269/500 [10:47<09:15,  2.41s/it]"
     ]
    },
    {
     "name": "stdout",
     "output_type": "stream",
     "text": [
      "iter >> 269; loss >> 2089.5003051757812\n"
     ]
    },
    {
     "name": "stderr",
     "output_type": "stream",
     "text": [
      "100%|██████████| 2/2 [00:02<00:00,  1.20s/it]\n",
      " 54%|█████▍    | 270/500 [10:49<09:13,  2.41s/it]"
     ]
    },
    {
     "name": "stdout",
     "output_type": "stream",
     "text": [
      "iter >> 270; loss >> 1126.9331665039062\n"
     ]
    },
    {
     "name": "stderr",
     "output_type": "stream",
     "text": [
      "100%|██████████| 2/2 [00:02<00:00,  1.20s/it]\n",
      " 54%|█████▍    | 271/500 [10:52<09:12,  2.41s/it]"
     ]
    },
    {
     "name": "stdout",
     "output_type": "stream",
     "text": [
      "model parameter >> [tensor([0.2308], dtype=torch.float64, requires_grad=True), tensor([-0.4633], dtype=torch.float64, requires_grad=True), tensor([-0.5768], dtype=torch.float64, requires_grad=True), tensor([-0.2288], dtype=torch.float64, requires_grad=True), tensor([-0.3950], dtype=torch.float64, requires_grad=True), tensor([-0.0721], dtype=torch.float64, requires_grad=True)]\n",
      "iter >> 271; loss >> 4208.71435546875\n"
     ]
    },
    {
     "name": "stderr",
     "output_type": "stream",
     "text": [
      "100%|██████████| 2/2 [00:02<00:00,  1.20s/it]\n",
      " 54%|█████▍    | 272/500 [10:54<09:10,  2.41s/it]"
     ]
    },
    {
     "name": "stdout",
     "output_type": "stream",
     "text": [
      "iter >> 272; loss >> 2113.5830078125\n"
     ]
    },
    {
     "name": "stderr",
     "output_type": "stream",
     "text": [
      "100%|██████████| 2/2 [00:02<00:00,  1.20s/it]\n",
      " 55%|█████▍    | 273/500 [10:56<09:07,  2.41s/it]"
     ]
    },
    {
     "name": "stdout",
     "output_type": "stream",
     "text": [
      "iter >> 273; loss >> 2979.7567138671875\n"
     ]
    },
    {
     "name": "stderr",
     "output_type": "stream",
     "text": [
      "100%|██████████| 2/2 [00:02<00:00,  1.24s/it]\n",
      " 55%|█████▍    | 274/500 [10:59<09:10,  2.44s/it]"
     ]
    },
    {
     "name": "stdout",
     "output_type": "stream",
     "text": [
      "iter >> 274; loss >> 4740.1162109375\n"
     ]
    },
    {
     "name": "stderr",
     "output_type": "stream",
     "text": [
      "100%|██████████| 2/2 [00:02<00:00,  1.18s/it]\n",
      " 55%|█████▌    | 275/500 [11:01<09:03,  2.42s/it]"
     ]
    },
    {
     "name": "stdout",
     "output_type": "stream",
     "text": [
      "iter >> 275; loss >> 4155.031494140625\n"
     ]
    },
    {
     "name": "stderr",
     "output_type": "stream",
     "text": [
      "100%|██████████| 2/2 [00:02<00:00,  1.19s/it]\n",
      " 55%|█████▌    | 276/500 [11:04<09:00,  2.41s/it]"
     ]
    },
    {
     "name": "stdout",
     "output_type": "stream",
     "text": [
      "iter >> 276; loss >> 2682.4320068359375\n"
     ]
    },
    {
     "name": "stderr",
     "output_type": "stream",
     "text": [
      "100%|██████████| 2/2 [00:02<00:00,  1.23s/it]\n",
      " 55%|█████▌    | 277/500 [11:06<09:02,  2.43s/it]"
     ]
    },
    {
     "name": "stdout",
     "output_type": "stream",
     "text": [
      "iter >> 277; loss >> 2349.540771484375\n"
     ]
    },
    {
     "name": "stderr",
     "output_type": "stream",
     "text": [
      "100%|██████████| 2/2 [00:02<00:00,  1.19s/it]\n",
      " 56%|█████▌    | 278/500 [11:09<08:57,  2.42s/it]"
     ]
    },
    {
     "name": "stdout",
     "output_type": "stream",
     "text": [
      "iter >> 278; loss >> 1265.2046813964844\n"
     ]
    },
    {
     "name": "stderr",
     "output_type": "stream",
     "text": [
      "100%|██████████| 2/2 [00:02<00:00,  1.18s/it]\n",
      " 56%|█████▌    | 279/500 [11:11<08:52,  2.41s/it]"
     ]
    },
    {
     "name": "stdout",
     "output_type": "stream",
     "text": [
      "iter >> 279; loss >> 2328.3433837890625\n"
     ]
    },
    {
     "name": "stderr",
     "output_type": "stream",
     "text": [
      "100%|██████████| 2/2 [00:02<00:00,  1.19s/it]\n",
      " 56%|█████▌    | 280/500 [11:13<08:48,  2.40s/it]"
     ]
    },
    {
     "name": "stdout",
     "output_type": "stream",
     "text": [
      "iter >> 280; loss >> 3692.9041748046875\n"
     ]
    },
    {
     "name": "stderr",
     "output_type": "stream",
     "text": [
      "100%|██████████| 2/2 [00:02<00:00,  1.18s/it]\n",
      " 56%|█████▌    | 281/500 [11:16<08:44,  2.39s/it]"
     ]
    },
    {
     "name": "stdout",
     "output_type": "stream",
     "text": [
      "model parameter >> [tensor([0.2497], dtype=torch.float64, requires_grad=True), tensor([-0.4784], dtype=torch.float64, requires_grad=True), tensor([-0.5837], dtype=torch.float64, requires_grad=True), tensor([-0.2348], dtype=torch.float64, requires_grad=True), tensor([-0.3975], dtype=torch.float64, requires_grad=True), tensor([-0.0740], dtype=torch.float64, requires_grad=True)]\n",
      "iter >> 281; loss >> 1599.0238494873047\n"
     ]
    },
    {
     "name": "stderr",
     "output_type": "stream",
     "text": [
      "100%|██████████| 2/2 [00:02<00:00,  1.20s/it]\n",
      " 56%|█████▋    | 282/500 [11:18<08:42,  2.40s/it]"
     ]
    },
    {
     "name": "stdout",
     "output_type": "stream",
     "text": [
      "iter >> 282; loss >> 5587.341064453125\n"
     ]
    },
    {
     "name": "stderr",
     "output_type": "stream",
     "text": [
      "100%|██████████| 2/2 [00:02<00:00,  1.19s/it]\n",
      " 57%|█████▋    | 283/500 [11:20<08:40,  2.40s/it]"
     ]
    },
    {
     "name": "stdout",
     "output_type": "stream",
     "text": [
      "iter >> 283; loss >> 2378.7227783203125\n"
     ]
    },
    {
     "name": "stderr",
     "output_type": "stream",
     "text": [
      "100%|██████████| 2/2 [00:02<00:00,  1.19s/it]\n",
      " 57%|█████▋    | 284/500 [11:23<08:37,  2.40s/it]"
     ]
    },
    {
     "name": "stdout",
     "output_type": "stream",
     "text": [
      "iter >> 284; loss >> 6203.04248046875\n"
     ]
    },
    {
     "name": "stderr",
     "output_type": "stream",
     "text": [
      "100%|██████████| 2/2 [00:02<00:00,  1.19s/it]\n",
      " 57%|█████▋    | 285/500 [11:25<08:35,  2.40s/it]"
     ]
    },
    {
     "name": "stdout",
     "output_type": "stream",
     "text": [
      "iter >> 285; loss >> 4614.193603515625\n"
     ]
    },
    {
     "name": "stderr",
     "output_type": "stream",
     "text": [
      "100%|██████████| 2/2 [00:02<00:00,  1.19s/it]\n",
      " 57%|█████▋    | 286/500 [11:28<08:32,  2.39s/it]"
     ]
    },
    {
     "name": "stdout",
     "output_type": "stream",
     "text": [
      "iter >> 286; loss >> 2475.9793701171875\n"
     ]
    },
    {
     "name": "stderr",
     "output_type": "stream",
     "text": [
      "100%|██████████| 2/2 [00:02<00:00,  1.19s/it]\n",
      " 57%|█████▋    | 287/500 [11:30<08:29,  2.39s/it]"
     ]
    },
    {
     "name": "stdout",
     "output_type": "stream",
     "text": [
      "iter >> 287; loss >> 4169.947509765625\n"
     ]
    },
    {
     "name": "stderr",
     "output_type": "stream",
     "text": [
      "100%|██████████| 2/2 [00:02<00:00,  1.18s/it]\n",
      " 58%|█████▊    | 288/500 [11:32<08:26,  2.39s/it]"
     ]
    },
    {
     "name": "stdout",
     "output_type": "stream",
     "text": [
      "iter >> 288; loss >> 1533.229248046875\n"
     ]
    },
    {
     "name": "stderr",
     "output_type": "stream",
     "text": [
      "100%|██████████| 2/2 [00:02<00:00,  1.28s/it]\n",
      " 58%|█████▊    | 289/500 [11:35<08:35,  2.44s/it]"
     ]
    },
    {
     "name": "stdout",
     "output_type": "stream",
     "text": [
      "iter >> 289; loss >> 8336.854614257812\n"
     ]
    },
    {
     "name": "stderr",
     "output_type": "stream",
     "text": [
      "100%|██████████| 2/2 [00:02<00:00,  1.19s/it]\n",
      " 58%|█████▊    | 290/500 [11:37<08:30,  2.43s/it]"
     ]
    },
    {
     "name": "stdout",
     "output_type": "stream",
     "text": [
      "iter >> 290; loss >> 7658.8115234375\n"
     ]
    },
    {
     "name": "stderr",
     "output_type": "stream",
     "text": [
      "100%|██████████| 2/2 [00:02<00:00,  1.17s/it]\n",
      " 58%|█████▊    | 291/500 [11:40<08:23,  2.41s/it]"
     ]
    },
    {
     "name": "stdout",
     "output_type": "stream",
     "text": [
      "model parameter >> [tensor([0.2685], dtype=torch.float64, requires_grad=True), tensor([-0.4933], dtype=torch.float64, requires_grad=True), tensor([-0.5896], dtype=torch.float64, requires_grad=True), tensor([-0.2400], dtype=torch.float64, requires_grad=True), tensor([-0.4006], dtype=torch.float64, requires_grad=True), tensor([-0.0762], dtype=torch.float64, requires_grad=True)]\n",
      "iter >> 291; loss >> 3948.086669921875\n"
     ]
    },
    {
     "name": "stderr",
     "output_type": "stream",
     "text": [
      "100%|██████████| 2/2 [00:02<00:00,  1.20s/it]\n",
      " 58%|█████▊    | 292/500 [11:42<08:21,  2.41s/it]"
     ]
    },
    {
     "name": "stdout",
     "output_type": "stream",
     "text": [
      "iter >> 292; loss >> 6122.4764404296875\n"
     ]
    },
    {
     "name": "stderr",
     "output_type": "stream",
     "text": [
      "100%|██████████| 2/2 [00:02<00:00,  1.20s/it]\n",
      " 59%|█████▊    | 293/500 [11:45<08:20,  2.42s/it]"
     ]
    },
    {
     "name": "stdout",
     "output_type": "stream",
     "text": [
      "iter >> 293; loss >> 6568.873779296875\n"
     ]
    },
    {
     "name": "stderr",
     "output_type": "stream",
     "text": [
      "100%|██████████| 2/2 [00:02<00:00,  1.20s/it]\n",
      " 59%|█████▉    | 294/500 [11:47<08:17,  2.42s/it]"
     ]
    },
    {
     "name": "stdout",
     "output_type": "stream",
     "text": [
      "iter >> 294; loss >> 2383.2197265625\n"
     ]
    },
    {
     "name": "stderr",
     "output_type": "stream",
     "text": [
      "100%|██████████| 2/2 [00:02<00:00,  1.19s/it]\n",
      " 59%|█████▉    | 295/500 [11:49<08:14,  2.41s/it]"
     ]
    },
    {
     "name": "stdout",
     "output_type": "stream",
     "text": [
      "iter >> 295; loss >> 9850.14111328125\n"
     ]
    },
    {
     "name": "stderr",
     "output_type": "stream",
     "text": [
      "100%|██████████| 2/2 [00:02<00:00,  1.23s/it]\n",
      " 59%|█████▉    | 296/500 [11:52<08:15,  2.43s/it]"
     ]
    },
    {
     "name": "stdout",
     "output_type": "stream",
     "text": [
      "iter >> 296; loss >> 1186.3927917480469\n"
     ]
    },
    {
     "name": "stderr",
     "output_type": "stream",
     "text": [
      "100%|██████████| 2/2 [00:02<00:00,  1.20s/it]\n",
      " 59%|█████▉    | 297/500 [11:54<08:12,  2.42s/it]"
     ]
    },
    {
     "name": "stdout",
     "output_type": "stream",
     "text": [
      "iter >> 297; loss >> 5703.8095703125\n"
     ]
    },
    {
     "name": "stderr",
     "output_type": "stream",
     "text": [
      "100%|██████████| 2/2 [00:02<00:00,  1.21s/it]\n",
      " 60%|█████▉    | 298/500 [11:57<08:09,  2.43s/it]"
     ]
    },
    {
     "name": "stdout",
     "output_type": "stream",
     "text": [
      "iter >> 298; loss >> 2377.1195678710938\n"
     ]
    },
    {
     "name": "stderr",
     "output_type": "stream",
     "text": [
      "100%|██████████| 2/2 [00:02<00:00,  1.18s/it]\n",
      " 60%|█████▉    | 299/500 [11:59<08:04,  2.41s/it]"
     ]
    },
    {
     "name": "stdout",
     "output_type": "stream",
     "text": [
      "iter >> 299; loss >> 2320.4169921875\n"
     ]
    },
    {
     "name": "stderr",
     "output_type": "stream",
     "text": [
      "100%|██████████| 2/2 [00:02<00:00,  1.18s/it]\n",
      " 60%|██████    | 300/500 [12:01<07:59,  2.40s/it]"
     ]
    },
    {
     "name": "stdout",
     "output_type": "stream",
     "text": [
      "iter >> 300; loss >> 3067.2939453125\n"
     ]
    },
    {
     "name": "stderr",
     "output_type": "stream",
     "text": [
      "100%|██████████| 2/2 [00:02<00:00,  1.27s/it]\n",
      " 60%|██████    | 301/500 [12:04<08:06,  2.44s/it]"
     ]
    },
    {
     "name": "stdout",
     "output_type": "stream",
     "text": [
      "model parameter >> [tensor([0.2873], dtype=torch.float64, requires_grad=True), tensor([-0.5075], dtype=torch.float64, requires_grad=True), tensor([-0.5942], dtype=torch.float64, requires_grad=True), tensor([-0.2441], dtype=torch.float64, requires_grad=True), tensor([-0.4045], dtype=torch.float64, requires_grad=True), tensor([-0.0792], dtype=torch.float64, requires_grad=True)]\n",
      "iter >> 301; loss >> 3218.405517578125\n"
     ]
    },
    {
     "name": "stderr",
     "output_type": "stream",
     "text": [
      "100%|██████████| 2/2 [00:02<00:00,  1.19s/it]\n",
      " 60%|██████    | 302/500 [12:06<08:00,  2.43s/it]"
     ]
    },
    {
     "name": "stdout",
     "output_type": "stream",
     "text": [
      "iter >> 302; loss >> 3856.5509033203125\n"
     ]
    },
    {
     "name": "stderr",
     "output_type": "stream",
     "text": [
      "100%|██████████| 2/2 [00:02<00:00,  1.19s/it]\n",
      " 61%|██████    | 303/500 [12:09<07:56,  2.42s/it]"
     ]
    },
    {
     "name": "stdout",
     "output_type": "stream",
     "text": [
      "iter >> 303; loss >> 3111.89404296875\n"
     ]
    },
    {
     "name": "stderr",
     "output_type": "stream",
     "text": [
      "100%|██████████| 2/2 [00:02<00:00,  1.20s/it]\n",
      " 61%|██████    | 304/500 [12:11<07:53,  2.42s/it]"
     ]
    },
    {
     "name": "stdout",
     "output_type": "stream",
     "text": [
      "iter >> 304; loss >> 3441.599609375\n"
     ]
    },
    {
     "name": "stderr",
     "output_type": "stream",
     "text": [
      "100%|██████████| 2/2 [00:02<00:00,  1.18s/it]\n",
      " 61%|██████    | 305/500 [12:14<07:49,  2.41s/it]"
     ]
    },
    {
     "name": "stdout",
     "output_type": "stream",
     "text": [
      "iter >> 305; loss >> 3415.0180053710938\n"
     ]
    },
    {
     "name": "stderr",
     "output_type": "stream",
     "text": [
      "100%|██████████| 2/2 [00:02<00:00,  1.21s/it]\n",
      " 61%|██████    | 306/500 [12:16<07:47,  2.41s/it]"
     ]
    },
    {
     "name": "stdout",
     "output_type": "stream",
     "text": [
      "iter >> 306; loss >> 5372.524658203125\n"
     ]
    },
    {
     "name": "stderr",
     "output_type": "stream",
     "text": [
      "100%|██████████| 2/2 [00:02<00:00,  1.19s/it]\n",
      " 61%|██████▏   | 307/500 [12:18<07:44,  2.41s/it]"
     ]
    },
    {
     "name": "stdout",
     "output_type": "stream",
     "text": [
      "iter >> 307; loss >> 6296.075744628906\n"
     ]
    },
    {
     "name": "stderr",
     "output_type": "stream",
     "text": [
      "100%|██████████| 2/2 [00:02<00:00,  1.18s/it]\n",
      " 62%|██████▏   | 308/500 [12:21<07:40,  2.40s/it]"
     ]
    },
    {
     "name": "stdout",
     "output_type": "stream",
     "text": [
      "iter >> 308; loss >> 2431.0107421875\n"
     ]
    },
    {
     "name": "stderr",
     "output_type": "stream",
     "text": [
      "100%|██████████| 2/2 [00:02<00:00,  1.19s/it]\n",
      " 62%|██████▏   | 309/500 [12:23<07:37,  2.40s/it]"
     ]
    },
    {
     "name": "stdout",
     "output_type": "stream",
     "text": [
      "iter >> 309; loss >> 5194.121826171875\n"
     ]
    },
    {
     "name": "stderr",
     "output_type": "stream",
     "text": [
      "100%|██████████| 2/2 [00:02<00:00,  1.19s/it]\n",
      " 62%|██████▏   | 310/500 [12:26<07:35,  2.40s/it]"
     ]
    },
    {
     "name": "stdout",
     "output_type": "stream",
     "text": [
      "iter >> 310; loss >> 3127.1116943359375\n"
     ]
    },
    {
     "name": "stderr",
     "output_type": "stream",
     "text": [
      "100%|██████████| 2/2 [00:02<00:00,  1.26s/it]\n",
      " 62%|██████▏   | 311/500 [12:28<07:40,  2.44s/it]"
     ]
    },
    {
     "name": "stdout",
     "output_type": "stream",
     "text": [
      "model parameter >> [tensor([0.3063], dtype=torch.float64, requires_grad=True), tensor([-0.5225], dtype=torch.float64, requires_grad=True), tensor([-0.5998], dtype=torch.float64, requires_grad=True), tensor([-0.2490], dtype=torch.float64, requires_grad=True), tensor([-0.4078], dtype=torch.float64, requires_grad=True), tensor([-0.0817], dtype=torch.float64, requires_grad=True)]\n",
      "iter >> 311; loss >> 2763.09619140625\n"
     ]
    },
    {
     "name": "stderr",
     "output_type": "stream",
     "text": [
      "100%|██████████| 2/2 [00:02<00:00,  1.18s/it]\n",
      " 62%|██████▏   | 312/500 [12:31<07:35,  2.42s/it]"
     ]
    },
    {
     "name": "stdout",
     "output_type": "stream",
     "text": [
      "iter >> 312; loss >> 2827.4183959960938\n"
     ]
    },
    {
     "name": "stderr",
     "output_type": "stream",
     "text": [
      "100%|██████████| 2/2 [00:02<00:00,  1.19s/it]\n",
      " 63%|██████▎   | 313/500 [12:33<07:31,  2.42s/it]"
     ]
    },
    {
     "name": "stdout",
     "output_type": "stream",
     "text": [
      "iter >> 313; loss >> 5432.36865234375\n"
     ]
    },
    {
     "name": "stderr",
     "output_type": "stream",
     "text": [
      "100%|██████████| 2/2 [00:02<00:00,  1.20s/it]\n",
      " 63%|██████▎   | 314/500 [12:35<07:28,  2.41s/it]"
     ]
    },
    {
     "name": "stdout",
     "output_type": "stream",
     "text": [
      "iter >> 314; loss >> 2636.72021484375\n"
     ]
    },
    {
     "name": "stderr",
     "output_type": "stream",
     "text": [
      "100%|██████████| 2/2 [00:02<00:00,  1.20s/it]\n",
      " 63%|██████▎   | 315/500 [12:38<07:26,  2.42s/it]"
     ]
    },
    {
     "name": "stdout",
     "output_type": "stream",
     "text": [
      "iter >> 315; loss >> 7356.25927734375\n"
     ]
    },
    {
     "name": "stderr",
     "output_type": "stream",
     "text": [
      "100%|██████████| 2/2 [00:02<00:00,  1.19s/it]\n",
      " 63%|██████▎   | 316/500 [12:40<07:23,  2.41s/it]"
     ]
    },
    {
     "name": "stdout",
     "output_type": "stream",
     "text": [
      "iter >> 316; loss >> 1375.5836486816406\n"
     ]
    },
    {
     "name": "stderr",
     "output_type": "stream",
     "text": [
      "100%|██████████| 2/2 [00:02<00:00,  1.21s/it]\n",
      " 63%|██████▎   | 317/500 [12:43<07:22,  2.42s/it]"
     ]
    },
    {
     "name": "stdout",
     "output_type": "stream",
     "text": [
      "iter >> 317; loss >> 6065.9898681640625\n"
     ]
    },
    {
     "name": "stderr",
     "output_type": "stream",
     "text": [
      "100%|██████████| 2/2 [00:02<00:00,  1.19s/it]\n",
      " 64%|██████▎   | 318/500 [12:45<07:18,  2.41s/it]"
     ]
    },
    {
     "name": "stdout",
     "output_type": "stream",
     "text": [
      "iter >> 318; loss >> 1462.5333557128906\n"
     ]
    },
    {
     "name": "stderr",
     "output_type": "stream",
     "text": [
      "100%|██████████| 2/2 [00:02<00:00,  1.20s/it]\n",
      " 64%|██████▍   | 319/500 [12:47<07:16,  2.41s/it]"
     ]
    },
    {
     "name": "stdout",
     "output_type": "stream",
     "text": [
      "iter >> 319; loss >> 4184.380065917969\n"
     ]
    },
    {
     "name": "stderr",
     "output_type": "stream",
     "text": [
      "100%|██████████| 2/2 [00:02<00:00,  1.18s/it]\n",
      " 64%|██████▍   | 320/500 [12:50<07:12,  2.40s/it]"
     ]
    },
    {
     "name": "stdout",
     "output_type": "stream",
     "text": [
      "iter >> 320; loss >> 2935.3353271484375\n"
     ]
    },
    {
     "name": "stderr",
     "output_type": "stream",
     "text": [
      "100%|██████████| 2/2 [00:02<00:00,  1.26s/it]\n",
      " 64%|██████▍   | 321/500 [12:52<07:16,  2.44s/it]"
     ]
    },
    {
     "name": "stdout",
     "output_type": "stream",
     "text": [
      "model parameter >> [tensor([0.3249], dtype=torch.float64, requires_grad=True), tensor([-0.5371], dtype=torch.float64, requires_grad=True), tensor([-0.6052], dtype=torch.float64, requires_grad=True), tensor([-0.2540], dtype=torch.float64, requires_grad=True), tensor([-0.4111], dtype=torch.float64, requires_grad=True), tensor([-0.0842], dtype=torch.float64, requires_grad=True)]\n",
      "iter >> 321; loss >> 4072.80224609375\n"
     ]
    },
    {
     "name": "stderr",
     "output_type": "stream",
     "text": [
      "100%|██████████| 2/2 [00:02<00:00,  1.21s/it]\n",
      " 64%|██████▍   | 322/500 [12:55<07:13,  2.44s/it]"
     ]
    },
    {
     "name": "stdout",
     "output_type": "stream",
     "text": [
      "iter >> 322; loss >> 3970.68017578125\n"
     ]
    },
    {
     "name": "stderr",
     "output_type": "stream",
     "text": [
      "100%|██████████| 2/2 [00:02<00:00,  1.19s/it]\n",
      " 65%|██████▍   | 323/500 [12:57<07:08,  2.42s/it]"
     ]
    },
    {
     "name": "stdout",
     "output_type": "stream",
     "text": [
      "iter >> 323; loss >> 2950.001220703125\n"
     ]
    },
    {
     "name": "stderr",
     "output_type": "stream",
     "text": [
      "100%|██████████| 2/2 [00:02<00:00,  1.19s/it]\n",
      " 65%|██████▍   | 324/500 [12:59<07:04,  2.41s/it]"
     ]
    },
    {
     "name": "stdout",
     "output_type": "stream",
     "text": [
      "iter >> 324; loss >> 4101.8082275390625\n"
     ]
    },
    {
     "name": "stderr",
     "output_type": "stream",
     "text": [
      "100%|██████████| 2/2 [00:02<00:00,  1.18s/it]\n",
      " 65%|██████▌   | 325/500 [13:02<07:00,  2.40s/it]"
     ]
    },
    {
     "name": "stdout",
     "output_type": "stream",
     "text": [
      "iter >> 325; loss >> 4146.7288818359375\n"
     ]
    },
    {
     "name": "stderr",
     "output_type": "stream",
     "text": [
      "100%|██████████| 2/2 [00:02<00:00,  1.20s/it]\n",
      " 65%|██████▌   | 326/500 [13:04<06:58,  2.40s/it]"
     ]
    },
    {
     "name": "stdout",
     "output_type": "stream",
     "text": [
      "iter >> 326; loss >> 4547.86083984375\n"
     ]
    },
    {
     "name": "stderr",
     "output_type": "stream",
     "text": [
      "100%|██████████| 2/2 [00:02<00:00,  1.20s/it]\n",
      " 65%|██████▌   | 327/500 [13:07<06:56,  2.40s/it]"
     ]
    },
    {
     "name": "stdout",
     "output_type": "stream",
     "text": [
      "iter >> 327; loss >> 3900.3895263671875\n"
     ]
    },
    {
     "name": "stderr",
     "output_type": "stream",
     "text": [
      "100%|██████████| 2/2 [00:02<00:00,  1.18s/it]\n",
      " 66%|██████▌   | 328/500 [13:09<06:51,  2.39s/it]"
     ]
    },
    {
     "name": "stdout",
     "output_type": "stream",
     "text": [
      "iter >> 328; loss >> 1958.3199462890625\n"
     ]
    },
    {
     "name": "stderr",
     "output_type": "stream",
     "text": [
      "100%|██████████| 2/2 [00:02<00:00,  1.21s/it]\n",
      " 66%|██████▌   | 329/500 [13:11<06:51,  2.41s/it]"
     ]
    },
    {
     "name": "stdout",
     "output_type": "stream",
     "text": [
      "iter >> 329; loss >> 1998.4210815429688\n"
     ]
    },
    {
     "name": "stderr",
     "output_type": "stream",
     "text": [
      "100%|██████████| 2/2 [00:02<00:00,  1.18s/it]\n",
      " 66%|██████▌   | 330/500 [13:14<06:47,  2.40s/it]"
     ]
    },
    {
     "name": "stdout",
     "output_type": "stream",
     "text": [
      "iter >> 330; loss >> 4144.9451904296875\n"
     ]
    },
    {
     "name": "stderr",
     "output_type": "stream",
     "text": [
      "100%|██████████| 2/2 [00:02<00:00,  1.18s/it]\n",
      " 66%|██████▌   | 331/500 [13:16<06:43,  2.39s/it]"
     ]
    },
    {
     "name": "stdout",
     "output_type": "stream",
     "text": [
      "model parameter >> [tensor([0.3436], dtype=torch.float64, requires_grad=True), tensor([-0.5511], dtype=torch.float64, requires_grad=True), tensor([-0.6113], dtype=torch.float64, requires_grad=True), tensor([-0.2596], dtype=torch.float64, requires_grad=True), tensor([-0.4143], dtype=torch.float64, requires_grad=True), tensor([-0.0865], dtype=torch.float64, requires_grad=True)]\n",
      "iter >> 331; loss >> 2751.614715576172\n"
     ]
    },
    {
     "name": "stderr",
     "output_type": "stream",
     "text": [
      "100%|██████████| 2/2 [00:02<00:00,  1.18s/it]\n",
      " 66%|██████▋   | 332/500 [13:19<06:40,  2.38s/it]"
     ]
    },
    {
     "name": "stdout",
     "output_type": "stream",
     "text": [
      "iter >> 332; loss >> 3247.5596923828125\n"
     ]
    },
    {
     "name": "stderr",
     "output_type": "stream",
     "text": [
      "100%|██████████| 2/2 [00:02<00:00,  1.25s/it]\n",
      " 67%|██████▋   | 333/500 [13:21<06:44,  2.42s/it]"
     ]
    },
    {
     "name": "stdout",
     "output_type": "stream",
     "text": [
      "iter >> 333; loss >> 4357.7813720703125\n"
     ]
    },
    {
     "name": "stderr",
     "output_type": "stream",
     "text": [
      "100%|██████████| 2/2 [00:02<00:00,  1.17s/it]\n",
      " 67%|██████▋   | 334/500 [13:23<06:39,  2.40s/it]"
     ]
    },
    {
     "name": "stdout",
     "output_type": "stream",
     "text": [
      "iter >> 334; loss >> 19489.015014648438\n"
     ]
    },
    {
     "name": "stderr",
     "output_type": "stream",
     "text": [
      "100%|██████████| 2/2 [00:02<00:00,  1.19s/it]\n",
      " 67%|██████▋   | 335/500 [13:26<06:36,  2.40s/it]"
     ]
    },
    {
     "name": "stdout",
     "output_type": "stream",
     "text": [
      "iter >> 335; loss >> 3809.975830078125\n"
     ]
    },
    {
     "name": "stderr",
     "output_type": "stream",
     "text": [
      "100%|██████████| 2/2 [00:02<00:00,  1.18s/it]\n",
      " 67%|██████▋   | 336/500 [13:28<06:32,  2.39s/it]"
     ]
    },
    {
     "name": "stdout",
     "output_type": "stream",
     "text": [
      "iter >> 336; loss >> 2092.5363159179688\n"
     ]
    },
    {
     "name": "stderr",
     "output_type": "stream",
     "text": [
      "100%|██████████| 2/2 [00:02<00:00,  1.20s/it]\n",
      " 67%|██████▋   | 337/500 [13:31<06:31,  2.40s/it]"
     ]
    },
    {
     "name": "stdout",
     "output_type": "stream",
     "text": [
      "iter >> 337; loss >> 12098.57763671875\n"
     ]
    },
    {
     "name": "stderr",
     "output_type": "stream",
     "text": [
      "100%|██████████| 2/2 [00:02<00:00,  1.18s/it]\n",
      " 68%|██████▊   | 338/500 [13:33<06:27,  2.39s/it]"
     ]
    },
    {
     "name": "stdout",
     "output_type": "stream",
     "text": [
      "iter >> 338; loss >> 3611.873291015625\n"
     ]
    },
    {
     "name": "stderr",
     "output_type": "stream",
     "text": [
      "100%|██████████| 2/2 [00:02<00:00,  1.20s/it]\n",
      " 68%|██████▊   | 339/500 [13:35<06:26,  2.40s/it]"
     ]
    },
    {
     "name": "stdout",
     "output_type": "stream",
     "text": [
      "iter >> 339; loss >> 3993.8037719726562\n"
     ]
    },
    {
     "name": "stderr",
     "output_type": "stream",
     "text": [
      "100%|██████████| 2/2 [00:02<00:00,  1.18s/it]\n",
      " 68%|██████▊   | 340/500 [13:38<06:22,  2.39s/it]"
     ]
    },
    {
     "name": "stdout",
     "output_type": "stream",
     "text": [
      "iter >> 340; loss >> 6934.120849609375\n"
     ]
    },
    {
     "name": "stderr",
     "output_type": "stream",
     "text": [
      "100%|██████████| 2/2 [00:02<00:00,  1.20s/it]\n",
      " 68%|██████▊   | 341/500 [13:40<06:21,  2.40s/it]"
     ]
    },
    {
     "name": "stdout",
     "output_type": "stream",
     "text": [
      "model parameter >> [tensor([0.3622], dtype=torch.float64, requires_grad=True), tensor([-0.5651], dtype=torch.float64, requires_grad=True), tensor([-0.6169], dtype=torch.float64, requires_grad=True), tensor([-0.2648], dtype=torch.float64, requires_grad=True), tensor([-0.4191], dtype=torch.float64, requires_grad=True), tensor([-0.0905], dtype=torch.float64, requires_grad=True)]\n",
      "iter >> 341; loss >> 4881.0958251953125\n"
     ]
    },
    {
     "name": "stderr",
     "output_type": "stream",
     "text": [
      "100%|██████████| 2/2 [00:02<00:00,  1.19s/it]\n",
      " 68%|██████▊   | 342/500 [13:43<06:18,  2.40s/it]"
     ]
    },
    {
     "name": "stdout",
     "output_type": "stream",
     "text": [
      "iter >> 342; loss >> 2142.6212768554688\n"
     ]
    },
    {
     "name": "stderr",
     "output_type": "stream",
     "text": [
      "100%|██████████| 2/2 [00:02<00:00,  1.18s/it]\n",
      " 69%|██████▊   | 343/500 [13:45<06:15,  2.39s/it]"
     ]
    },
    {
     "name": "stdout",
     "output_type": "stream",
     "text": [
      "iter >> 343; loss >> 8018.95458984375\n"
     ]
    },
    {
     "name": "stderr",
     "output_type": "stream",
     "text": [
      "100%|██████████| 2/2 [00:02<00:00,  1.19s/it]\n",
      " 69%|██████▉   | 344/500 [13:47<06:12,  2.39s/it]"
     ]
    },
    {
     "name": "stdout",
     "output_type": "stream",
     "text": [
      "iter >> 344; loss >> 5851.74169921875\n"
     ]
    },
    {
     "name": "stderr",
     "output_type": "stream",
     "text": [
      "100%|██████████| 2/2 [00:02<00:00,  1.24s/it]\n",
      " 69%|██████▉   | 345/500 [13:50<06:15,  2.42s/it]"
     ]
    },
    {
     "name": "stdout",
     "output_type": "stream",
     "text": [
      "iter >> 345; loss >> 1842.703857421875\n"
     ]
    },
    {
     "name": "stderr",
     "output_type": "stream",
     "text": [
      "100%|██████████| 2/2 [00:02<00:00,  1.18s/it]\n",
      " 69%|██████▉   | 346/500 [13:52<06:10,  2.41s/it]"
     ]
    },
    {
     "name": "stdout",
     "output_type": "stream",
     "text": [
      "iter >> 346; loss >> 1876.3482360839844\n"
     ]
    },
    {
     "name": "stderr",
     "output_type": "stream",
     "text": [
      "100%|██████████| 2/2 [00:02<00:00,  1.19s/it]\n",
      " 69%|██████▉   | 347/500 [13:55<06:07,  2.40s/it]"
     ]
    },
    {
     "name": "stdout",
     "output_type": "stream",
     "text": [
      "iter >> 347; loss >> 3135.08447265625\n"
     ]
    },
    {
     "name": "stderr",
     "output_type": "stream",
     "text": [
      "100%|██████████| 2/2 [00:02<00:00,  1.18s/it]\n",
      " 70%|██████▉   | 348/500 [13:57<06:04,  2.40s/it]"
     ]
    },
    {
     "name": "stdout",
     "output_type": "stream",
     "text": [
      "iter >> 348; loss >> 4276.300048828125\n"
     ]
    },
    {
     "name": "stderr",
     "output_type": "stream",
     "text": [
      "100%|██████████| 2/2 [00:02<00:00,  1.18s/it]\n",
      " 70%|██████▉   | 349/500 [13:59<06:00,  2.39s/it]"
     ]
    },
    {
     "name": "stdout",
     "output_type": "stream",
     "text": [
      "iter >> 349; loss >> 1224.6327514648438\n"
     ]
    },
    {
     "name": "stderr",
     "output_type": "stream",
     "text": [
      "100%|██████████| 2/2 [00:02<00:00,  1.18s/it]\n",
      " 70%|███████   | 350/500 [14:02<05:57,  2.38s/it]"
     ]
    },
    {
     "name": "stdout",
     "output_type": "stream",
     "text": [
      "iter >> 350; loss >> 5241.275329589844\n"
     ]
    },
    {
     "name": "stderr",
     "output_type": "stream",
     "text": [
      "100%|██████████| 2/2 [00:02<00:00,  1.17s/it]\n",
      " 70%|███████   | 351/500 [14:04<05:53,  2.37s/it]"
     ]
    },
    {
     "name": "stdout",
     "output_type": "stream",
     "text": [
      "model parameter >> [tensor([0.3809], dtype=torch.float64, requires_grad=True), tensor([-0.5787], dtype=torch.float64, requires_grad=True), tensor([-0.6229], dtype=torch.float64, requires_grad=True), tensor([-0.2703], dtype=torch.float64, requires_grad=True), tensor([-0.4232], dtype=torch.float64, requires_grad=True), tensor([-0.0937], dtype=torch.float64, requires_grad=True)]\n",
      "iter >> 351; loss >> 2125.2086181640625\n"
     ]
    },
    {
     "name": "stderr",
     "output_type": "stream",
     "text": [
      "100%|██████████| 2/2 [00:02<00:00,  1.17s/it]\n",
      " 70%|███████   | 352/500 [14:06<05:50,  2.37s/it]"
     ]
    },
    {
     "name": "stdout",
     "output_type": "stream",
     "text": [
      "iter >> 352; loss >> 2238.299072265625\n"
     ]
    },
    {
     "name": "stderr",
     "output_type": "stream",
     "text": [
      "100%|██████████| 2/2 [00:02<00:00,  1.19s/it]\n",
      " 71%|███████   | 353/500 [14:09<05:49,  2.38s/it]"
     ]
    },
    {
     "name": "stdout",
     "output_type": "stream",
     "text": [
      "iter >> 353; loss >> 4276.226989746094\n"
     ]
    },
    {
     "name": "stderr",
     "output_type": "stream",
     "text": [
      "100%|██████████| 2/2 [00:02<00:00,  1.18s/it]\n",
      " 71%|███████   | 354/500 [14:11<05:47,  2.38s/it]"
     ]
    },
    {
     "name": "stdout",
     "output_type": "stream",
     "text": [
      "iter >> 354; loss >> 3849.388671875\n"
     ]
    },
    {
     "name": "stderr",
     "output_type": "stream",
     "text": [
      "100%|██████████| 2/2 [00:02<00:00,  1.26s/it]\n",
      " 71%|███████   | 355/500 [14:14<05:52,  2.43s/it]"
     ]
    },
    {
     "name": "stdout",
     "output_type": "stream",
     "text": [
      "iter >> 355; loss >> 4131.030578613281\n"
     ]
    },
    {
     "name": "stderr",
     "output_type": "stream",
     "text": [
      "100%|██████████| 2/2 [00:02<00:00,  1.18s/it]\n",
      " 71%|███████   | 356/500 [14:16<05:47,  2.41s/it]"
     ]
    },
    {
     "name": "stdout",
     "output_type": "stream",
     "text": [
      "iter >> 356; loss >> 1617.7109375\n"
     ]
    },
    {
     "name": "stderr",
     "output_type": "stream",
     "text": [
      "100%|██████████| 2/2 [00:02<00:00,  1.20s/it]\n",
      " 71%|███████▏  | 357/500 [14:19<05:45,  2.41s/it]"
     ]
    },
    {
     "name": "stdout",
     "output_type": "stream",
     "text": [
      "iter >> 357; loss >> 2241.5301513671875\n"
     ]
    },
    {
     "name": "stderr",
     "output_type": "stream",
     "text": [
      "100%|██████████| 2/2 [00:02<00:00,  1.19s/it]\n",
      " 72%|███████▏  | 358/500 [14:21<05:41,  2.41s/it]"
     ]
    },
    {
     "name": "stdout",
     "output_type": "stream",
     "text": [
      "iter >> 358; loss >> 1343.8633422851562\n"
     ]
    },
    {
     "name": "stderr",
     "output_type": "stream",
     "text": [
      "100%|██████████| 2/2 [00:02<00:00,  1.19s/it]\n",
      " 72%|███████▏  | 359/500 [14:23<05:39,  2.40s/it]"
     ]
    },
    {
     "name": "stdout",
     "output_type": "stream",
     "text": [
      "iter >> 359; loss >> 2684.8505859375\n"
     ]
    },
    {
     "name": "stderr",
     "output_type": "stream",
     "text": [
      "100%|██████████| 2/2 [00:02<00:00,  1.21s/it]\n",
      " 72%|███████▏  | 360/500 [14:26<05:37,  2.41s/it]"
     ]
    },
    {
     "name": "stdout",
     "output_type": "stream",
     "text": [
      "iter >> 360; loss >> 2105.9633178710938\n"
     ]
    },
    {
     "name": "stderr",
     "output_type": "stream",
     "text": [
      "100%|██████████| 2/2 [00:02<00:00,  1.19s/it]\n",
      " 72%|███████▏  | 361/500 [14:28<05:34,  2.41s/it]"
     ]
    },
    {
     "name": "stdout",
     "output_type": "stream",
     "text": [
      "model parameter >> [tensor([0.3993], dtype=torch.float64, requires_grad=True), tensor([-0.5923], dtype=torch.float64, requires_grad=True), tensor([-0.6294], dtype=torch.float64, requires_grad=True), tensor([-0.2763], dtype=torch.float64, requires_grad=True), tensor([-0.4261], dtype=torch.float64, requires_grad=True), tensor([-0.0958], dtype=torch.float64, requires_grad=True)]\n",
      "iter >> 361; loss >> 3532.44482421875\n"
     ]
    },
    {
     "name": "stderr",
     "output_type": "stream",
     "text": [
      "100%|██████████| 2/2 [00:02<00:00,  1.20s/it]\n",
      " 72%|███████▏  | 362/500 [14:31<05:32,  2.41s/it]"
     ]
    },
    {
     "name": "stdout",
     "output_type": "stream",
     "text": [
      "iter >> 362; loss >> 6849.078369140625\n"
     ]
    },
    {
     "name": "stderr",
     "output_type": "stream",
     "text": [
      "100%|██████████| 2/2 [00:02<00:00,  1.18s/it]\n",
      " 73%|███████▎  | 363/500 [14:33<05:28,  2.40s/it]"
     ]
    },
    {
     "name": "stdout",
     "output_type": "stream",
     "text": [
      "iter >> 363; loss >> 3810.5655517578125\n"
     ]
    },
    {
     "name": "stderr",
     "output_type": "stream",
     "text": [
      "100%|██████████| 2/2 [00:02<00:00,  1.19s/it]\n",
      " 73%|███████▎  | 364/500 [14:35<05:25,  2.40s/it]"
     ]
    },
    {
     "name": "stdout",
     "output_type": "stream",
     "text": [
      "iter >> 364; loss >> 5155.802978515625\n"
     ]
    },
    {
     "name": "stderr",
     "output_type": "stream",
     "text": [
      "100%|██████████| 2/2 [00:02<00:00,  1.24s/it]\n",
      " 73%|███████▎  | 365/500 [14:38<05:27,  2.42s/it]"
     ]
    },
    {
     "name": "stdout",
     "output_type": "stream",
     "text": [
      "iter >> 365; loss >> 1626.5370483398438\n"
     ]
    },
    {
     "name": "stderr",
     "output_type": "stream",
     "text": [
      "100%|██████████| 2/2 [00:02<00:00,  1.19s/it]\n",
      " 73%|███████▎  | 366/500 [14:40<05:23,  2.41s/it]"
     ]
    },
    {
     "name": "stdout",
     "output_type": "stream",
     "text": [
      "iter >> 366; loss >> 6063.754241943359\n"
     ]
    },
    {
     "name": "stderr",
     "output_type": "stream",
     "text": [
      "100%|██████████| 2/2 [00:02<00:00,  1.18s/it]\n",
      " 73%|███████▎  | 367/500 [14:43<05:19,  2.40s/it]"
     ]
    },
    {
     "name": "stdout",
     "output_type": "stream",
     "text": [
      "iter >> 367; loss >> 1413.3817138671875\n"
     ]
    },
    {
     "name": "stderr",
     "output_type": "stream",
     "text": [
      "100%|██████████| 2/2 [00:02<00:00,  1.19s/it]\n",
      " 74%|███████▎  | 368/500 [14:45<05:17,  2.40s/it]"
     ]
    },
    {
     "name": "stdout",
     "output_type": "stream",
     "text": [
      "iter >> 368; loss >> 2964.1622009277344\n"
     ]
    },
    {
     "name": "stderr",
     "output_type": "stream",
     "text": [
      "100%|██████████| 2/2 [00:02<00:00,  1.19s/it]\n",
      " 74%|███████▍  | 369/500 [14:47<05:14,  2.40s/it]"
     ]
    },
    {
     "name": "stdout",
     "output_type": "stream",
     "text": [
      "iter >> 369; loss >> 3781.3107299804688\n"
     ]
    },
    {
     "name": "stderr",
     "output_type": "stream",
     "text": [
      "100%|██████████| 2/2 [00:02<00:00,  1.19s/it]\n",
      " 74%|███████▍  | 370/500 [14:50<05:11,  2.40s/it]"
     ]
    },
    {
     "name": "stdout",
     "output_type": "stream",
     "text": [
      "iter >> 370; loss >> 3035.47802734375\n"
     ]
    },
    {
     "name": "stderr",
     "output_type": "stream",
     "text": [
      "100%|██████████| 2/2 [00:02<00:00,  1.18s/it]\n",
      " 74%|███████▍  | 371/500 [14:52<05:08,  2.39s/it]"
     ]
    },
    {
     "name": "stdout",
     "output_type": "stream",
     "text": [
      "model parameter >> [tensor([0.4177], dtype=torch.float64, requires_grad=True), tensor([-0.6058], dtype=torch.float64, requires_grad=True), tensor([-0.6344], dtype=torch.float64, requires_grad=True), tensor([-0.2810], dtype=torch.float64, requires_grad=True), tensor([-0.4295], dtype=torch.float64, requires_grad=True), tensor([-0.0984], dtype=torch.float64, requires_grad=True)]\n",
      "iter >> 371; loss >> 4724.115478515625\n"
     ]
    },
    {
     "name": "stderr",
     "output_type": "stream",
     "text": [
      "100%|██████████| 2/2 [00:02<00:00,  1.18s/it]\n",
      " 74%|███████▍  | 372/500 [14:55<05:05,  2.39s/it]"
     ]
    },
    {
     "name": "stdout",
     "output_type": "stream",
     "text": [
      "iter >> 372; loss >> 3119.755615234375\n"
     ]
    },
    {
     "name": "stderr",
     "output_type": "stream",
     "text": [
      "100%|██████████| 2/2 [00:02<00:00,  1.18s/it]\n",
      " 75%|███████▍  | 373/500 [14:57<05:02,  2.38s/it]"
     ]
    },
    {
     "name": "stdout",
     "output_type": "stream",
     "text": [
      "iter >> 373; loss >> 1782.579345703125\n"
     ]
    },
    {
     "name": "stderr",
     "output_type": "stream",
     "text": [
      "100%|██████████| 2/2 [00:02<00:00,  1.20s/it]\n",
      " 75%|███████▍  | 374/500 [14:59<05:01,  2.39s/it]"
     ]
    },
    {
     "name": "stdout",
     "output_type": "stream",
     "text": [
      "iter >> 374; loss >> 4198.881774902344\n"
     ]
    },
    {
     "name": "stderr",
     "output_type": "stream",
     "text": [
      "100%|██████████| 2/2 [00:02<00:00,  1.18s/it]\n",
      " 75%|███████▌  | 375/500 [15:02<04:58,  2.39s/it]"
     ]
    },
    {
     "name": "stdout",
     "output_type": "stream",
     "text": [
      "iter >> 375; loss >> 1444.2401733398438\n"
     ]
    },
    {
     "name": "stderr",
     "output_type": "stream",
     "text": [
      "100%|██████████| 2/2 [00:02<00:00,  1.18s/it]\n",
      " 75%|███████▌  | 376/500 [15:04<04:55,  2.39s/it]"
     ]
    },
    {
     "name": "stdout",
     "output_type": "stream",
     "text": [
      "iter >> 376; loss >> 3282.2913818359375\n"
     ]
    },
    {
     "name": "stderr",
     "output_type": "stream",
     "text": [
      "100%|██████████| 2/2 [00:02<00:00,  1.26s/it]\n",
      " 75%|███████▌  | 377/500 [15:07<04:58,  2.43s/it]"
     ]
    },
    {
     "name": "stdout",
     "output_type": "stream",
     "text": [
      "iter >> 377; loss >> 1453.2580871582031\n"
     ]
    },
    {
     "name": "stderr",
     "output_type": "stream",
     "text": [
      "100%|██████████| 2/2 [00:02<00:00,  1.19s/it]\n",
      " 76%|███████▌  | 378/500 [15:09<04:55,  2.42s/it]"
     ]
    },
    {
     "name": "stdout",
     "output_type": "stream",
     "text": [
      "iter >> 378; loss >> 1381.3658447265625\n"
     ]
    },
    {
     "name": "stderr",
     "output_type": "stream",
     "text": [
      "100%|██████████| 2/2 [00:02<00:00,  1.19s/it]\n",
      " 76%|███████▌  | 379/500 [15:11<04:51,  2.41s/it]"
     ]
    },
    {
     "name": "stdout",
     "output_type": "stream",
     "text": [
      "iter >> 379; loss >> 5094.5400390625\n"
     ]
    },
    {
     "name": "stderr",
     "output_type": "stream",
     "text": [
      "100%|██████████| 2/2 [00:02<00:00,  1.22s/it]\n",
      " 76%|███████▌  | 380/500 [15:14<04:50,  2.42s/it]"
     ]
    },
    {
     "name": "stdout",
     "output_type": "stream",
     "text": [
      "iter >> 380; loss >> 5070.534912109375\n"
     ]
    },
    {
     "name": "stderr",
     "output_type": "stream",
     "text": [
      "100%|██████████| 2/2 [00:02<00:00,  1.19s/it]\n",
      " 76%|███████▌  | 381/500 [15:16<04:47,  2.42s/it]"
     ]
    },
    {
     "name": "stdout",
     "output_type": "stream",
     "text": [
      "model parameter >> [tensor([0.4361], dtype=torch.float64, requires_grad=True), tensor([-0.6191], dtype=torch.float64, requires_grad=True), tensor([-0.6393], dtype=torch.float64, requires_grad=True), tensor([-0.2855], dtype=torch.float64, requires_grad=True), tensor([-0.4325], dtype=torch.float64, requires_grad=True), tensor([-0.1007], dtype=torch.float64, requires_grad=True)]\n",
      "iter >> 381; loss >> 3926.0836181640625\n"
     ]
    },
    {
     "name": "stderr",
     "output_type": "stream",
     "text": [
      "100%|██████████| 2/2 [00:02<00:00,  1.22s/it]\n",
      " 76%|███████▋  | 382/500 [15:19<04:46,  2.43s/it]"
     ]
    },
    {
     "name": "stdout",
     "output_type": "stream",
     "text": [
      "iter >> 382; loss >> 4387.15185546875\n"
     ]
    },
    {
     "name": "stderr",
     "output_type": "stream",
     "text": [
      "100%|██████████| 2/2 [00:02<00:00,  1.19s/it]\n",
      " 77%|███████▋  | 383/500 [15:21<04:42,  2.41s/it]"
     ]
    },
    {
     "name": "stdout",
     "output_type": "stream",
     "text": [
      "iter >> 383; loss >> 2566.9547729492188\n"
     ]
    },
    {
     "name": "stderr",
     "output_type": "stream",
     "text": [
      "100%|██████████| 2/2 [00:02<00:00,  1.20s/it]\n",
      " 77%|███████▋  | 384/500 [15:24<04:39,  2.41s/it]"
     ]
    },
    {
     "name": "stdout",
     "output_type": "stream",
     "text": [
      "iter >> 384; loss >> 1798.9973754882812\n"
     ]
    },
    {
     "name": "stderr",
     "output_type": "stream",
     "text": [
      "100%|██████████| 2/2 [00:02<00:00,  1.19s/it]\n",
      " 77%|███████▋  | 385/500 [15:26<04:36,  2.40s/it]"
     ]
    },
    {
     "name": "stdout",
     "output_type": "stream",
     "text": [
      "iter >> 385; loss >> 5352.574462890625\n"
     ]
    },
    {
     "name": "stderr",
     "output_type": "stream",
     "text": [
      "100%|██████████| 2/2 [00:02<00:00,  1.22s/it]\n",
      " 77%|███████▋  | 386/500 [15:28<04:35,  2.42s/it]"
     ]
    },
    {
     "name": "stdout",
     "output_type": "stream",
     "text": [
      "iter >> 386; loss >> 8751.96337890625\n"
     ]
    },
    {
     "name": "stderr",
     "output_type": "stream",
     "text": [
      "100%|██████████| 2/2 [00:02<00:00,  1.18s/it]\n",
      " 77%|███████▋  | 387/500 [15:31<04:31,  2.41s/it]"
     ]
    },
    {
     "name": "stdout",
     "output_type": "stream",
     "text": [
      "iter >> 387; loss >> 2948.1143798828125\n"
     ]
    },
    {
     "name": "stderr",
     "output_type": "stream",
     "text": [
      "100%|██████████| 2/2 [00:02<00:00,  1.18s/it]\n",
      " 78%|███████▊  | 388/500 [15:33<04:28,  2.40s/it]"
     ]
    },
    {
     "name": "stdout",
     "output_type": "stream",
     "text": [
      "iter >> 388; loss >> 3556.4783935546875\n"
     ]
    },
    {
     "name": "stderr",
     "output_type": "stream",
     "text": [
      "100%|██████████| 2/2 [00:02<00:00,  1.24s/it]\n",
      " 78%|███████▊  | 389/500 [15:36<04:29,  2.43s/it]"
     ]
    },
    {
     "name": "stdout",
     "output_type": "stream",
     "text": [
      "iter >> 389; loss >> 1722.1909790039062\n"
     ]
    },
    {
     "name": "stderr",
     "output_type": "stream",
     "text": [
      "100%|██████████| 2/2 [00:02<00:00,  1.18s/it]\n",
      " 78%|███████▊  | 390/500 [15:38<04:25,  2.41s/it]"
     ]
    },
    {
     "name": "stdout",
     "output_type": "stream",
     "text": [
      "iter >> 390; loss >> 5892.3172607421875\n"
     ]
    },
    {
     "name": "stderr",
     "output_type": "stream",
     "text": [
      "100%|██████████| 2/2 [00:02<00:00,  1.19s/it]\n",
      " 78%|███████▊  | 391/500 [15:40<04:22,  2.40s/it]"
     ]
    },
    {
     "name": "stdout",
     "output_type": "stream",
     "text": [
      "model parameter >> [tensor([0.4547], dtype=torch.float64, requires_grad=True), tensor([-0.6333], dtype=torch.float64, requires_grad=True), tensor([-0.6447], dtype=torch.float64, requires_grad=True), tensor([-0.2906], dtype=torch.float64, requires_grad=True), tensor([-0.4364], dtype=torch.float64, requires_grad=True), tensor([-0.1036], dtype=torch.float64, requires_grad=True)]\n",
      "iter >> 391; loss >> 9565.890869140625\n"
     ]
    },
    {
     "name": "stderr",
     "output_type": "stream",
     "text": [
      "100%|██████████| 2/2 [00:02<00:00,  1.18s/it]\n",
      " 78%|███████▊  | 392/500 [15:43<04:18,  2.39s/it]"
     ]
    },
    {
     "name": "stdout",
     "output_type": "stream",
     "text": [
      "iter >> 392; loss >> 4157.1142578125\n"
     ]
    },
    {
     "name": "stderr",
     "output_type": "stream",
     "text": [
      "100%|██████████| 2/2 [00:02<00:00,  1.19s/it]\n",
      " 79%|███████▊  | 393/500 [15:45<04:16,  2.39s/it]"
     ]
    },
    {
     "name": "stdout",
     "output_type": "stream",
     "text": [
      "iter >> 393; loss >> 3554.1836547851562\n"
     ]
    },
    {
     "name": "stderr",
     "output_type": "stream",
     "text": [
      "100%|██████████| 2/2 [00:02<00:00,  1.19s/it]\n",
      " 79%|███████▉  | 394/500 [15:48<04:13,  2.40s/it]"
     ]
    },
    {
     "name": "stdout",
     "output_type": "stream",
     "text": [
      "iter >> 394; loss >> 1941.56591796875\n"
     ]
    },
    {
     "name": "stderr",
     "output_type": "stream",
     "text": [
      "100%|██████████| 2/2 [00:02<00:00,  1.18s/it]\n",
      " 79%|███████▉  | 395/500 [15:50<04:11,  2.39s/it]"
     ]
    },
    {
     "name": "stdout",
     "output_type": "stream",
     "text": [
      "iter >> 395; loss >> 2194.2174072265625\n"
     ]
    },
    {
     "name": "stderr",
     "output_type": "stream",
     "text": [
      "100%|██████████| 2/2 [00:02<00:00,  1.19s/it]\n",
      " 79%|███████▉  | 396/500 [15:52<04:08,  2.39s/it]"
     ]
    },
    {
     "name": "stdout",
     "output_type": "stream",
     "text": [
      "iter >> 396; loss >> 1993.6392822265625\n"
     ]
    },
    {
     "name": "stderr",
     "output_type": "stream",
     "text": [
      "100%|██████████| 2/2 [00:02<00:00,  1.17s/it]\n",
      " 79%|███████▉  | 397/500 [15:55<04:05,  2.38s/it]"
     ]
    },
    {
     "name": "stdout",
     "output_type": "stream",
     "text": [
      "iter >> 397; loss >> 903.9257202148438\n"
     ]
    },
    {
     "name": "stderr",
     "output_type": "stream",
     "text": [
      "100%|██████████| 2/2 [00:02<00:00,  1.28s/it]\n",
      " 80%|███████▉  | 398/500 [15:57<04:08,  2.44s/it]"
     ]
    },
    {
     "name": "stdout",
     "output_type": "stream",
     "text": [
      "iter >> 398; loss >> 3106.230224609375\n"
     ]
    },
    {
     "name": "stderr",
     "output_type": "stream",
     "text": [
      "100%|██████████| 2/2 [00:03<00:00,  1.54s/it]\n",
      " 80%|███████▉  | 399/500 [16:00<04:26,  2.63s/it]"
     ]
    },
    {
     "name": "stdout",
     "output_type": "stream",
     "text": [
      "iter >> 399; loss >> 15919.302734375\n"
     ]
    },
    {
     "name": "stderr",
     "output_type": "stream",
     "text": [
      "100%|██████████| 2/2 [00:02<00:00,  1.30s/it]\n",
      " 80%|████████  | 400/500 [16:03<04:23,  2.63s/it]"
     ]
    },
    {
     "name": "stdout",
     "output_type": "stream",
     "text": [
      "iter >> 400; loss >> 2733.5264282226562\n"
     ]
    },
    {
     "name": "stderr",
     "output_type": "stream",
     "text": [
      "100%|██████████| 2/2 [00:02<00:00,  1.19s/it]\n",
      " 80%|████████  | 401/500 [16:05<04:13,  2.56s/it]"
     ]
    },
    {
     "name": "stdout",
     "output_type": "stream",
     "text": [
      "model parameter >> [tensor([0.4732], dtype=torch.float64, requires_grad=True), tensor([-0.6469], dtype=torch.float64, requires_grad=True), tensor([-0.6507], dtype=torch.float64, requires_grad=True), tensor([-0.2961], dtype=torch.float64, requires_grad=True), tensor([-0.4406], dtype=torch.float64, requires_grad=True), tensor([-0.1069], dtype=torch.float64, requires_grad=True)]\n",
      "iter >> 401; loss >> 2916.221923828125\n"
     ]
    },
    {
     "name": "stderr",
     "output_type": "stream",
     "text": [
      "100%|██████████| 2/2 [00:02<00:00,  1.19s/it]\n",
      " 80%|████████  | 402/500 [16:08<04:05,  2.51s/it]"
     ]
    },
    {
     "name": "stdout",
     "output_type": "stream",
     "text": [
      "iter >> 402; loss >> 4507.846435546875\n"
     ]
    },
    {
     "name": "stderr",
     "output_type": "stream",
     "text": [
      "100%|██████████| 2/2 [00:02<00:00,  1.20s/it]\n",
      " 81%|████████  | 403/500 [16:10<04:00,  2.48s/it]"
     ]
    },
    {
     "name": "stdout",
     "output_type": "stream",
     "text": [
      "iter >> 403; loss >> 2868.873291015625\n"
     ]
    },
    {
     "name": "stderr",
     "output_type": "stream",
     "text": [
      "100%|██████████| 2/2 [00:02<00:00,  1.18s/it]\n",
      " 81%|████████  | 404/500 [16:13<03:54,  2.45s/it]"
     ]
    },
    {
     "name": "stdout",
     "output_type": "stream",
     "text": [
      "iter >> 404; loss >> 3115.672607421875\n"
     ]
    },
    {
     "name": "stderr",
     "output_type": "stream",
     "text": [
      "100%|██████████| 2/2 [00:02<00:00,  1.19s/it]\n",
      " 81%|████████  | 405/500 [16:15<03:51,  2.43s/it]"
     ]
    },
    {
     "name": "stdout",
     "output_type": "stream",
     "text": [
      "iter >> 405; loss >> 2518.5927734375\n"
     ]
    },
    {
     "name": "stderr",
     "output_type": "stream",
     "text": [
      "100%|██████████| 2/2 [00:02<00:00,  1.29s/it]\n",
      " 81%|████████  | 406/500 [16:18<03:53,  2.49s/it]"
     ]
    },
    {
     "name": "stdout",
     "output_type": "stream",
     "text": [
      "iter >> 406; loss >> 6409.792236328125\n"
     ]
    },
    {
     "name": "stderr",
     "output_type": "stream",
     "text": [
      "100%|██████████| 2/2 [00:02<00:00,  1.18s/it]\n",
      " 81%|████████▏ | 407/500 [16:20<03:48,  2.45s/it]"
     ]
    },
    {
     "name": "stdout",
     "output_type": "stream",
     "text": [
      "iter >> 407; loss >> 1438.3085021972656\n"
     ]
    },
    {
     "name": "stderr",
     "output_type": "stream",
     "text": [
      "100%|██████████| 2/2 [00:02<00:00,  1.19s/it]\n",
      " 82%|████████▏ | 408/500 [16:22<03:44,  2.44s/it]"
     ]
    },
    {
     "name": "stdout",
     "output_type": "stream",
     "text": [
      "iter >> 408; loss >> 4753.5830078125\n"
     ]
    },
    {
     "name": "stderr",
     "output_type": "stream",
     "text": [
      "100%|██████████| 2/2 [00:02<00:00,  1.25s/it]\n",
      " 82%|████████▏ | 409/500 [16:25<03:43,  2.46s/it]"
     ]
    },
    {
     "name": "stdout",
     "output_type": "stream",
     "text": [
      "iter >> 409; loss >> 1260.42333984375\n"
     ]
    },
    {
     "name": "stderr",
     "output_type": "stream",
     "text": [
      "100%|██████████| 2/2 [00:02<00:00,  1.17s/it]\n",
      " 82%|████████▏ | 410/500 [16:27<03:38,  2.43s/it]"
     ]
    },
    {
     "name": "stdout",
     "output_type": "stream",
     "text": [
      "iter >> 410; loss >> 1157.9782104492188\n"
     ]
    },
    {
     "name": "stderr",
     "output_type": "stream",
     "text": [
      "100%|██████████| 2/2 [00:02<00:00,  1.18s/it]\n",
      " 82%|████████▏ | 411/500 [16:30<03:34,  2.41s/it]"
     ]
    },
    {
     "name": "stdout",
     "output_type": "stream",
     "text": [
      "model parameter >> [tensor([0.4916], dtype=torch.float64, requires_grad=True), tensor([-0.6601], dtype=torch.float64, requires_grad=True), tensor([-0.6556], dtype=torch.float64, requires_grad=True), tensor([-0.3009], dtype=torch.float64, requires_grad=True), tensor([-0.4444], dtype=torch.float64, requires_grad=True), tensor([-0.1099], dtype=torch.float64, requires_grad=True)]\n",
      "iter >> 411; loss >> 2689.207275390625\n"
     ]
    },
    {
     "name": "stderr",
     "output_type": "stream",
     "text": [
      "100%|██████████| 2/2 [00:02<00:00,  1.38s/it]\n",
      " 82%|████████▏ | 412/500 [16:32<03:42,  2.52s/it]"
     ]
    },
    {
     "name": "stdout",
     "output_type": "stream",
     "text": [
      "iter >> 412; loss >> 3477.33251953125\n"
     ]
    },
    {
     "name": "stderr",
     "output_type": "stream",
     "text": [
      "100%|██████████| 2/2 [00:02<00:00,  1.43s/it]\n",
      " 83%|████████▎ | 413/500 [16:35<03:48,  2.63s/it]"
     ]
    },
    {
     "name": "stdout",
     "output_type": "stream",
     "text": [
      "iter >> 413; loss >> 1831.2923583984375\n"
     ]
    },
    {
     "name": "stderr",
     "output_type": "stream",
     "text": [
      "100%|██████████| 2/2 [00:02<00:00,  1.28s/it]\n",
      " 83%|████████▎ | 414/500 [16:38<03:44,  2.61s/it]"
     ]
    },
    {
     "name": "stdout",
     "output_type": "stream",
     "text": [
      "iter >> 414; loss >> 1360.0234375\n"
     ]
    },
    {
     "name": "stderr",
     "output_type": "stream",
     "text": [
      "100%|██████████| 2/2 [00:02<00:00,  1.18s/it]\n",
      " 83%|████████▎ | 415/500 [16:40<03:36,  2.54s/it]"
     ]
    },
    {
     "name": "stdout",
     "output_type": "stream",
     "text": [
      "iter >> 415; loss >> 1610.0718994140625\n"
     ]
    },
    {
     "name": "stderr",
     "output_type": "stream",
     "text": [
      "100%|██████████| 2/2 [00:02<00:00,  1.46s/it]\n",
      " 83%|████████▎ | 416/500 [16:43<03:43,  2.66s/it]"
     ]
    },
    {
     "name": "stdout",
     "output_type": "stream",
     "text": [
      "iter >> 416; loss >> 1762.9762878417969\n"
     ]
    },
    {
     "name": "stderr",
     "output_type": "stream",
     "text": [
      "100%|██████████| 2/2 [00:02<00:00,  1.45s/it]\n",
      " 83%|████████▎ | 417/500 [16:46<03:47,  2.74s/it]"
     ]
    },
    {
     "name": "stdout",
     "output_type": "stream",
     "text": [
      "iter >> 417; loss >> 3105.9966430664062\n"
     ]
    },
    {
     "name": "stderr",
     "output_type": "stream",
     "text": [
      "100%|██████████| 2/2 [00:02<00:00,  1.46s/it]\n",
      " 84%|████████▎ | 418/500 [16:49<03:49,  2.80s/it]"
     ]
    },
    {
     "name": "stdout",
     "output_type": "stream",
     "text": [
      "iter >> 418; loss >> 1820.1513061523438\n"
     ]
    },
    {
     "name": "stderr",
     "output_type": "stream",
     "text": [
      "100%|██████████| 2/2 [00:02<00:00,  1.18s/it]\n",
      " 84%|████████▍ | 419/500 [16:51<03:36,  2.67s/it]"
     ]
    },
    {
     "name": "stdout",
     "output_type": "stream",
     "text": [
      "iter >> 419; loss >> 2094.97216796875\n"
     ]
    },
    {
     "name": "stderr",
     "output_type": "stream",
     "text": [
      "100%|██████████| 2/2 [00:02<00:00,  1.19s/it]\n",
      " 84%|████████▍ | 420/500 [16:54<03:26,  2.58s/it]"
     ]
    },
    {
     "name": "stdout",
     "output_type": "stream",
     "text": [
      "iter >> 420; loss >> 3898.5042724609375\n"
     ]
    },
    {
     "name": "stderr",
     "output_type": "stream",
     "text": [
      "100%|██████████| 2/2 [00:02<00:00,  1.26s/it]\n",
      " 84%|████████▍ | 421/500 [16:56<03:23,  2.57s/it]"
     ]
    },
    {
     "name": "stdout",
     "output_type": "stream",
     "text": [
      "model parameter >> [tensor([0.5098], dtype=torch.float64, requires_grad=True), tensor([-0.6728], dtype=torch.float64, requires_grad=True), tensor([-0.6604], dtype=torch.float64, requires_grad=True), tensor([-0.3057], dtype=torch.float64, requires_grad=True), tensor([-0.4470], dtype=torch.float64, requires_grad=True), tensor([-0.1117], dtype=torch.float64, requires_grad=True)]\n",
      "iter >> 421; loss >> 2471.2005615234375\n"
     ]
    },
    {
     "name": "stderr",
     "output_type": "stream",
     "text": [
      "100%|██████████| 2/2 [00:02<00:00,  1.48s/it]\n",
      " 84%|████████▍ | 422/500 [16:59<03:30,  2.69s/it]"
     ]
    },
    {
     "name": "stdout",
     "output_type": "stream",
     "text": [
      "iter >> 422; loss >> 1714.4509887695312\n"
     ]
    },
    {
     "name": "stderr",
     "output_type": "stream",
     "text": [
      "100%|██████████| 2/2 [00:02<00:00,  1.49s/it]\n",
      " 85%|████████▍ | 423/500 [17:02<03:34,  2.78s/it]"
     ]
    },
    {
     "name": "stdout",
     "output_type": "stream",
     "text": [
      "iter >> 423; loss >> 1717.110595703125\n"
     ]
    },
    {
     "name": "stderr",
     "output_type": "stream",
     "text": [
      "100%|██████████| 2/2 [00:02<00:00,  1.46s/it]\n",
      " 85%|████████▍ | 424/500 [17:05<03:34,  2.83s/it]"
     ]
    },
    {
     "name": "stdout",
     "output_type": "stream",
     "text": [
      "iter >> 424; loss >> 2425.7430419921875\n"
     ]
    },
    {
     "name": "stderr",
     "output_type": "stream",
     "text": [
      "100%|██████████| 2/2 [00:02<00:00,  1.47s/it]\n",
      " 85%|████████▌ | 425/500 [17:08<03:34,  2.87s/it]"
     ]
    },
    {
     "name": "stdout",
     "output_type": "stream",
     "text": [
      "iter >> 425; loss >> 2175.6493530273438\n"
     ]
    },
    {
     "name": "stderr",
     "output_type": "stream",
     "text": [
      "100%|██████████| 2/2 [00:02<00:00,  1.30s/it]\n",
      " 85%|████████▌ | 426/500 [17:11<03:26,  2.79s/it]"
     ]
    },
    {
     "name": "stdout",
     "output_type": "stream",
     "text": [
      "iter >> 426; loss >> 1209.7257080078125\n"
     ]
    },
    {
     "name": "stderr",
     "output_type": "stream",
     "text": [
      "100%|██████████| 2/2 [00:02<00:00,  1.18s/it]\n",
      " 85%|████████▌ | 427/500 [17:13<03:14,  2.67s/it]"
     ]
    },
    {
     "name": "stdout",
     "output_type": "stream",
     "text": [
      "iter >> 427; loss >> 1414.1707153320312\n"
     ]
    },
    {
     "name": "stderr",
     "output_type": "stream",
     "text": [
      "100%|██████████| 2/2 [00:02<00:00,  1.46s/it]\n",
      " 86%|████████▌ | 428/500 [17:16<03:17,  2.75s/it]"
     ]
    },
    {
     "name": "stdout",
     "output_type": "stream",
     "text": [
      "iter >> 428; loss >> 1386.9619140625\n"
     ]
    },
    {
     "name": "stderr",
     "output_type": "stream",
     "text": [
      "100%|██████████| 2/2 [00:02<00:00,  1.19s/it]\n",
      " 86%|████████▌ | 429/500 [17:18<03:07,  2.64s/it]"
     ]
    },
    {
     "name": "stdout",
     "output_type": "stream",
     "text": [
      "iter >> 429; loss >> 4541.167236328125\n"
     ]
    },
    {
     "name": "stderr",
     "output_type": "stream",
     "text": [
      "100%|██████████| 2/2 [00:02<00:00,  1.18s/it]\n",
      " 86%|████████▌ | 430/500 [17:21<02:58,  2.56s/it]"
     ]
    },
    {
     "name": "stdout",
     "output_type": "stream",
     "text": [
      "iter >> 430; loss >> 3569.7526245117188\n"
     ]
    },
    {
     "name": "stderr",
     "output_type": "stream",
     "text": [
      "100%|██████████| 2/2 [00:02<00:00,  1.18s/it]\n",
      " 86%|████████▌ | 431/500 [17:23<02:52,  2.50s/it]"
     ]
    },
    {
     "name": "stdout",
     "output_type": "stream",
     "text": [
      "model parameter >> [tensor([0.5278], dtype=torch.float64, requires_grad=True), tensor([-0.6856], dtype=torch.float64, requires_grad=True), tensor([-0.6649], dtype=torch.float64, requires_grad=True), tensor([-0.3102], dtype=torch.float64, requires_grad=True), tensor([-0.4494], dtype=torch.float64, requires_grad=True), tensor([-0.1134], dtype=torch.float64, requires_grad=True)]\n",
      "iter >> 431; loss >> 2576.6285400390625\n"
     ]
    },
    {
     "name": "stderr",
     "output_type": "stream",
     "text": [
      "100%|██████████| 2/2 [00:02<00:00,  1.19s/it]\n",
      " 86%|████████▋ | 432/500 [17:26<02:47,  2.47s/it]"
     ]
    },
    {
     "name": "stdout",
     "output_type": "stream",
     "text": [
      "iter >> 432; loss >> 3262.2006225585938\n"
     ]
    },
    {
     "name": "stderr",
     "output_type": "stream",
     "text": [
      "100%|██████████| 2/2 [00:02<00:00,  1.36s/it]\n",
      " 87%|████████▋ | 433/500 [17:28<02:50,  2.55s/it]"
     ]
    },
    {
     "name": "stdout",
     "output_type": "stream",
     "text": [
      "iter >> 433; loss >> 4443.919921875\n"
     ]
    },
    {
     "name": "stderr",
     "output_type": "stream",
     "text": [
      "100%|██████████| 2/2 [00:02<00:00,  1.18s/it]\n",
      " 87%|████████▋ | 434/500 [17:31<02:44,  2.49s/it]"
     ]
    },
    {
     "name": "stdout",
     "output_type": "stream",
     "text": [
      "iter >> 434; loss >> 1154.5126953125\n"
     ]
    },
    {
     "name": "stderr",
     "output_type": "stream",
     "text": [
      "100%|██████████| 2/2 [00:02<00:00,  1.18s/it]\n",
      " 87%|████████▋ | 435/500 [17:33<02:39,  2.46s/it]"
     ]
    },
    {
     "name": "stdout",
     "output_type": "stream",
     "text": [
      "iter >> 435; loss >> 5389.345458984375\n"
     ]
    },
    {
     "name": "stderr",
     "output_type": "stream",
     "text": [
      "100%|██████████| 2/2 [00:02<00:00,  1.18s/it]\n",
      " 87%|████████▋ | 436/500 [17:35<02:35,  2.43s/it]"
     ]
    },
    {
     "name": "stdout",
     "output_type": "stream",
     "text": [
      "iter >> 436; loss >> 1348.9747314453125\n"
     ]
    },
    {
     "name": "stderr",
     "output_type": "stream",
     "text": [
      "100%|██████████| 2/2 [00:02<00:00,  1.18s/it]\n",
      " 87%|████████▋ | 437/500 [17:38<02:31,  2.41s/it]"
     ]
    },
    {
     "name": "stdout",
     "output_type": "stream",
     "text": [
      "iter >> 437; loss >> 1409.5656127929688\n"
     ]
    },
    {
     "name": "stderr",
     "output_type": "stream",
     "text": [
      "100%|██████████| 2/2 [00:02<00:00,  1.47s/it]\n",
      " 88%|████████▊ | 438/500 [17:41<02:39,  2.57s/it]"
     ]
    },
    {
     "name": "stdout",
     "output_type": "stream",
     "text": [
      "iter >> 438; loss >> 1177.1669006347656\n"
     ]
    },
    {
     "name": "stderr",
     "output_type": "stream",
     "text": [
      "100%|██████████| 2/2 [00:02<00:00,  1.46s/it]\n",
      " 88%|████████▊ | 439/500 [17:44<02:43,  2.68s/it]"
     ]
    },
    {
     "name": "stdout",
     "output_type": "stream",
     "text": [
      "iter >> 439; loss >> 1948.2937622070312\n"
     ]
    },
    {
     "name": "stderr",
     "output_type": "stream",
     "text": [
      "100%|██████████| 2/2 [00:02<00:00,  1.20s/it]\n",
      " 88%|████████▊ | 440/500 [17:46<02:36,  2.60s/it]"
     ]
    },
    {
     "name": "stdout",
     "output_type": "stream",
     "text": [
      "iter >> 440; loss >> 1483.3608093261719\n"
     ]
    },
    {
     "name": "stderr",
     "output_type": "stream",
     "text": [
      "100%|██████████| 2/2 [00:02<00:00,  1.18s/it]\n",
      " 88%|████████▊ | 441/500 [17:48<02:29,  2.54s/it]"
     ]
    },
    {
     "name": "stdout",
     "output_type": "stream",
     "text": [
      "model parameter >> [tensor([0.5461], dtype=torch.float64, requires_grad=True), tensor([-0.6983], dtype=torch.float64, requires_grad=True), tensor([-0.6692], dtype=torch.float64, requires_grad=True), tensor([-0.3145], dtype=torch.float64, requires_grad=True), tensor([-0.4522], dtype=torch.float64, requires_grad=True), tensor([-0.1154], dtype=torch.float64, requires_grad=True)]\n",
      "iter >> 441; loss >> 2617.3706665039062\n"
     ]
    },
    {
     "name": "stderr",
     "output_type": "stream",
     "text": [
      "100%|██████████| 2/2 [00:02<00:00,  1.20s/it]\n",
      " 88%|████████▊ | 442/500 [17:51<02:24,  2.50s/it]"
     ]
    },
    {
     "name": "stdout",
     "output_type": "stream",
     "text": [
      "iter >> 442; loss >> 4385.64501953125\n"
     ]
    },
    {
     "name": "stderr",
     "output_type": "stream",
     "text": [
      "100%|██████████| 2/2 [00:02<00:00,  1.47s/it]\n",
      " 89%|████████▊ | 443/500 [17:54<02:30,  2.63s/it]"
     ]
    },
    {
     "name": "stdout",
     "output_type": "stream",
     "text": [
      "iter >> 443; loss >> 2467.4080200195312\n"
     ]
    },
    {
     "name": "stderr",
     "output_type": "stream",
     "text": [
      "100%|██████████| 2/2 [00:02<00:00,  1.29s/it]\n",
      " 89%|████████▉ | 444/500 [17:56<02:26,  2.62s/it]"
     ]
    },
    {
     "name": "stdout",
     "output_type": "stream",
     "text": [
      "iter >> 444; loss >> 4052.736328125\n"
     ]
    },
    {
     "name": "stderr",
     "output_type": "stream",
     "text": [
      "100%|██████████| 2/2 [00:02<00:00,  1.30s/it]\n",
      " 89%|████████▉ | 445/500 [17:59<02:23,  2.62s/it]"
     ]
    },
    {
     "name": "stdout",
     "output_type": "stream",
     "text": [
      "iter >> 445; loss >> 2681.8594970703125\n"
     ]
    },
    {
     "name": "stderr",
     "output_type": "stream",
     "text": [
      "100%|██████████| 2/2 [00:02<00:00,  1.37s/it]\n",
      " 89%|████████▉ | 446/500 [18:02<02:23,  2.66s/it]"
     ]
    },
    {
     "name": "stdout",
     "output_type": "stream",
     "text": [
      "iter >> 446; loss >> 2612.3187255859375\n"
     ]
    },
    {
     "name": "stderr",
     "output_type": "stream",
     "text": [
      "100%|██████████| 2/2 [00:02<00:00,  1.48s/it]\n",
      " 89%|████████▉ | 447/500 [18:05<02:25,  2.75s/it]"
     ]
    },
    {
     "name": "stdout",
     "output_type": "stream",
     "text": [
      "iter >> 447; loss >> 3394.06494140625\n"
     ]
    },
    {
     "name": "stderr",
     "output_type": "stream",
     "text": [
      "100%|██████████| 2/2 [00:02<00:00,  1.47s/it]\n",
      " 90%|████████▉ | 448/500 [18:08<02:26,  2.81s/it]"
     ]
    },
    {
     "name": "stdout",
     "output_type": "stream",
     "text": [
      "iter >> 448; loss >> 1920.69677734375\n"
     ]
    },
    {
     "name": "stderr",
     "output_type": "stream",
     "text": [
      "100%|██████████| 2/2 [00:02<00:00,  1.34s/it]\n",
      " 90%|████████▉ | 449/500 [18:10<02:21,  2.77s/it]"
     ]
    },
    {
     "name": "stdout",
     "output_type": "stream",
     "text": [
      "iter >> 449; loss >> 1181.8117980957031\n"
     ]
    },
    {
     "name": "stderr",
     "output_type": "stream",
     "text": [
      "100%|██████████| 2/2 [00:02<00:00,  1.18s/it]\n",
      " 90%|█████████ | 450/500 [18:13<02:12,  2.65s/it]"
     ]
    },
    {
     "name": "stdout",
     "output_type": "stream",
     "text": [
      "iter >> 450; loss >> 2403.1112060546875\n"
     ]
    },
    {
     "name": "stderr",
     "output_type": "stream",
     "text": [
      "100%|██████████| 2/2 [00:02<00:00,  1.18s/it]\n",
      " 90%|█████████ | 451/500 [18:15<02:05,  2.57s/it]"
     ]
    },
    {
     "name": "stdout",
     "output_type": "stream",
     "text": [
      "model parameter >> [tensor([0.5643], dtype=torch.float64, requires_grad=True), tensor([-0.7113], dtype=torch.float64, requires_grad=True), tensor([-0.6733], dtype=torch.float64, requires_grad=True), tensor([-0.3187], dtype=torch.float64, requires_grad=True), tensor([-0.4551], dtype=torch.float64, requires_grad=True), tensor([-0.1175], dtype=torch.float64, requires_grad=True)]\n",
      "iter >> 451; loss >> 3914.78564453125\n"
     ]
    },
    {
     "name": "stderr",
     "output_type": "stream",
     "text": [
      "100%|██████████| 2/2 [00:02<00:00,  1.18s/it]\n",
      " 90%|█████████ | 452/500 [18:17<02:00,  2.51s/it]"
     ]
    },
    {
     "name": "stdout",
     "output_type": "stream",
     "text": [
      "iter >> 452; loss >> 2500.5913696289062\n"
     ]
    },
    {
     "name": "stderr",
     "output_type": "stream",
     "text": [
      "100%|██████████| 2/2 [00:02<00:00,  1.40s/it]\n",
      " 91%|█████████ | 453/500 [18:20<02:02,  2.60s/it]"
     ]
    },
    {
     "name": "stdout",
     "output_type": "stream",
     "text": [
      "iter >> 453; loss >> 3228.4996337890625\n"
     ]
    },
    {
     "name": "stderr",
     "output_type": "stream",
     "text": [
      "100%|██████████| 2/2 [00:02<00:00,  1.18s/it]\n",
      " 91%|█████████ | 454/500 [18:23<01:56,  2.53s/it]"
     ]
    },
    {
     "name": "stdout",
     "output_type": "stream",
     "text": [
      "iter >> 454; loss >> 2842.9293212890625\n"
     ]
    },
    {
     "name": "stderr",
     "output_type": "stream",
     "text": [
      "100%|██████████| 2/2 [00:02<00:00,  1.38s/it]\n",
      " 91%|█████████ | 455/500 [18:25<01:57,  2.60s/it]"
     ]
    },
    {
     "name": "stdout",
     "output_type": "stream",
     "text": [
      "iter >> 455; loss >> 3012.054718017578\n"
     ]
    },
    {
     "name": "stderr",
     "output_type": "stream",
     "text": [
      "100%|██████████| 2/2 [00:02<00:00,  1.28s/it]\n",
      " 91%|█████████ | 456/500 [18:28<01:54,  2.60s/it]"
     ]
    },
    {
     "name": "stdout",
     "output_type": "stream",
     "text": [
      "iter >> 456; loss >> 3187.35205078125\n"
     ]
    },
    {
     "name": "stderr",
     "output_type": "stream",
     "text": [
      "100%|██████████| 2/2 [00:02<00:00,  1.23s/it]\n",
      " 91%|█████████▏| 457/500 [18:30<01:50,  2.56s/it]"
     ]
    },
    {
     "name": "stdout",
     "output_type": "stream",
     "text": [
      "iter >> 457; loss >> 3754.886474609375\n"
     ]
    },
    {
     "name": "stderr",
     "output_type": "stream",
     "text": [
      "100%|██████████| 2/2 [00:02<00:00,  1.46s/it]\n",
      " 92%|█████████▏| 458/500 [18:33<01:52,  2.67s/it]"
     ]
    },
    {
     "name": "stdout",
     "output_type": "stream",
     "text": [
      "iter >> 458; loss >> 1823.9849853515625\n"
     ]
    },
    {
     "name": "stderr",
     "output_type": "stream",
     "text": [
      "100%|██████████| 2/2 [00:02<00:00,  1.37s/it]\n",
      " 92%|█████████▏| 459/500 [18:36<01:50,  2.70s/it]"
     ]
    },
    {
     "name": "stdout",
     "output_type": "stream",
     "text": [
      "iter >> 459; loss >> 5002.71630859375\n"
     ]
    },
    {
     "name": "stderr",
     "output_type": "stream",
     "text": [
      "100%|██████████| 2/2 [00:02<00:00,  1.21s/it]\n",
      " 92%|█████████▏| 460/500 [18:39<01:44,  2.62s/it]"
     ]
    },
    {
     "name": "stdout",
     "output_type": "stream",
     "text": [
      "iter >> 460; loss >> 2178.8524169921875\n"
     ]
    },
    {
     "name": "stderr",
     "output_type": "stream",
     "text": [
      "100%|██████████| 2/2 [00:02<00:00,  1.18s/it]\n",
      " 92%|█████████▏| 461/500 [18:41<01:39,  2.54s/it]"
     ]
    },
    {
     "name": "stdout",
     "output_type": "stream",
     "text": [
      "model parameter >> [tensor([0.5823], dtype=torch.float64, requires_grad=True), tensor([-0.7241], dtype=torch.float64, requires_grad=True), tensor([-0.6770], dtype=torch.float64, requires_grad=True), tensor([-0.3226], dtype=torch.float64, requires_grad=True), tensor([-0.4583], dtype=torch.float64, requires_grad=True), tensor([-0.1198], dtype=torch.float64, requires_grad=True)]\n",
      "iter >> 461; loss >> 1282.0493774414062\n"
     ]
    },
    {
     "name": "stderr",
     "output_type": "stream",
     "text": [
      "100%|██████████| 2/2 [00:02<00:00,  1.20s/it]\n",
      " 92%|█████████▏| 462/500 [18:43<01:35,  2.50s/it]"
     ]
    },
    {
     "name": "stdout",
     "output_type": "stream",
     "text": [
      "iter >> 462; loss >> 2728.110107421875\n"
     ]
    },
    {
     "name": "stderr",
     "output_type": "stream",
     "text": [
      "100%|██████████| 2/2 [00:02<00:00,  1.20s/it]\n",
      " 93%|█████████▎| 463/500 [18:46<01:31,  2.48s/it]"
     ]
    },
    {
     "name": "stdout",
     "output_type": "stream",
     "text": [
      "iter >> 463; loss >> 1702.141357421875\n"
     ]
    },
    {
     "name": "stderr",
     "output_type": "stream",
     "text": [
      "100%|██████████| 2/2 [00:02<00:00,  1.17s/it]\n",
      " 93%|█████████▎| 464/500 [18:48<01:27,  2.44s/it]"
     ]
    },
    {
     "name": "stdout",
     "output_type": "stream",
     "text": [
      "iter >> 464; loss >> 841.5497436523438\n"
     ]
    },
    {
     "name": "stderr",
     "output_type": "stream",
     "text": [
      "100%|██████████| 2/2 [00:02<00:00,  1.26s/it]\n",
      " 93%|█████████▎| 465/500 [18:51<01:26,  2.47s/it]"
     ]
    },
    {
     "name": "stdout",
     "output_type": "stream",
     "text": [
      "iter >> 465; loss >> 4045.56884765625\n"
     ]
    },
    {
     "name": "stderr",
     "output_type": "stream",
     "text": [
      "100%|██████████| 2/2 [00:02<00:00,  1.47s/it]\n",
      " 93%|█████████▎| 466/500 [18:54<01:28,  2.61s/it]"
     ]
    },
    {
     "name": "stdout",
     "output_type": "stream",
     "text": [
      "iter >> 466; loss >> 1494.7972412109375\n"
     ]
    },
    {
     "name": "stderr",
     "output_type": "stream",
     "text": [
      "100%|██████████| 2/2 [00:02<00:00,  1.48s/it]\n",
      " 93%|█████████▎| 467/500 [18:57<01:29,  2.72s/it]"
     ]
    },
    {
     "name": "stdout",
     "output_type": "stream",
     "text": [
      "iter >> 467; loss >> 2059.4596557617188\n"
     ]
    },
    {
     "name": "stderr",
     "output_type": "stream",
     "text": [
      "100%|██████████| 2/2 [00:02<00:00,  1.30s/it]\n",
      " 94%|█████████▎| 468/500 [18:59<01:26,  2.69s/it]"
     ]
    },
    {
     "name": "stdout",
     "output_type": "stream",
     "text": [
      "iter >> 468; loss >> 2729.5050048828125\n"
     ]
    },
    {
     "name": "stderr",
     "output_type": "stream",
     "text": [
      "100%|██████████| 2/2 [00:02<00:00,  1.18s/it]\n",
      " 94%|█████████▍| 469/500 [19:02<01:20,  2.60s/it]"
     ]
    },
    {
     "name": "stdout",
     "output_type": "stream",
     "text": [
      "iter >> 469; loss >> 8175.1171875\n"
     ]
    },
    {
     "name": "stderr",
     "output_type": "stream",
     "text": [
      "100%|██████████| 2/2 [00:02<00:00,  1.17s/it]\n",
      " 94%|█████████▍| 470/500 [19:04<01:15,  2.53s/it]"
     ]
    },
    {
     "name": "stdout",
     "output_type": "stream",
     "text": [
      "iter >> 470; loss >> 1079.835205078125\n"
     ]
    },
    {
     "name": "stderr",
     "output_type": "stream",
     "text": [
      "100%|██████████| 2/2 [00:02<00:00,  1.18s/it]\n",
      " 94%|█████████▍| 471/500 [19:06<01:11,  2.48s/it]"
     ]
    },
    {
     "name": "stdout",
     "output_type": "stream",
     "text": [
      "model parameter >> [tensor([0.6004], dtype=torch.float64, requires_grad=True), tensor([-0.7369], dtype=torch.float64, requires_grad=True), tensor([-0.6810], dtype=torch.float64, requires_grad=True), tensor([-0.3268], dtype=torch.float64, requires_grad=True), tensor([-0.4613], dtype=torch.float64, requires_grad=True), tensor([-0.1220], dtype=torch.float64, requires_grad=True)]\n",
      "iter >> 471; loss >> 7096.09716796875\n"
     ]
    },
    {
     "name": "stderr",
     "output_type": "stream",
     "text": [
      "100%|██████████| 2/2 [00:02<00:00,  1.24s/it]\n",
      " 94%|█████████▍| 472/500 [19:09<01:09,  2.49s/it]"
     ]
    },
    {
     "name": "stdout",
     "output_type": "stream",
     "text": [
      "iter >> 472; loss >> 2292.7904663085938\n"
     ]
    },
    {
     "name": "stderr",
     "output_type": "stream",
     "text": [
      "100%|██████████| 2/2 [00:02<00:00,  1.25s/it]\n",
      " 95%|█████████▍| 473/500 [19:11<01:07,  2.49s/it]"
     ]
    },
    {
     "name": "stdout",
     "output_type": "stream",
     "text": [
      "iter >> 473; loss >> 2603.96044921875\n"
     ]
    },
    {
     "name": "stderr",
     "output_type": "stream",
     "text": [
      "100%|██████████| 2/2 [00:02<00:00,  1.28s/it]\n",
      " 95%|█████████▍| 474/500 [19:14<01:05,  2.52s/it]"
     ]
    },
    {
     "name": "stdout",
     "output_type": "stream",
     "text": [
      "iter >> 474; loss >> 6878.5648193359375\n"
     ]
    },
    {
     "name": "stderr",
     "output_type": "stream",
     "text": [
      "100%|██████████| 2/2 [00:02<00:00,  1.33s/it]\n",
      " 95%|█████████▌| 475/500 [19:17<01:04,  2.57s/it]"
     ]
    },
    {
     "name": "stdout",
     "output_type": "stream",
     "text": [
      "iter >> 475; loss >> 1882.8931274414062\n"
     ]
    },
    {
     "name": "stderr",
     "output_type": "stream",
     "text": [
      "100%|██████████| 2/2 [00:02<00:00,  1.17s/it]\n",
      " 95%|█████████▌| 476/500 [19:19<01:00,  2.50s/it]"
     ]
    },
    {
     "name": "stdout",
     "output_type": "stream",
     "text": [
      "iter >> 476; loss >> 1173.0514526367188\n"
     ]
    },
    {
     "name": "stderr",
     "output_type": "stream",
     "text": [
      "100%|██████████| 2/2 [00:02<00:00,  1.25s/it]\n",
      " 95%|█████████▌| 477/500 [19:21<00:57,  2.51s/it]"
     ]
    },
    {
     "name": "stdout",
     "output_type": "stream",
     "text": [
      "iter >> 477; loss >> 1654.1494750976562\n"
     ]
    },
    {
     "name": "stderr",
     "output_type": "stream",
     "text": [
      "100%|██████████| 2/2 [00:02<00:00,  1.38s/it]\n",
      " 96%|█████████▌| 478/500 [19:24<00:56,  2.59s/it]"
     ]
    },
    {
     "name": "stdout",
     "output_type": "stream",
     "text": [
      "iter >> 478; loss >> 1300.4276733398438\n"
     ]
    },
    {
     "name": "stderr",
     "output_type": "stream",
     "text": [
      "100%|██████████| 2/2 [00:02<00:00,  1.32s/it]\n",
      " 96%|█████████▌| 479/500 [19:27<00:54,  2.61s/it]"
     ]
    },
    {
     "name": "stdout",
     "output_type": "stream",
     "text": [
      "iter >> 479; loss >> 2843.9989013671875\n"
     ]
    },
    {
     "name": "stderr",
     "output_type": "stream",
     "text": [
      "100%|██████████| 2/2 [00:02<00:00,  1.25s/it]\n",
      " 96%|█████████▌| 480/500 [19:29<00:51,  2.58s/it]"
     ]
    },
    {
     "name": "stdout",
     "output_type": "stream",
     "text": [
      "iter >> 480; loss >> 1968.8221435546875\n"
     ]
    },
    {
     "name": "stderr",
     "output_type": "stream",
     "text": [
      "100%|██████████| 2/2 [00:02<00:00,  1.47s/it]\n",
      " 96%|█████████▌| 481/500 [19:32<00:51,  2.70s/it]"
     ]
    },
    {
     "name": "stdout",
     "output_type": "stream",
     "text": [
      "model parameter >> [tensor([0.6185], dtype=torch.float64, requires_grad=True), tensor([-0.7498], dtype=torch.float64, requires_grad=True), tensor([-0.6862], dtype=torch.float64, requires_grad=True), tensor([-0.3320], dtype=torch.float64, requires_grad=True), tensor([-0.4648], dtype=torch.float64, requires_grad=True), tensor([-0.1247], dtype=torch.float64, requires_grad=True)]\n",
      "iter >> 481; loss >> 2497.7692260742188\n"
     ]
    },
    {
     "name": "stderr",
     "output_type": "stream",
     "text": [
      "100%|██████████| 2/2 [00:02<00:00,  1.47s/it]\n",
      " 96%|█████████▋| 482/500 [19:35<00:49,  2.78s/it]"
     ]
    },
    {
     "name": "stdout",
     "output_type": "stream",
     "text": [
      "iter >> 482; loss >> 3334.213623046875\n"
     ]
    },
    {
     "name": "stderr",
     "output_type": "stream",
     "text": [
      "100%|██████████| 2/2 [00:02<00:00,  1.48s/it]\n",
      " 97%|█████████▋| 483/500 [19:38<00:48,  2.83s/it]"
     ]
    },
    {
     "name": "stdout",
     "output_type": "stream",
     "text": [
      "iter >> 483; loss >> 702.9787902832031\n"
     ]
    },
    {
     "name": "stderr",
     "output_type": "stream",
     "text": [
      "100%|██████████| 2/2 [00:02<00:00,  1.45s/it]\n",
      " 97%|█████████▋| 484/500 [19:41<00:45,  2.86s/it]"
     ]
    },
    {
     "name": "stdout",
     "output_type": "stream",
     "text": [
      "iter >> 484; loss >> 872.8423461914062\n"
     ]
    },
    {
     "name": "stderr",
     "output_type": "stream",
     "text": [
      "100%|██████████| 2/2 [00:02<00:00,  1.47s/it]\n",
      " 97%|█████████▋| 485/500 [19:44<00:43,  2.89s/it]"
     ]
    },
    {
     "name": "stdout",
     "output_type": "stream",
     "text": [
      "iter >> 485; loss >> 1384.4208984375\n"
     ]
    },
    {
     "name": "stderr",
     "output_type": "stream",
     "text": [
      "100%|██████████| 2/2 [00:02<00:00,  1.44s/it]\n",
      " 97%|█████████▋| 486/500 [19:47<00:40,  2.89s/it]"
     ]
    },
    {
     "name": "stdout",
     "output_type": "stream",
     "text": [
      "iter >> 486; loss >> 780.6865234375\n"
     ]
    },
    {
     "name": "stderr",
     "output_type": "stream",
     "text": [
      "100%|██████████| 2/2 [00:02<00:00,  1.25s/it]\n",
      " 97%|█████████▋| 487/500 [19:50<00:36,  2.78s/it]"
     ]
    },
    {
     "name": "stdout",
     "output_type": "stream",
     "text": [
      "iter >> 487; loss >> 2598.37353515625\n"
     ]
    },
    {
     "name": "stderr",
     "output_type": "stream",
     "text": [
      "100%|██████████| 2/2 [00:02<00:00,  1.48s/it]\n",
      " 98%|█████████▊| 488/500 [19:53<00:34,  2.83s/it]"
     ]
    },
    {
     "name": "stdout",
     "output_type": "stream",
     "text": [
      "iter >> 488; loss >> 2652.8408203125\n"
     ]
    },
    {
     "name": "stderr",
     "output_type": "stream",
     "text": [
      "100%|██████████| 2/2 [00:02<00:00,  1.39s/it]\n",
      " 98%|█████████▊| 489/500 [19:55<00:31,  2.82s/it]"
     ]
    },
    {
     "name": "stdout",
     "output_type": "stream",
     "text": [
      "iter >> 489; loss >> 2051.2562561035156\n"
     ]
    },
    {
     "name": "stderr",
     "output_type": "stream",
     "text": [
      "100%|██████████| 2/2 [00:02<00:00,  1.28s/it]\n",
      " 98%|█████████▊| 490/500 [19:58<00:27,  2.75s/it]"
     ]
    },
    {
     "name": "stdout",
     "output_type": "stream",
     "text": [
      "iter >> 490; loss >> 1558.6763916015625\n"
     ]
    },
    {
     "name": "stderr",
     "output_type": "stream",
     "text": [
      "100%|██████████| 2/2 [00:02<00:00,  1.18s/it]\n",
      " 98%|█████████▊| 491/500 [20:00<00:23,  2.64s/it]"
     ]
    },
    {
     "name": "stdout",
     "output_type": "stream",
     "text": [
      "model parameter >> [tensor([0.6361], dtype=torch.float64, requires_grad=True), tensor([-0.7620], dtype=torch.float64, requires_grad=True), tensor([-0.6905], dtype=torch.float64, requires_grad=True), tensor([-0.3364], dtype=torch.float64, requires_grad=True), tensor([-0.4672], dtype=torch.float64, requires_grad=True), tensor([-0.1264], dtype=torch.float64, requires_grad=True)]\n",
      "iter >> 491; loss >> 3560.1787109375\n"
     ]
    },
    {
     "name": "stderr",
     "output_type": "stream",
     "text": [
      "100%|██████████| 2/2 [00:02<00:00,  1.18s/it]\n",
      " 98%|█████████▊| 492/500 [20:03<00:20,  2.56s/it]"
     ]
    },
    {
     "name": "stdout",
     "output_type": "stream",
     "text": [
      "iter >> 492; loss >> 2674.2864990234375\n"
     ]
    },
    {
     "name": "stderr",
     "output_type": "stream",
     "text": [
      "100%|██████████| 2/2 [00:02<00:00,  1.19s/it]\n",
      " 99%|█████████▊| 493/500 [20:05<00:17,  2.51s/it]"
     ]
    },
    {
     "name": "stdout",
     "output_type": "stream",
     "text": [
      "iter >> 493; loss >> 2171.84619140625\n"
     ]
    },
    {
     "name": "stderr",
     "output_type": "stream",
     "text": [
      "100%|██████████| 2/2 [00:02<00:00,  1.37s/it]\n",
      " 99%|█████████▉| 494/500 [20:08<00:15,  2.58s/it]"
     ]
    },
    {
     "name": "stdout",
     "output_type": "stream",
     "text": [
      "iter >> 494; loss >> 1664.2044067382812\n"
     ]
    },
    {
     "name": "stderr",
     "output_type": "stream",
     "text": [
      "100%|██████████| 2/2 [00:02<00:00,  1.43s/it]\n",
      " 99%|█████████▉| 495/500 [20:11<00:13,  2.67s/it]"
     ]
    },
    {
     "name": "stdout",
     "output_type": "stream",
     "text": [
      "iter >> 495; loss >> 2457.015869140625\n"
     ]
    },
    {
     "name": "stderr",
     "output_type": "stream",
     "text": [
      "100%|██████████| 2/2 [00:02<00:00,  1.36s/it]\n",
      " 99%|█████████▉| 496/500 [20:13<00:10,  2.69s/it]"
     ]
    },
    {
     "name": "stdout",
     "output_type": "stream",
     "text": [
      "iter >> 496; loss >> 718.1263732910156\n"
     ]
    },
    {
     "name": "stderr",
     "output_type": "stream",
     "text": [
      "100%|██████████| 2/2 [00:03<00:00,  1.53s/it]\n",
      " 99%|█████████▉| 497/500 [20:17<00:08,  2.80s/it]"
     ]
    },
    {
     "name": "stdout",
     "output_type": "stream",
     "text": [
      "iter >> 497; loss >> 3410.39453125\n"
     ]
    },
    {
     "name": "stderr",
     "output_type": "stream",
     "text": [
      "100%|██████████| 2/2 [00:02<00:00,  1.46s/it]\n",
      "100%|█████████▉| 498/500 [20:19<00:05,  2.84s/it]"
     ]
    },
    {
     "name": "stdout",
     "output_type": "stream",
     "text": [
      "iter >> 498; loss >> 2480.8682250976562\n"
     ]
    },
    {
     "name": "stderr",
     "output_type": "stream",
     "text": [
      "100%|██████████| 2/2 [00:02<00:00,  1.47s/it]\n",
      "100%|█████████▉| 499/500 [20:22<00:02,  2.88s/it]"
     ]
    },
    {
     "name": "stdout",
     "output_type": "stream",
     "text": [
      "iter >> 499; loss >> 1144.5474243164062\n"
     ]
    },
    {
     "name": "stderr",
     "output_type": "stream",
     "text": [
      "100%|██████████| 2/2 [00:02<00:00,  1.47s/it]\n",
      "100%|██████████| 500/500 [20:25<00:00,  2.45s/it]"
     ]
    },
    {
     "name": "stdout",
     "output_type": "stream",
     "text": [
      "iter >> 500; loss >> 1268.7316589355469\n"
     ]
    },
    {
     "name": "stderr",
     "output_type": "stream",
     "text": [
      "\n"
     ]
    }
   ],
   "source": [
    "np.random.seed(1)\n",
    "torch.manual_seed(1)\n",
    "\n",
    "def generate_incomplete_data(num_sample:int=10, time_horizon:float=0.5):\n",
    "        gen = Logic_Model_Generator()\n",
    "        data = gen.generate_data(num_sample=num_sample, time_horizon=time_horizon)\n",
    "        action_history = {}\n",
    "        for i in range(num_sample):\n",
    "            action_history_ = dict([(key, data[i][key]) for key in [1,2]])\n",
    "            action_history[i] = action_history_\n",
    "        #NOTE: info\n",
    "        print('[INFO] data has been generated!!!')\n",
    "        return action_history\n",
    "\n",
    "action_history = generate_incomplete_data(num_sample=24,time_horizon=4)\n",
    "model = Logic_Model_Incomplete_Data(time_horizon=4,action_history=action_history,hidden_size=(15,10),output_size=(10,2),batch_size=12,num_layers=(1,1))\n",
    "losses, variational_parameter_store, model_parameters_store  = model.train_model(num_iter=500,lr=(1e-3,0.01))"
   ]
  },
  {
   "cell_type": "code",
   "execution_count": 152,
   "metadata": {},
   "outputs": [
    {
     "data": {
      "image/png": "[encoded data removed]",
      "text/plain": [
       "<Figure size 1350x450 with 1 Axes>"
      ]
     },
     "metadata": {},
     "output_type": "display_data"
    }
   ],
   "source": [
    "model.plot_loss(losses)"
   ]
  }
 ],
 "metadata": {
  "kernelspec": {
   "display_name": "Python 3.7.15 ('TLPP_torch': conda)",
   "language": "python",
   "name": "python3"
  },
  "language_info": {
   "codemirror_mode": {
    "name": "ipython",
    "version": 3
   },
   "file_extension": ".py",
   "mimetype": "text/x-python",
   "name": "python",
   "nbconvert_exporter": "python",
   "pygments_lexer": "ipython3",
   "version": "3.7.15"
  },
  "orig_nbformat": 4,
  "vscode": {
   "interpreter": {
    "hash": "bf9126b592b2a1dfbdecf8d86a88a5e765901dd387b0c754270277346f979325"
   }
  }
 },
 "nbformat": 4,
 "nbformat_minor": 2
}
